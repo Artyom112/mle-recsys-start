{
 "cells": [
  {
   "cell_type": "markdown",
   "id": "6c9d506c-9c8c-4707-9613-02510f8b4518",
   "metadata": {
    "id": "6c9d506c-9c8c-4707-9613-02510f8b4518"
   },
   "source": [
    "# Холодный старт"
   ]
  },
  {
   "cell_type": "markdown",
   "id": "a7c572ed-5df4-4ad3-8a20-d691bafeb261",
   "metadata": {
    "id": "a7c572ed-5df4-4ad3-8a20-d691bafeb261"
   },
   "source": [
    "Данные - специально подготовленная выборка из полного набора, описанного здесь: https://mengtingwan.github.io/data/goodreads#datasets с дополнениями из https://www.kaggle.com/datasets/austinreese/goodreads-books:\n",
    "- books: перечень книг (~44 тыс.) из списка https://www.goodreads.com/list/show/1.Best_Books_Ever (совпадение по book id),\n",
    "- interactions: взаимодействие пользователей с книгами\n",
    "\n",
    "Основной массив данных был собран в конце 2017."
   ]
  },
  {
   "cell_type": "code",
   "execution_count": 1,
   "id": "c6e28b2f-3822-4e27-b576-9bc42b279b32",
   "metadata": {
    "id": "c6e28b2f-3822-4e27-b576-9bc42b279b32"
   },
   "outputs": [],
   "source": [
    "import logging\n",
    "\n",
    "import matplotlib.pyplot as plt\n",
    "import numpy as np\n",
    "import pandas as pd\n",
    "import seaborn as sns\n",
    "import datetime\n",
    "import os"
   ]
  },
  {
   "cell_type": "code",
   "execution_count": 2,
   "id": "4e53bc65-3e32-454b-b353-e9b95489c26c",
   "metadata": {
    "id": "4e53bc65-3e32-454b-b353-e9b95489c26c"
   },
   "outputs": [],
   "source": [
    "%matplotlib inline\n",
    "%config InlineBackend.figure_format = 'png'\n",
    "%config InlineBackend.figure_format = 'retina'"
   ]
  },
  {
   "cell_type": "markdown",
   "id": "f8e9a344-d270-4cdb-8f45-5661083c9463",
   "metadata": {
    "id": "f8e9a344-d270-4cdb-8f45-5661083c9463"
   },
   "source": [
    "Создаём логгер, который удобен для использования в ноутбуке."
   ]
  },
  {
   "cell_type": "markdown",
   "id": "b337b175-a36a-48a6-9d8d-68c0a9acd80f",
   "metadata": {
    "id": "b337b175-a36a-48a6-9d8d-68c0a9acd80f"
   },
   "source": [
    "Загружаем данные как они есть, начинаем на них смотреть: какие в них есть сущности, атрибуты, распределения."
   ]
  },
  {
   "cell_type": "code",
   "execution_count": 3,
   "id": "2765664a-bbab-4dee-baae-ad31c251808a",
   "metadata": {
    "id": "2765664a-bbab-4dee-baae-ad31c251808a"
   },
   "outputs": [],
   "source": [
    "books = pd.read_parquet('books.parquet')"
   ]
  },
  {
   "cell_type": "code",
   "execution_count": 4,
   "id": "edc94bb6-feda-4ee7-95fb-cece33c79fc9",
   "metadata": {
    "colab": {
     "base_uri": "https://localhost:8080/"
    },
    "executionInfo": {
     "elapsed": 159,
     "status": "ok",
     "timestamp": 1747648386737,
     "user": {
      "displayName": "jojn doe",
      "userId": "16325243380613586791"
     },
     "user_tz": -180
    },
    "id": "edc94bb6-feda-4ee7-95fb-cece33c79fc9",
    "outputId": "01d377b2-2e5e-476a-aa4d-e636d0444918"
   },
   "outputs": [
    {
     "name": "stdout",
     "output_type": "stream",
     "text": [
      "<class 'pandas.core.frame.DataFrame'>\n",
      "Index: 43312 entries, 3 to 2360448\n",
      "Data columns (total 19 columns):\n",
      " #   Column                Non-Null Count  Dtype  \n",
      "---  ------                --------------  -----  \n",
      " 0   book_id               43312 non-null  int64  \n",
      " 1   author                43312 non-null  object \n",
      " 2   title                 43312 non-null  object \n",
      " 3   description           43312 non-null  object \n",
      " 4   genre_and_votes       43312 non-null  object \n",
      " 5   num_pages             37001 non-null  Int64  \n",
      " 6   average_rating        43312 non-null  float64\n",
      " 7   ratings_count         43312 non-null  Int64  \n",
      " 8   text_reviews_count    43312 non-null  int64  \n",
      " 9   publisher             43312 non-null  object \n",
      " 10  publication_year      35891 non-null  Int64  \n",
      " 11  country_code          43312 non-null  object \n",
      " 12  language_code         43312 non-null  object \n",
      " 13  format                43312 non-null  object \n",
      " 14  is_ebook              43312 non-null  bool   \n",
      " 15  isbn                  43312 non-null  object \n",
      " 16  isbn13                43312 non-null  object \n",
      " 17  genre_and_votes_dict  42391 non-null  object \n",
      " 18  genre_and_votes_str   42391 non-null  object \n",
      "dtypes: Int64(3), bool(1), float64(1), int64(2), object(12)\n",
      "memory usage: 6.4+ MB\n"
     ]
    }
   ],
   "source": [
    "books.info()"
   ]
  },
  {
   "cell_type": "markdown",
   "id": "46407f64-2498-4d3d-b887-7ee17f5b6f7b",
   "metadata": {
    "id": "46407f64-2498-4d3d-b887-7ee17f5b6f7b"
   },
   "source": [
    "Пример данных по книгам"
   ]
  },
  {
   "cell_type": "code",
   "execution_count": 5,
   "id": "b97acb5c-49aa-4f93-ab72-ea93c0618567",
   "metadata": {
    "colab": {
     "base_uri": "https://localhost:8080/",
     "height": 237
    },
    "executionInfo": {
     "elapsed": 91,
     "status": "ok",
     "timestamp": 1747648386832,
     "user": {
      "displayName": "jojn doe",
      "userId": "16325243380613586791"
     },
     "user_tz": -180
    },
    "id": "b97acb5c-49aa-4f93-ab72-ea93c0618567",
    "outputId": "844fd924-461f-4f41-9675-cf41e1572a75"
   },
   "outputs": [
    {
     "data": {
      "text/html": [
       "<div>\n",
       "<style scoped>\n",
       "    .dataframe tbody tr th:only-of-type {\n",
       "        vertical-align: middle;\n",
       "    }\n",
       "\n",
       "    .dataframe tbody tr th {\n",
       "        vertical-align: top;\n",
       "    }\n",
       "\n",
       "    .dataframe thead th {\n",
       "        text-align: right;\n",
       "    }\n",
       "</style>\n",
       "<table border=\"1\" class=\"dataframe\">\n",
       "  <thead>\n",
       "    <tr style=\"text-align: right;\">\n",
       "      <th></th>\n",
       "      <th>author</th>\n",
       "      <th>title</th>\n",
       "      <th>num_pages</th>\n",
       "      <th>ratings_count</th>\n",
       "      <th>ratings_count</th>\n",
       "      <th>average_rating</th>\n",
       "    </tr>\n",
       "    <tr>\n",
       "      <th>book_id</th>\n",
       "      <th></th>\n",
       "      <th></th>\n",
       "      <th></th>\n",
       "      <th></th>\n",
       "      <th></th>\n",
       "      <th></th>\n",
       "    </tr>\n",
       "  </thead>\n",
       "  <tbody>\n",
       "    <tr>\n",
       "      <th>69882</th>\n",
       "      <td>Heinrich Böll, Patrick Bowles</td>\n",
       "      <td>Billiards at Half-Past Nine</td>\n",
       "      <td>288</td>\n",
       "      <td>2005</td>\n",
       "      <td>2005</td>\n",
       "      <td>3.93</td>\n",
       "    </tr>\n",
       "    <tr>\n",
       "      <th>267533</th>\n",
       "      <td>Robert Cormier</td>\n",
       "      <td>8 Plus 1</td>\n",
       "      <td>173</td>\n",
       "      <td>250</td>\n",
       "      <td>250</td>\n",
       "      <td>3.67</td>\n",
       "    </tr>\n",
       "    <tr>\n",
       "      <th>820966</th>\n",
       "      <td>Martin Luther, J.I. Packer, O.R. Johnston</td>\n",
       "      <td>The Bondage of the Will</td>\n",
       "      <td>322</td>\n",
       "      <td>5724</td>\n",
       "      <td>5724</td>\n",
       "      <td>4.17</td>\n",
       "    </tr>\n",
       "    <tr>\n",
       "      <th>4532622</th>\n",
       "      <td>Karen Hancock</td>\n",
       "      <td>The Enclave</td>\n",
       "      <td>492</td>\n",
       "      <td>426</td>\n",
       "      <td>426</td>\n",
       "      <td>3.82</td>\n",
       "    </tr>\n",
       "    <tr>\n",
       "      <th>20444381</th>\n",
       "      <td>Diana Gabaldon</td>\n",
       "      <td>Os tambores de outono - 1ª Parte (Outlander #4)</td>\n",
       "      <td>1048</td>\n",
       "      <td>15</td>\n",
       "      <td>15</td>\n",
       "      <td>3.99</td>\n",
       "    </tr>\n",
       "  </tbody>\n",
       "</table>\n",
       "</div>"
      ],
      "text/plain": [
       "                                             author  \\\n",
       "book_id                                               \n",
       "69882                 Heinrich Böll, Patrick Bowles   \n",
       "267533                               Robert Cormier   \n",
       "820966    Martin Luther, J.I. Packer, O.R. Johnston   \n",
       "4532622                               Karen Hancock   \n",
       "20444381                             Diana Gabaldon   \n",
       "\n",
       "                                                    title  num_pages  \\\n",
       "book_id                                                                \n",
       "69882                         Billiards at Half-Past Nine        288   \n",
       "267533                                           8 Plus 1        173   \n",
       "820966                            The Bondage of the Will        322   \n",
       "4532622                                       The Enclave        492   \n",
       "20444381  Os tambores de outono - 1ª Parte (Outlander #4)       1048   \n",
       "\n",
       "          ratings_count  ratings_count  average_rating  \n",
       "book_id                                                 \n",
       "69882              2005           2005            3.93  \n",
       "267533              250            250            3.67  \n",
       "820966             5724           5724            4.17  \n",
       "4532622             426            426            3.82  \n",
       "20444381             15             15            3.99  "
      ]
     },
     "execution_count": 5,
     "metadata": {},
     "output_type": "execute_result"
    }
   ],
   "source": [
    "books[[\"book_id\", \"author\", \"title\", \"num_pages\", \"ratings_count\", \"ratings_count\", \"average_rating\"]].sample\\\n",
    "    (5, random_state=52).sort_values(\"book_id\").set_index(\"book_id\")"
   ]
  },
  {
   "cell_type": "code",
   "execution_count": 6,
   "id": "507063c3-58c2-4d27-b415-4695f05ae0b0",
   "metadata": {
    "id": "507063c3-58c2-4d27-b415-4695f05ae0b0"
   },
   "outputs": [],
   "source": [
    "interactions = pd.read_parquet('interactions.parquet')"
   ]
  },
  {
   "cell_type": "code",
   "execution_count": 7,
   "id": "6e1718e6-7faa-4bb0-9b6f-afaaeebdf12c",
   "metadata": {
    "colab": {
     "base_uri": "https://localhost:8080/",
     "height": 112
    },
    "executionInfo": {
     "elapsed": 3,
     "status": "ok",
     "timestamp": 1747648390686,
     "user": {
      "displayName": "jojn doe",
      "userId": "16325243380613586791"
     },
     "user_tz": -180
    },
    "id": "6e1718e6-7faa-4bb0-9b6f-afaaeebdf12c",
    "outputId": "e5733cf2-3ea0-4642-b1b4-743d83cef743"
   },
   "outputs": [
    {
     "data": {
      "text/html": [
       "<div>\n",
       "<style scoped>\n",
       "    .dataframe tbody tr th:only-of-type {\n",
       "        vertical-align: middle;\n",
       "    }\n",
       "\n",
       "    .dataframe tbody tr th {\n",
       "        vertical-align: top;\n",
       "    }\n",
       "\n",
       "    .dataframe thead th {\n",
       "        text-align: right;\n",
       "    }\n",
       "</style>\n",
       "<table border=\"1\" class=\"dataframe\">\n",
       "  <thead>\n",
       "    <tr style=\"text-align: right;\">\n",
       "      <th></th>\n",
       "      <th>user_id</th>\n",
       "      <th>book_id</th>\n",
       "      <th>started_at</th>\n",
       "      <th>read_at</th>\n",
       "      <th>is_read</th>\n",
       "      <th>rating</th>\n",
       "      <th>is_reviewed</th>\n",
       "    </tr>\n",
       "  </thead>\n",
       "  <tbody>\n",
       "    <tr>\n",
       "      <th>0</th>\n",
       "      <td>8842281e1d1347389f2ab93d60773d4d</td>\n",
       "      <td>22034</td>\n",
       "      <td>2015-07-12</td>\n",
       "      <td>2015-07-17</td>\n",
       "      <td>True</td>\n",
       "      <td>5</td>\n",
       "      <td>False</td>\n",
       "    </tr>\n",
       "    <tr>\n",
       "      <th>1</th>\n",
       "      <td>8842281e1d1347389f2ab93d60773d4d</td>\n",
       "      <td>22318578</td>\n",
       "      <td>2015-06-07</td>\n",
       "      <td>2015-08-09</td>\n",
       "      <td>True</td>\n",
       "      <td>5</td>\n",
       "      <td>True</td>\n",
       "    </tr>\n",
       "  </tbody>\n",
       "</table>\n",
       "</div>"
      ],
      "text/plain": [
       "                            user_id   book_id  started_at     read_at  \\\n",
       "0  8842281e1d1347389f2ab93d60773d4d     22034  2015-07-12  2015-07-17   \n",
       "1  8842281e1d1347389f2ab93d60773d4d  22318578  2015-06-07  2015-08-09   \n",
       "\n",
       "   is_read  rating  is_reviewed  \n",
       "0     True       5        False  \n",
       "1     True       5         True  "
      ]
     },
     "execution_count": 7,
     "metadata": {},
     "output_type": "execute_result"
    }
   ],
   "source": [
    "interactions.head(2)"
   ]
  },
  {
   "cell_type": "markdown",
   "id": "1975129a-283c-4f61-800e-cad9515e6f5f",
   "metadata": {
    "id": "1975129a-283c-4f61-800e-cad9515e6f5f"
   },
   "source": [
    "Можно оценить объём данных о взаимодействиях"
   ]
  },
  {
   "cell_type": "code",
   "execution_count": 8,
   "id": "92d745e7-5dfb-4fff-98a3-acfc422bed50",
   "metadata": {
    "colab": {
     "base_uri": "https://localhost:8080/"
    },
    "executionInfo": {
     "elapsed": 34,
     "status": "ok",
     "timestamp": 1747648390722,
     "user": {
      "displayName": "jojn doe",
      "userId": "16325243380613586791"
     },
     "user_tz": -180
    },
    "id": "92d745e7-5dfb-4fff-98a3-acfc422bed50",
    "outputId": "ed86b5a3-d698-4214-e1c1-9b573e585f4e"
   },
   "outputs": [
    {
     "name": "stdout",
     "output_type": "stream",
     "text": [
      "<class 'pandas.core.frame.DataFrame'>\n",
      "Index: 12890434 entries, 0 to 12914458\n",
      "Data columns (total 7 columns):\n",
      " #   Column       Dtype \n",
      "---  ------       ----- \n",
      " 0   user_id      object\n",
      " 1   book_id      int64 \n",
      " 2   started_at   object\n",
      " 3   read_at      object\n",
      " 4   is_read      bool  \n",
      " 5   rating       int64 \n",
      " 6   is_reviewed  bool  \n",
      "dtypes: bool(2), int64(2), object(3)\n",
      "memory usage: 614.7+ MB\n"
     ]
    }
   ],
   "source": [
    "interactions.info()"
   ]
  },
  {
   "cell_type": "markdown",
   "id": "2db1630c-a924-4c4f-9817-5c13591a5e85",
   "metadata": {
    "id": "2db1630c-a924-4c4f-9817-5c13591a5e85"
   },
   "source": [
    "Пример данных по взаимодействиям"
   ]
  },
  {
   "cell_type": "code",
   "execution_count": 9,
   "id": "2b1c5dfb-6900-49ad-b996-9b3e615ef9c4",
   "metadata": {
    "colab": {
     "base_uri": "https://localhost:8080/"
    },
    "executionInfo": {
     "elapsed": 1135,
     "status": "ok",
     "timestamp": 1747648391890,
     "user": {
      "displayName": "jojn doe",
      "userId": "16325243380613586791"
     },
     "user_tz": -180
    },
    "id": "2b1c5dfb-6900-49ad-b996-9b3e615ef9c4",
    "outputId": "04c3ccf2-b251-4866-9113-269c96f52aec"
   },
   "outputs": [
    {
     "name": "stdout",
     "output_type": "stream",
     "text": [
      "                                           started_at     read_at  is_read  rating\n",
      "user_id                          book_id                                          \n",
      "0447747f44c0d8d1a08cf329fe253f29 10054335  2016-04-08  2016-04-20     True       3\n",
      "14432756ffba6357686f09e4ccc332bb 26252859  2016-05-27  2016-05-30     True       5\n",
      "46d6c8cf548d1c86abb671f42ba71b5e 960       2014-08-06  2016-10-29     True       5\n",
      "71c2b3714945af1f700f49953904c510 18492859  2014-10-09  2014-10-12     True       5\n",
      "7802bafdeac8abff23a72b9dd60b1dd1 18710190  2015-03-01  2015-05-05     True       4\n"
     ]
    }
   ],
   "source": [
    "print(interactions[[\"user_id\", \"book_id\", \"started_at\", \"read_at\", \"is_read\", \"rating\"]].sample(5, random_state=52).sort_values(\"user_id\").set_index([\"user_id\", \"book_id\"]).to_string())"
   ]
  },
  {
   "cell_type": "markdown",
   "id": "ceb74029-cdbc-4baf-b4eb-0bc97f683eed",
   "metadata": {
    "id": "ceb74029-cdbc-4baf-b4eb-0bc97f683eed"
   },
   "source": [
    "#### Задание. Проведите EDA представленного датасета. Оцените:"
   ]
  },
  {
   "cell_type": "markdown",
   "id": "b1a0ecc6-9945-4610-b77a-23cbf562cce2",
   "metadata": {
    "id": "b1a0ecc6-9945-4610-b77a-23cbf562cce2"
   },
   "source": [
    "количество пользователей"
   ]
  },
  {
   "cell_type": "code",
   "execution_count": 10,
   "id": "2fe10069-da3a-4479-a85e-f95b60d3fe01",
   "metadata": {
    "colab": {
     "base_uri": "https://localhost:8080/"
    },
    "executionInfo": {
     "elapsed": 1064,
     "status": "ok",
     "timestamp": 1747648393078,
     "user": {
      "displayName": "jojn doe",
      "userId": "16325243380613586791"
     },
     "user_tz": -180
    },
    "id": "2fe10069-da3a-4479-a85e-f95b60d3fe01",
    "outputId": "6a313ef6-b848-4e80-b790-d0ed749b79a1"
   },
   "outputs": [
    {
     "data": {
      "text/plain": [
       "542657"
      ]
     },
     "execution_count": 10,
     "metadata": {},
     "output_type": "execute_result"
    }
   ],
   "source": [
    "n_users = interactions['user_id'].unique().shape[0]\n",
    "n_users"
   ]
  },
  {
   "cell_type": "markdown",
   "id": "2fbba07d-1a74-4c96-93c2-7bd3722e5bc3",
   "metadata": {
    "id": "2fbba07d-1a74-4c96-93c2-7bd3722e5bc3"
   },
   "source": [
    "среднее количество прочитанных книг на пользователя"
   ]
  },
  {
   "cell_type": "code",
   "execution_count": 11,
   "id": "3cfbe337-9001-407c-9bdd-338f4f0cb322",
   "metadata": {
    "colab": {
     "base_uri": "https://localhost:8080/"
    },
    "executionInfo": {
     "elapsed": 469,
     "status": "ok",
     "timestamp": 1747648393577,
     "user": {
      "displayName": "jojn doe",
      "userId": "16325243380613586791"
     },
     "user_tz": -180
    },
    "id": "3cfbe337-9001-407c-9bdd-338f4f0cb322",
    "outputId": "ad0006aa-1b40-4f06-daaa-280353bffdc3"
   },
   "outputs": [
    {
     "data": {
      "text/plain": [
       "12890434"
      ]
     },
     "execution_count": 11,
     "metadata": {},
     "output_type": "execute_result"
    }
   ],
   "source": [
    "n_books_read = interactions[interactions[\"is_read\"] == True].shape[0]\n",
    "n_books_read"
   ]
  },
  {
   "cell_type": "code",
   "execution_count": 12,
   "id": "c508d9b0-82ef-44f5-9a4a-5fbc2d8013f9",
   "metadata": {
    "colab": {
     "base_uri": "https://localhost:8080/"
    },
    "executionInfo": {
     "elapsed": 6,
     "status": "ok",
     "timestamp": 1747648393586,
     "user": {
      "displayName": "jojn doe",
      "userId": "16325243380613586791"
     },
     "user_tz": -180
    },
    "id": "c508d9b0-82ef-44f5-9a4a-5fbc2d8013f9",
    "outputId": "7475e78b-8d64-4cbb-a812-4c9c8c97bc9b"
   },
   "outputs": [
    {
     "data": {
      "text/plain": [
       "23.7542941489744"
      ]
     },
     "execution_count": 12,
     "metadata": {},
     "output_type": "execute_result"
    }
   ],
   "source": [
    "n_books_read / n_users"
   ]
  },
  {
   "cell_type": "markdown",
   "id": "f8758fee-4b0c-4938-b00f-3f9663294ce2",
   "metadata": {
    "id": "f8758fee-4b0c-4938-b00f-3f9663294ce2"
   },
   "source": [
    "долю прочитанных книг, у которых нет рейтинга"
   ]
  },
  {
   "cell_type": "code",
   "execution_count": 13,
   "id": "531d5040-35af-4ab0-a4c2-7c6afbf04872",
   "metadata": {
    "colab": {
     "base_uri": "https://localhost:8080/"
    },
    "executionInfo": {
     "elapsed": 135,
     "status": "ok",
     "timestamp": 1747648393723,
     "user": {
      "displayName": "jojn doe",
      "userId": "16325243380613586791"
     },
     "user_tz": -180
    },
    "id": "531d5040-35af-4ab0-a4c2-7c6afbf04872",
    "outputId": "e0592f3c-cb5b-48a8-aac7-6d07f30d0ccb"
   },
   "outputs": [
    {
     "data": {
      "text/plain": [
       "1051672"
      ]
     },
     "execution_count": 13,
     "metadata": {},
     "output_type": "execute_result"
    }
   ],
   "source": [
    "n_read_norating = interactions[(interactions[\"is_read\"] == True) & (interactions[\"rating\"] == 0)].shape[0]\n",
    "n_read_norating"
   ]
  },
  {
   "cell_type": "code",
   "execution_count": 14,
   "id": "daefe788-1e71-4ec5-b973-02ef91cabc7a",
   "metadata": {
    "colab": {
     "base_uri": "https://localhost:8080/"
    },
    "executionInfo": {
     "elapsed": 10,
     "status": "ok",
     "timestamp": 1747648393725,
     "user": {
      "displayName": "jojn doe",
      "userId": "16325243380613586791"
     },
     "user_tz": -180
    },
    "id": "daefe788-1e71-4ec5-b973-02ef91cabc7a",
    "outputId": "b33fcfa3-9eb5-4263-b0f7-69770b9cb32e"
   },
   "outputs": [
    {
     "data": {
      "text/plain": [
       "0.08158546097051503"
      ]
     },
     "execution_count": 14,
     "metadata": {},
     "output_type": "execute_result"
    }
   ],
   "source": [
    "n_read_norating / n_books_read"
   ]
  },
  {
   "cell_type": "markdown",
   "id": "3ed3ff02-1f06-476e-8008-fcf5aee89eb6",
   "metadata": {
    "id": "3ed3ff02-1f06-476e-8008-fcf5aee89eb6"
   },
   "source": [
    "распределение рейтинга"
   ]
  },
  {
   "cell_type": "code",
   "execution_count": 15,
   "id": "a655e3c7-fa4f-4848-94ca-96abadd26d50",
   "metadata": {
    "colab": {
     "base_uri": "https://localhost:8080/",
     "height": 471
    },
    "executionInfo": {
     "elapsed": 26031,
     "status": "ok",
     "timestamp": 1747648419752,
     "user": {
      "displayName": "jojn doe",
      "userId": "16325243380613586791"
     },
     "user_tz": -180
    },
    "id": "a655e3c7-fa4f-4848-94ca-96abadd26d50",
    "outputId": "5e27e2b2-f2f0-4233-a494-3d6fac464961",
    "scrolled": true
   },
   "outputs": [
    {
     "name": "stderr",
     "output_type": "stream",
     "text": [
      "/home/ak/mle-recsys-start/.venv_recsys_py310/lib/python3.10/site-packages/seaborn/_oldcore.py:1498: FutureWarning: is_categorical_dtype is deprecated and will be removed in a future version. Use isinstance(dtype, CategoricalDtype) instead\n",
      "  if pd.api.types.is_categorical_dtype(vector):\n",
      "/home/ak/mle-recsys-start/.venv_recsys_py310/lib/python3.10/site-packages/seaborn/_oldcore.py:1498: FutureWarning: is_categorical_dtype is deprecated and will be removed in a future version. Use isinstance(dtype, CategoricalDtype) instead\n",
      "  if pd.api.types.is_categorical_dtype(vector):\n",
      "/home/ak/mle-recsys-start/.venv_recsys_py310/lib/python3.10/site-packages/seaborn/_oldcore.py:1498: FutureWarning: is_categorical_dtype is deprecated and will be removed in a future version. Use isinstance(dtype, CategoricalDtype) instead\n",
      "  if pd.api.types.is_categorical_dtype(vector):\n"
     ]
    },
    {
     "data": {
      "image/png": "[encoded data removed]",
      "text/plain": [
       "<Figure size 640x480 with 1 Axes>"
      ]
     },
     "metadata": {
      "image/png": {
       "height": 454,
       "width": 554
      }
     },
     "output_type": "display_data"
    }
   ],
   "source": [
    "sns.countplot(x=\"rating\", data=interactions)\n",
    "plt.title(\"Distribution of Ratings\")\n",
    "plt.xlabel(\"Rating\")\n",
    "plt.ylabel(\"Count\")\n",
    "plt.show()"
   ]
  },
  {
   "cell_type": "code",
   "execution_count": 16,
   "id": "27404a5f-dec6-4f61-8802-ac9faec94ffe",
   "metadata": {
    "colab": {
     "base_uri": "https://localhost:8080/",
     "height": 303
    },
    "executionInfo": {
     "elapsed": 51,
     "status": "ok",
     "timestamp": 1747648419804,
     "user": {
      "displayName": "jojn doe",
      "userId": "16325243380613586791"
     },
     "user_tz": -180
    },
    "id": "27404a5f-dec6-4f61-8802-ac9faec94ffe",
    "outputId": "1ad21797-0d02-48e3-d9c2-727b7f580e36"
   },
   "outputs": [
    {
     "data": {
      "text/plain": [
       "rating\n",
       "4    4559434\n",
       "5    3859840\n",
       "3    2564629\n",
       "0    1051672\n",
       "2     671089\n",
       "1     183770\n",
       "Name: count, dtype: int64"
      ]
     },
     "execution_count": 16,
     "metadata": {},
     "output_type": "execute_result"
    }
   ],
   "source": [
    "interactions[\"rating\"].value_counts()"
   ]
  },
  {
   "cell_type": "markdown",
   "id": "33409ca0-d205-448f-95e4-86fcc06c8339",
   "metadata": {
    "id": "33409ca0-d205-448f-95e4-86fcc06c8339"
   },
   "source": [
    "Распределение популярности (долю пользователей, приходящуюся на одну книгу),"
   ]
  },
  {
   "cell_type": "code",
   "execution_count": 17,
   "id": "829bd29e-5aa8-4af8-a6b0-b4bb3d5efcfd",
   "metadata": {
    "colab": {
     "base_uri": "https://localhost:8080/",
     "height": 489
    },
    "executionInfo": {
     "elapsed": 24,
     "status": "ok",
     "timestamp": 1747648420473,
     "user": {
      "displayName": "jojn doe",
      "userId": "16325243380613586791"
     },
     "user_tz": -180
    },
    "id": "829bd29e-5aa8-4af8-a6b0-b4bb3d5efcfd",
    "outputId": "75d559e2-2efb-4f23-9298-d6395f8b8248"
   },
   "outputs": [
    {
     "data": {
      "text/plain": [
       "book_id\n",
       "22557272    3.506554e-03\n",
       "11870085    3.431847e-03\n",
       "11735983    2.534670e-03\n",
       "13335037    2.385180e-03\n",
       "9460487     2.357717e-03\n",
       "                ...     \n",
       "28175937    7.757691e-08\n",
       "28364588    7.757691e-08\n",
       "859858      7.757691e-08\n",
       "28493748    7.757691e-08\n",
       "848305      7.757691e-08\n",
       "Name: count, Length: 41912, dtype: float64"
      ]
     },
     "execution_count": 17,
     "metadata": {},
     "output_type": "execute_result"
    }
   ],
   "source": [
    "popularity_dist = interactions['book_id'].value_counts() / interactions.shape[0]\n",
    "popularity_dist"
   ]
  },
  {
   "cell_type": "markdown",
   "id": "17f20063-03b7-4a87-93c6-3f760277f0fd",
   "metadata": {
    "id": "17f20063-03b7-4a87-93c6-3f760277f0fd"
   },
   "source": [
    "#### Предварительная обработка данных (англ. preprocessing)"
   ]
  },
  {
   "cell_type": "markdown",
   "id": "c18e12be-0250-4aa5-b8b7-c02aeb77e08a",
   "metadata": {
    "id": "c18e12be-0250-4aa5-b8b7-c02aeb77e08a"
   },
   "source": [
    "оставьте события только до 1 ноября 2017 года (не включительно) — событий позднее этой даты не должно быть в данных;"
   ]
  },
  {
   "cell_type": "code",
   "execution_count": 18,
   "id": "bf34df16-8039-4a1e-84f1-91e6f7f36766",
   "metadata": {
    "colab": {
     "base_uri": "https://localhost:8080/"
    },
    "executionInfo": {
     "elapsed": 36,
     "status": "ok",
     "timestamp": 1747648420512,
     "user": {
      "displayName": "jojn doe",
      "userId": "16325243380613586791"
     },
     "user_tz": -180
    },
    "id": "bf34df16-8039-4a1e-84f1-91e6f7f36766",
    "outputId": "f637fbfa-4e84-46cc-fd53-89f49f1488e0"
   },
   "outputs": [
    {
     "data": {
      "text/plain": [
       "datetime.date(2017, 11, 1)"
      ]
     },
     "execution_count": 18,
     "metadata": {},
     "output_type": "execute_result"
    }
   ],
   "source": [
    "cutoff_value = datetime.date(2017, 11, 1)\n",
    "cutoff_value"
   ]
  },
  {
   "cell_type": "code",
   "execution_count": 19,
   "id": "c5bf314b-cab3-44c2-b02b-d78c375ea278",
   "metadata": {
    "id": "c5bf314b-cab3-44c2-b02b-d78c375ea278"
   },
   "outputs": [],
   "source": [
    "interactions = interactions[interactions[\"started_at\"] < cutoff_value]"
   ]
  },
  {
   "cell_type": "markdown",
   "id": "dc685e9f-a1e7-4faf-a541-7dfdb15ac21a",
   "metadata": {
    "id": "dc685e9f-a1e7-4faf-a541-7dfdb15ac21a"
   },
   "source": [
    "удалите события, для которых нет рейтинга;"
   ]
  },
  {
   "cell_type": "code",
   "execution_count": 20,
   "id": "7e7c23ec-d1a2-4b92-bd65-20ca0e244c39",
   "metadata": {
    "id": "7e7c23ec-d1a2-4b92-bd65-20ca0e244c39"
   },
   "outputs": [],
   "source": [
    "interactions = interactions[interactions[\"rating\"] != 0]"
   ]
  },
  {
   "cell_type": "markdown",
   "id": "537e2e1e-adb9-45a1-98c7-5a0c7d78c0f6",
   "metadata": {
    "id": "537e2e1e-adb9-45a1-98c7-5a0c7d78c0f6"
   },
   "source": [
    "оставьте события только c признаком is_read=True;"
   ]
  },
  {
   "cell_type": "code",
   "execution_count": 21,
   "id": "1202cbf2-c468-4981-a5ad-fed1a26f00e5",
   "metadata": {
    "id": "1202cbf2-c468-4981-a5ad-fed1a26f00e5"
   },
   "outputs": [],
   "source": [
    "interactions = interactions[interactions[\"is_read\"] == True]"
   ]
  },
  {
   "cell_type": "markdown",
   "id": "f755f4ae-f26f-458f-84e8-3d0c83c3389a",
   "metadata": {
    "id": "f755f4ae-f26f-458f-84e8-3d0c83c3389a"
   },
   "source": [
    "оставьте только тех пользователей, у которых две прочитанные книги и более."
   ]
  },
  {
   "cell_type": "code",
   "execution_count": 22,
   "id": "58230bc9-9679-4d96-bcfa-6d36e8637357",
   "metadata": {
    "id": "58230bc9-9679-4d96-bcfa-6d36e8637357"
   },
   "outputs": [],
   "source": [
    "user_count = interactions[\"user_id\"].value_counts()\n",
    "users_2more = user_count[user_count >= 2].index.to_list()\n",
    "\n",
    "interactions = interactions[interactions[\"user_id\"].isin(users_2more)]"
   ]
  },
  {
   "cell_type": "markdown",
   "id": "fe2fbc9d-0e64-4b2d-8caa-2ce28407fc66",
   "metadata": {
    "id": "fe2fbc9d-0e64-4b2d-8caa-2ce28407fc66"
   },
   "source": [
    "Также переименуйте данные следующим образом (в пользу обобщённых названий):"
   ]
  },
  {
   "cell_type": "code",
   "execution_count": 23,
   "id": "4ef4a5f4-d92f-4118-a3d1-c5a294189268",
   "metadata": {
    "id": "4ef4a5f4-d92f-4118-a3d1-c5a294189268"
   },
   "outputs": [],
   "source": [
    "items = books.copy()\n",
    "del books\n",
    "\n",
    "events = interactions.copy()\n",
    "del interactions"
   ]
  },
  {
   "cell_type": "code",
   "execution_count": 24,
   "id": "e77ee0e6-0b72-45a5-9015-300edd3b6cf9",
   "metadata": {
    "id": "e77ee0e6-0b72-45a5-9015-300edd3b6cf9"
   },
   "outputs": [],
   "source": [
    "items = items.rename(columns={\"book_id\": \"item_id\"})\n",
    "events = events.rename(columns={\"book_id\": \"item_id\"})"
   ]
  },
  {
   "cell_type": "markdown",
   "id": "dbfe0f18-1592-499f-b6aa-9b68e2bd2ddc",
   "metadata": {
    "id": "dbfe0f18-1592-499f-b6aa-9b68e2bd2ddc"
   },
   "source": [
    "А ещё для удобства перекодируйте идентификаторы пользователей из символьного вида (92f960b6da4be49c7955794c6331d759) в числовой. Все оставшиеся после обработки данных идентификаторы нужно отсортировать по возрастанию и последовательно пронумеровать, начиная с 1 000 000. Эти значения и будут новыми идентификаторами пользователей."
   ]
  },
  {
   "cell_type": "code",
   "execution_count": 25,
   "id": "4de84517-afe4-462e-9011-1ac976bcd8aa",
   "metadata": {
    "id": "4de84517-afe4-462e-9011-1ac976bcd8aa"
   },
   "outputs": [],
   "source": [
    "import pandas as pd\n",
    "\n",
    "# Получение уникальных user_id и сортировка\n",
    "unique_ids_sorted = sorted(events[\"user_id\"].unique())\n",
    "\n",
    "# Сопоставление строкового user_id с числовым идентификатором начиная с 1_000_000\n",
    "user_id_map = {uid: new_id for new_id, uid in enumerate(unique_ids_sorted, start=1_000_000)}\n",
    "\n",
    "# Добавление новой колонки с числовыми идентификаторами\n",
    "events[\"user_id_new\"] = events[\"user_id\"].map(user_id_map)"
   ]
  },
  {
   "cell_type": "code",
   "execution_count": 26,
   "id": "VNfn5QtYd44-",
   "metadata": {
    "id": "VNfn5QtYd44-"
   },
   "outputs": [],
   "source": [
    "events['user_id'] = events[\"user_id_new\"]\n",
    "events = events.drop('user_id_new', axis=1)"
   ]
  },
  {
   "cell_type": "markdown",
   "id": "fcd048e9-2f8c-4524-af6e-3f55a168cce9",
   "metadata": {
    "id": "fcd048e9-2f8c-4524-af6e-3f55a168cce9"
   },
   "source": [
    "Сохраняем данные"
   ]
  },
  {
   "cell_type": "code",
   "execution_count": 27,
   "id": "354d9f69-822b-4383-8b44-30e474ce5284",
   "metadata": {
    "id": "354d9f69-822b-4383-8b44-30e474ce5284"
   },
   "outputs": [],
   "source": [
    "items.to_parquet(\"items.parquet\")\n",
    "events.to_parquet(\"events.parquet\")"
   ]
  },
  {
   "cell_type": "markdown",
   "id": "351b1f81-626f-49ed-a57f-a696ac9efa9c",
   "metadata": {
    "id": "351b1f81-626f-49ed-a57f-a696ac9efa9c"
   },
   "source": [
    "Какая доля событий осталась после обработки данных?"
   ]
  },
  {
   "cell_type": "code",
   "execution_count": 28,
   "id": "4a9baf2c-7103-4aa7-8fab-3b2beacc88bc",
   "metadata": {
    "colab": {
     "base_uri": "https://localhost:8080/"
    },
    "executionInfo": {
     "elapsed": 3503,
     "status": "ok",
     "timestamp": 1747648454048,
     "user": {
      "displayName": "jojn doe",
      "userId": "16325243380613586791"
     },
     "user_tz": -180
    },
    "id": "4a9baf2c-7103-4aa7-8fab-3b2beacc88bc",
    "outputId": "70d8928d-ef9d-4539-828d-d4f02a389143"
   },
   "outputs": [
    {
     "data": {
      "text/plain": [
       "0.9117639483666725"
      ]
     },
     "execution_count": 28,
     "metadata": {},
     "output_type": "execute_result"
    }
   ],
   "source": [
    "events.shape[0] / pd.read_parquet(\"interactions.parquet\").shape[0]"
   ]
  },
  {
   "cell_type": "markdown",
   "id": "c4050b3d-c198-43be-a989-e99204b1725b",
   "metadata": {
    "id": "c4050b3d-c198-43be-a989-e99204b1725b"
   },
   "source": [
    "## EDA"
   ]
  },
  {
   "cell_type": "markdown",
   "id": "704ff053-4357-4b72-88fb-33d5edef8203",
   "metadata": {
    "id": "704ff053-4357-4b72-88fb-33d5edef8203"
   },
   "source": [
    "Посмотрим на данные о книгах, какие поля есть."
   ]
  },
  {
   "cell_type": "code",
   "execution_count": 29,
   "id": "YSZNwmDYQvdJ",
   "metadata": {
    "colab": {
     "base_uri": "https://localhost:8080/"
    },
    "executionInfo": {
     "elapsed": 3021,
     "status": "ok",
     "timestamp": 1747648457067,
     "user": {
      "displayName": "jojn doe",
      "userId": "16325243380613586791"
     },
     "user_tz": -180
    },
    "id": "YSZNwmDYQvdJ",
    "outputId": "d522ad61-93b7-41d7-ac75-9160ec0fa5c7"
   },
   "outputs": [
    {
     "name": "stdout",
     "output_type": "stream",
     "text": [
      "428284 123497 121099\n"
     ]
    }
   ],
   "source": [
    "# зададим точку разбиения\n",
    "train_test_global_time_split_date = pd.to_datetime(\"2017-08-01\").date()\n",
    "\n",
    "train_test_global_time_split_idx = events[\"started_at\"] < train_test_global_time_split_date\n",
    "\n",
    "events_train = events[train_test_global_time_split_idx]\n",
    "events_test = events[~train_test_global_time_split_idx]\n",
    "\n",
    "# количество пользователей в train и test\n",
    "users_train = events_train[\"user_id\"].drop_duplicates()\n",
    "users_test = events_test[\"user_id\"].drop_duplicates()\n",
    "\n",
    "common_users = list(set(users_train).intersection(set(users_test)))\n",
    "\n",
    "print(len(users_train), len(users_test), len(common_users))"
   ]
  },
  {
   "cell_type": "markdown",
   "id": "1h-tAdnaS6Ub",
   "metadata": {
    "id": "1h-tAdnaS6Ub"
   },
   "source": [
    "Всего пользователей"
   ]
  },
  {
   "cell_type": "code",
   "execution_count": 30,
   "id": "9KuFuRFXSgSD",
   "metadata": {
    "colab": {
     "base_uri": "https://localhost:8080/"
    },
    "executionInfo": {
     "elapsed": 180,
     "status": "ok",
     "timestamp": 1747648457248,
     "user": {
      "displayName": "jojn doe",
      "userId": "16325243380613586791"
     },
     "user_tz": -180
    },
    "id": "9KuFuRFXSgSD",
    "outputId": "3388870b-8495-4411-9fc2-dab40c1a6a69"
   },
   "outputs": [
    {
     "data": {
      "text/plain": [
       "(430682,)"
      ]
     },
     "execution_count": 30,
     "metadata": {},
     "output_type": "execute_result"
    }
   ],
   "source": [
    "events['user_id'].unique().shape"
   ]
  },
  {
   "cell_type": "markdown",
   "id": "r7gsn3QITAta",
   "metadata": {
    "id": "r7gsn3QITAta"
   },
   "source": [
    "Идентифицируйте холодных пользователей и оцените их количество."
   ]
  },
  {
   "cell_type": "code",
   "execution_count": 31,
   "id": "s3x4BZgTTBqL",
   "metadata": {
    "colab": {
     "base_uri": "https://localhost:8080/"
    },
    "executionInfo": {
     "elapsed": 31,
     "status": "ok",
     "timestamp": 1747648457280,
     "user": {
      "displayName": "jojn doe",
      "userId": "16325243380613586791"
     },
     "user_tz": -180
    },
    "id": "s3x4BZgTTBqL",
    "outputId": "a06db70d-2e90-4ee7-d0f1-4c02a6da5d75"
   },
   "outputs": [
    {
     "name": "stdout",
     "output_type": "stream",
     "text": [
      "2398\n"
     ]
    }
   ],
   "source": [
    "cold_users = users_test[~users_test.isin(users_train)]\n",
    "\n",
    "print(len(cold_users))"
   ]
  },
  {
   "cell_type": "markdown",
   "id": "9dIIdPtPZGZI",
   "metadata": {
    "id": "9dIIdPtPZGZI"
   },
   "source": [
    "## Задание 4 из 6\n",
    "Завершите код, чтобы получить топ-100 наиболее популярных книг согласно условиям выше.  Для этого найдите топ-100 наиболее популярных книг (учитывая и их среднюю оценку) за последние несколько лет. Например, с 2015 года и со средней оценкой не меньше 4."
   ]
  },
  {
   "cell_type": "code",
   "execution_count": 32,
   "id": "U6ZP3QpzZJUB",
   "metadata": {
    "colab": {
     "base_uri": "https://localhost:8080/",
     "height": 423
    },
    "executionInfo": {
     "elapsed": 3169,
     "status": "ok",
     "timestamp": 1747648460451,
     "user": {
      "displayName": "jojn doe",
      "userId": "16325243380613586791"
     },
     "user_tz": -180
    },
    "id": "U6ZP3QpzZJUB",
    "outputId": "7504dab3-78c2-4166-d152-c0ef86a13da6"
   },
   "outputs": [
    {
     "data": {
      "text/html": [
       "<div>\n",
       "<style scoped>\n",
       "    .dataframe tbody tr th:only-of-type {\n",
       "        vertical-align: middle;\n",
       "    }\n",
       "\n",
       "    .dataframe tbody tr th {\n",
       "        vertical-align: top;\n",
       "    }\n",
       "\n",
       "    .dataframe thead th {\n",
       "        text-align: right;\n",
       "    }\n",
       "</style>\n",
       "<table border=\"1\" class=\"dataframe\">\n",
       "  <thead>\n",
       "    <tr style=\"text-align: right;\">\n",
       "      <th></th>\n",
       "      <th>item_id</th>\n",
       "      <th>users</th>\n",
       "      <th>avg_rating</th>\n",
       "      <th>users_norm</th>\n",
       "      <th>avg_rating_norm</th>\n",
       "      <th>popularity_score</th>\n",
       "    </tr>\n",
       "  </thead>\n",
       "  <tbody>\n",
       "    <tr>\n",
       "      <th>32389</th>\n",
       "      <td>18007564</td>\n",
       "      <td>20208</td>\n",
       "      <td>4.321308</td>\n",
       "      <td>0.496547</td>\n",
       "      <td>0.830327</td>\n",
       "      <td>0.412297</td>\n",
       "    </tr>\n",
       "    <tr>\n",
       "      <th>32625</th>\n",
       "      <td>18143977</td>\n",
       "      <td>19464</td>\n",
       "      <td>4.290691</td>\n",
       "      <td>0.478265</td>\n",
       "      <td>0.822673</td>\n",
       "      <td>0.393456</td>\n",
       "    </tr>\n",
       "    <tr>\n",
       "      <th>2</th>\n",
       "      <td>3</td>\n",
       "      <td>15142</td>\n",
       "      <td>4.706049</td>\n",
       "      <td>0.372060</td>\n",
       "      <td>0.926512</td>\n",
       "      <td>0.344719</td>\n",
       "    </tr>\n",
       "    <tr>\n",
       "      <th>30697</th>\n",
       "      <td>16096824</td>\n",
       "      <td>16770</td>\n",
       "      <td>4.301014</td>\n",
       "      <td>0.412065</td>\n",
       "      <td>0.825253</td>\n",
       "      <td>0.340058</td>\n",
       "    </tr>\n",
       "    <tr>\n",
       "      <th>1916</th>\n",
       "      <td>15881</td>\n",
       "      <td>13043</td>\n",
       "      <td>4.632447</td>\n",
       "      <td>0.320482</td>\n",
       "      <td>0.908112</td>\n",
       "      <td>0.291033</td>\n",
       "    </tr>\n",
       "    <tr>\n",
       "      <th>...</th>\n",
       "      <td>...</td>\n",
       "      <td>...</td>\n",
       "      <td>...</td>\n",
       "      <td>...</td>\n",
       "      <td>...</td>\n",
       "      <td>...</td>\n",
       "    </tr>\n",
       "    <tr>\n",
       "      <th>24838</th>\n",
       "      <td>8490112</td>\n",
       "      <td>4792</td>\n",
       "      <td>4.080968</td>\n",
       "      <td>0.117729</td>\n",
       "      <td>0.770242</td>\n",
       "      <td>0.090680</td>\n",
       "    </tr>\n",
       "    <tr>\n",
       "      <th>33613</th>\n",
       "      <td>18966819</td>\n",
       "      <td>4362</td>\n",
       "      <td>4.374828</td>\n",
       "      <td>0.107163</td>\n",
       "      <td>0.843707</td>\n",
       "      <td>0.090414</td>\n",
       "    </tr>\n",
       "    <tr>\n",
       "      <th>378</th>\n",
       "      <td>3636</td>\n",
       "      <td>4667</td>\n",
       "      <td>4.098564</td>\n",
       "      <td>0.114658</td>\n",
       "      <td>0.774641</td>\n",
       "      <td>0.088819</td>\n",
       "    </tr>\n",
       "    <tr>\n",
       "      <th>32837</th>\n",
       "      <td>18293427</td>\n",
       "      <td>4674</td>\n",
       "      <td>4.092640</td>\n",
       "      <td>0.114830</td>\n",
       "      <td>0.773160</td>\n",
       "      <td>0.088782</td>\n",
       "    </tr>\n",
       "    <tr>\n",
       "      <th>37120</th>\n",
       "      <td>26252859</td>\n",
       "      <td>4372</td>\n",
       "      <td>4.293001</td>\n",
       "      <td>0.107409</td>\n",
       "      <td>0.823250</td>\n",
       "      <td>0.088424</td>\n",
       "    </tr>\n",
       "  </tbody>\n",
       "</table>\n",
       "<p>100 rows × 6 columns</p>\n",
       "</div>"
      ],
      "text/plain": [
       "        item_id  users  avg_rating  users_norm  avg_rating_norm  \\\n",
       "32389  18007564  20208    4.321308    0.496547         0.830327   \n",
       "32625  18143977  19464    4.290691    0.478265         0.822673   \n",
       "2             3  15142    4.706049    0.372060         0.926512   \n",
       "30697  16096824  16770    4.301014    0.412065         0.825253   \n",
       "1916      15881  13043    4.632447    0.320482         0.908112   \n",
       "...         ...    ...         ...         ...              ...   \n",
       "24838   8490112   4792    4.080968    0.117729         0.770242   \n",
       "33613  18966819   4362    4.374828    0.107163         0.843707   \n",
       "378        3636   4667    4.098564    0.114658         0.774641   \n",
       "32837  18293427   4674    4.092640    0.114830         0.773160   \n",
       "37120  26252859   4372    4.293001    0.107409         0.823250   \n",
       "\n",
       "       popularity_score  \n",
       "32389          0.412297  \n",
       "32625          0.393456  \n",
       "2              0.344719  \n",
       "30697          0.340058  \n",
       "1916           0.291033  \n",
       "...                 ...  \n",
       "24838          0.090680  \n",
       "33613          0.090414  \n",
       "378            0.088819  \n",
       "32837          0.088782  \n",
       "37120          0.088424  \n",
       "\n",
       "[100 rows x 6 columns]"
      ]
     },
     "execution_count": 32,
     "metadata": {},
     "output_type": "execute_result"
    }
   ],
   "source": [
    "# на основе events_train начиная с 2015-01-01\n",
    "from sklearn.preprocessing import MinMaxScaler\n",
    "\n",
    "top_pop_start_date = pd.to_datetime(\"2015-01-01\").date()\n",
    "\n",
    "item_popularity = events_train \\\n",
    "    .query(\"started_at >= @top_pop_start_date\") \\\n",
    "    .groupby([\"item_id\"]).agg(users=(\"user_id\", \"nunique\"), avg_rating=(\"rating\", \"mean\")).reset_index()\n",
    "\n",
    "# нормализация пользователей и среднего рейтинга, требуется для их приведения к одному масштабу\n",
    "scaler = MinMaxScaler()\n",
    "item_popularity[[\"users_norm\", \"avg_rating_norm\"]] = scaler.fit_transform(\n",
    "    item_popularity[[\"users\", \"avg_rating\"]]\n",
    ")\n",
    "\n",
    "# вычисляем popularity_score, как скор популярности со штрафом за низкий рейтинг\n",
    "item_popularity[\"popularity_score\"] = (\n",
    "    item_popularity[\"users_norm\"] * item_popularity[\"avg_rating_norm\"]\n",
    ")\n",
    "\n",
    "# сортируем по убыванию popularity_score\n",
    "item_popularity = item_popularity.sort_values(by=\"popularity_score\", ascending=False)\n",
    "\n",
    "# выбираем первые 100 айтемов со средней оценкой avg_rating не меньше 4\n",
    "top_k_pop_items = item_popularity[item_popularity['avg_rating'] >= 4].iloc[:100, :]\n",
    "\n",
    "top_k_pop_items"
   ]
  },
  {
   "cell_type": "markdown",
   "id": "7j_C7ihccE6Z",
   "metadata": {
    "id": "7j_C7ihccE6Z"
   },
   "source": [
    "Добавив информацию о книгах, можно просмотреть, какие попали в топ."
   ]
  },
  {
   "cell_type": "code",
   "execution_count": 33,
   "id": "14sNDYIAbmgp",
   "metadata": {
    "colab": {
     "base_uri": "https://localhost:8080/",
     "height": 1000
    },
    "executionInfo": {
     "elapsed": 101,
     "status": "ok",
     "timestamp": 1747648460550,
     "user": {
      "displayName": "jojn doe",
      "userId": "16325243380613586791"
     },
     "user_tz": -180
    },
    "id": "14sNDYIAbmgp",
    "outputId": "74264e6f-75c0-4a31-f737-cf862f01e44a",
    "scrolled": true
   },
   "outputs": [
    {
     "data": {
      "text/html": [
       "<div>\n",
       "<style scoped>\n",
       "    .dataframe tbody tr th:only-of-type {\n",
       "        vertical-align: middle;\n",
       "    }\n",
       "\n",
       "    .dataframe tbody tr th {\n",
       "        vertical-align: top;\n",
       "    }\n",
       "\n",
       "    .dataframe thead th {\n",
       "        text-align: right;\n",
       "    }\n",
       "</style>\n",
       "<table border=\"1\" class=\"dataframe\">\n",
       "  <thead>\n",
       "    <tr style=\"text-align: right;\">\n",
       "      <th></th>\n",
       "      <th>item_id</th>\n",
       "      <th>author</th>\n",
       "      <th>title</th>\n",
       "      <th>publication_year</th>\n",
       "      <th>users</th>\n",
       "      <th>avg_rating</th>\n",
       "      <th>popularity_score</th>\n",
       "      <th>genre_and_votes</th>\n",
       "    </tr>\n",
       "  </thead>\n",
       "  <tbody>\n",
       "    <tr>\n",
       "      <th>0</th>\n",
       "      <td>18007564</td>\n",
       "      <td>Andy Weir</td>\n",
       "      <td>The Martian</td>\n",
       "      <td>2014</td>\n",
       "      <td>20208</td>\n",
       "      <td>4.321308</td>\n",
       "      <td>0.412297</td>\n",
       "      <td>{'Science Fiction': 11966, 'Fiction': 8430}</td>\n",
       "    </tr>\n",
       "    <tr>\n",
       "      <th>1</th>\n",
       "      <td>18143977</td>\n",
       "      <td>Anthony Doerr</td>\n",
       "      <td>All the Light We Cannot See</td>\n",
       "      <td>2014</td>\n",
       "      <td>19464</td>\n",
       "      <td>4.290691</td>\n",
       "      <td>0.393456</td>\n",
       "      <td>{'Historical-Historical Fiction': 13679, 'Fict...</td>\n",
       "    </tr>\n",
       "    <tr>\n",
       "      <th>2</th>\n",
       "      <td>3</td>\n",
       "      <td>J.K. Rowling, Mary GrandPré</td>\n",
       "      <td>Harry Potter and the Sorcerer's Stone (Harry P...</td>\n",
       "      <td>1997</td>\n",
       "      <td>15142</td>\n",
       "      <td>4.706049</td>\n",
       "      <td>0.344719</td>\n",
       "      <td>{'Fantasy': 59818, 'Fiction': 17918, 'Young Ad...</td>\n",
       "    </tr>\n",
       "    <tr>\n",
       "      <th>3</th>\n",
       "      <td>16096824</td>\n",
       "      <td>Sarah J. Maas</td>\n",
       "      <td>A Court of Thorns and Roses (A Court of Thorns...</td>\n",
       "      <td>2015</td>\n",
       "      <td>16770</td>\n",
       "      <td>4.301014</td>\n",
       "      <td>0.340058</td>\n",
       "      <td>{'Fantasy': 14326, 'Young Adult': 4662, 'Roman...</td>\n",
       "    </tr>\n",
       "    <tr>\n",
       "      <th>4</th>\n",
       "      <td>15881</td>\n",
       "      <td>J.K. Rowling, Mary GrandPré</td>\n",
       "      <td>Harry Potter and the Chamber of Secrets (Harry...</td>\n",
       "      <td>1999</td>\n",
       "      <td>13043</td>\n",
       "      <td>4.632447</td>\n",
       "      <td>0.291033</td>\n",
       "      <td>{'Fantasy': 50130, 'Young Adult': 15202, 'Fict...</td>\n",
       "    </tr>\n",
       "    <tr>\n",
       "      <th>5</th>\n",
       "      <td>38447</td>\n",
       "      <td>Margaret Atwood</td>\n",
       "      <td>The Handmaid's Tale</td>\n",
       "      <td>1998</td>\n",
       "      <td>14611</td>\n",
       "      <td>4.232770</td>\n",
       "      <td>0.290151</td>\n",
       "      <td>{'Fiction': 15424, 'Classics': 9937, 'Science ...</td>\n",
       "    </tr>\n",
       "    <tr>\n",
       "      <th>6</th>\n",
       "      <td>11235712</td>\n",
       "      <td>Marissa Meyer</td>\n",
       "      <td>Cinder (The Lunar Chronicles, #1)</td>\n",
       "      <td>2012</td>\n",
       "      <td>14349</td>\n",
       "      <td>4.179246</td>\n",
       "      <td>0.280230</td>\n",
       "      <td>{'Young Adult': 10539, 'Fantasy': 9237, 'Scien...</td>\n",
       "    </tr>\n",
       "    <tr>\n",
       "      <th>7</th>\n",
       "      <td>17927395</td>\n",
       "      <td>Sarah J. Maas</td>\n",
       "      <td>A Court of Mist and Fury (A Court of Thorns an...</td>\n",
       "      <td>2016</td>\n",
       "      <td>12179</td>\n",
       "      <td>4.730356</td>\n",
       "      <td>0.279078</td>\n",
       "      <td>{'Fantasy': 10186, 'Romance': 3346, 'Young Adu...</td>\n",
       "    </tr>\n",
       "    <tr>\n",
       "      <th>8</th>\n",
       "      <td>5</td>\n",
       "      <td>J.K. Rowling, Mary GrandPré</td>\n",
       "      <td>Harry Potter and the Prisoner of Azkaban (Harr...</td>\n",
       "      <td>2004</td>\n",
       "      <td>11890</td>\n",
       "      <td>4.770143</td>\n",
       "      <td>0.275361</td>\n",
       "      <td>{'Fantasy': 49784, 'Young Adult': 15393, 'Fict...</td>\n",
       "    </tr>\n",
       "    <tr>\n",
       "      <th>9</th>\n",
       "      <td>13206900</td>\n",
       "      <td>Marissa Meyer</td>\n",
       "      <td>Winter (The Lunar Chronicles, #4)</td>\n",
       "      <td>2015</td>\n",
       "      <td>12291</td>\n",
       "      <td>4.534293</td>\n",
       "      <td>0.266842</td>\n",
       "      <td>{'Fantasy': 4835, 'Young Adult': 4672, 'Scienc...</td>\n",
       "    </tr>\n",
       "    <tr>\n",
       "      <th>10</th>\n",
       "      <td>21853621</td>\n",
       "      <td>Kristin Hannah</td>\n",
       "      <td>The Nightingale</td>\n",
       "      <td>2015</td>\n",
       "      <td>12296</td>\n",
       "      <td>4.528058</td>\n",
       "      <td>0.266479</td>\n",
       "      <td>{'Historical-Historical Fiction': 10105, 'Fict...</td>\n",
       "    </tr>\n",
       "    <tr>\n",
       "      <th>11</th>\n",
       "      <td>18692431</td>\n",
       "      <td>Nicola Yoon, David  Yoon</td>\n",
       "      <td>Everything, Everything</td>\n",
       "      <td>2015</td>\n",
       "      <td>14121</td>\n",
       "      <td>4.071454</td>\n",
       "      <td>0.266427</td>\n",
       "      <td>{'Young Adult': 5175, 'Romance': 3234, 'Contem...</td>\n",
       "    </tr>\n",
       "    <tr>\n",
       "      <th>12</th>\n",
       "      <td>6</td>\n",
       "      <td>J.K. Rowling, Mary GrandPré</td>\n",
       "      <td>Harry Potter and the Goblet of Fire (Harry Pot...</td>\n",
       "      <td>2002</td>\n",
       "      <td>10679</td>\n",
       "      <td>4.764772</td>\n",
       "      <td>0.246961</td>\n",
       "      <td>{'Fantasy': 48257, 'Young Adult': 15483, 'Fict...</td>\n",
       "    </tr>\n",
       "    <tr>\n",
       "      <th>13</th>\n",
       "      <td>16068905</td>\n",
       "      <td>Rainbow Rowell</td>\n",
       "      <td>Fangirl</td>\n",
       "      <td>2013</td>\n",
       "      <td>12642</td>\n",
       "      <td>4.119839</td>\n",
       "      <td>0.242277</td>\n",
       "      <td>{'Young Adult': 9301, 'Contemporary': 5760, 'R...</td>\n",
       "    </tr>\n",
       "    <tr>\n",
       "      <th>14</th>\n",
       "      <td>23437156</td>\n",
       "      <td>Leigh Bardugo</td>\n",
       "      <td>Six of Crows (Six of Crows, #1)</td>\n",
       "      <td>2015</td>\n",
       "      <td>11138</td>\n",
       "      <td>4.512300</td>\n",
       "      <td>0.240303</td>\n",
       "      <td>{'Fantasy': 15409, 'Young Adult': 6520}</td>\n",
       "    </tr>\n",
       "    <tr>\n",
       "      <th>15</th>\n",
       "      <td>9969571</td>\n",
       "      <td>Ernest Cline</td>\n",
       "      <td>Ready Player One</td>\n",
       "      <td>2011</td>\n",
       "      <td>11814</td>\n",
       "      <td>4.289995</td>\n",
       "      <td>0.238756</td>\n",
       "      <td>{'Science Fiction': 10560, 'Fiction': 7713, 'Y...</td>\n",
       "    </tr>\n",
       "    <tr>\n",
       "      <th>16</th>\n",
       "      <td>17167166</td>\n",
       "      <td>Sarah J. Maas</td>\n",
       "      <td>Crown of Midnight (Throne of Glass, #2)</td>\n",
       "      <td>2013</td>\n",
       "      <td>11025</td>\n",
       "      <td>4.509751</td>\n",
       "      <td>0.237692</td>\n",
       "      <td>{'Fantasy': 11344, 'Young Adult': 4695, 'Roman...</td>\n",
       "    </tr>\n",
       "    <tr>\n",
       "      <th>17</th>\n",
       "      <td>15745753</td>\n",
       "      <td>Rainbow Rowell</td>\n",
       "      <td>Eleanor &amp; Park</td>\n",
       "      <td>2013</td>\n",
       "      <td>12411</td>\n",
       "      <td>4.046652</td>\n",
       "      <td>0.232270</td>\n",
       "      <td>{'Young Adult': 11593, 'Romance': 6881, 'Conte...</td>\n",
       "    </tr>\n",
       "    <tr>\n",
       "      <th>18</th>\n",
       "      <td>13206760</td>\n",
       "      <td>Marissa Meyer</td>\n",
       "      <td>Scarlet (The Lunar Chronicles, #2)</td>\n",
       "      <td>2013</td>\n",
       "      <td>11515</td>\n",
       "      <td>4.262353</td>\n",
       "      <td>0.230758</td>\n",
       "      <td>{'Young Adult': 6930, 'Fantasy': 6267, 'Scienc...</td>\n",
       "    </tr>\n",
       "    <tr>\n",
       "      <th>19</th>\n",
       "      <td>13206828</td>\n",
       "      <td>Marissa Meyer</td>\n",
       "      <td>Cress (The Lunar Chronicles, #3)</td>\n",
       "      <td>2014</td>\n",
       "      <td>10607</td>\n",
       "      <td>4.487980</td>\n",
       "      <td>0.227261</td>\n",
       "      <td>{'Young Adult': 5813, 'Fantasy': 5413, 'Scienc...</td>\n",
       "    </tr>\n",
       "    <tr>\n",
       "      <th>20</th>\n",
       "      <td>18006496</td>\n",
       "      <td>Sarah J. Maas</td>\n",
       "      <td>Queen of Shadows (Throne of Glass, #4)</td>\n",
       "      <td>2015</td>\n",
       "      <td>10242</td>\n",
       "      <td>4.610135</td>\n",
       "      <td>0.227125</td>\n",
       "      <td>{'Fantasy': 8435, 'Young Adult': 3170, 'Romanc...</td>\n",
       "    </tr>\n",
       "    <tr>\n",
       "      <th>21</th>\n",
       "      <td>20613470</td>\n",
       "      <td>Sarah J. Maas</td>\n",
       "      <td>Heir of Fire (Throne of Glass, #3)</td>\n",
       "      <td>2014</td>\n",
       "      <td>10136</td>\n",
       "      <td>4.495560</td>\n",
       "      <td>0.217640</td>\n",
       "      <td>{'Fantasy': 9677, 'Young Adult': 3800, 'Romanc...</td>\n",
       "    </tr>\n",
       "    <tr>\n",
       "      <th>22</th>\n",
       "      <td>2657</td>\n",
       "      <td>Harper Lee</td>\n",
       "      <td>To Kill a Mockingbird</td>\n",
       "      <td>2006</td>\n",
       "      <td>10189</td>\n",
       "      <td>4.459024</td>\n",
       "      <td>0.216492</td>\n",
       "      <td>{'Classics': 41773, 'Fiction': 21733, 'Histori...</td>\n",
       "    </tr>\n",
       "    <tr>\n",
       "      <th>23</th>\n",
       "      <td>2</td>\n",
       "      <td>J.K. Rowling, Mary GrandPré</td>\n",
       "      <td>Harry Potter and the Order of the Phoenix (Har...</td>\n",
       "      <td>2004</td>\n",
       "      <td>9530</td>\n",
       "      <td>4.685834</td>\n",
       "      <td>0.215766</td>\n",
       "      <td>{'Fantasy': 46485, 'Young Adult': 15194, 'Fict...</td>\n",
       "    </tr>\n",
       "    <tr>\n",
       "      <th>24</th>\n",
       "      <td>18774964</td>\n",
       "      <td>Fredrik Backman, Henning Koch</td>\n",
       "      <td>A Man Called Ove</td>\n",
       "      <td>2014</td>\n",
       "      <td>10024</td>\n",
       "      <td>4.394852</td>\n",
       "      <td>0.209034</td>\n",
       "      <td>{'Fiction': 7091, 'Contemporary': 1656, 'Audio...</td>\n",
       "    </tr>\n",
       "    <tr>\n",
       "      <th>25</th>\n",
       "      <td>18460392</td>\n",
       "      <td>Jennifer Niven</td>\n",
       "      <td>All the Bright Places</td>\n",
       "      <td>2015</td>\n",
       "      <td>10872</td>\n",
       "      <td>4.122333</td>\n",
       "      <td>0.208520</td>\n",
       "      <td>{'Young Adult': 4691, 'Contemporary': 2534, 'R...</td>\n",
       "    </tr>\n",
       "    <tr>\n",
       "      <th>26</th>\n",
       "      <td>7896527</td>\n",
       "      <td>Sarah J. Maas</td>\n",
       "      <td>Throne of Glass (Throne of Glass, #1)</td>\n",
       "      <td>2012</td>\n",
       "      <td>10330</td>\n",
       "      <td>4.219942</td>\n",
       "      <td>0.204317</td>\n",
       "      <td>{'Fantasy': 16888, 'Young Adult': 7306, 'Roman...</td>\n",
       "    </tr>\n",
       "    <tr>\n",
       "      <th>27</th>\n",
       "      <td>1</td>\n",
       "      <td>J.K. Rowling</td>\n",
       "      <td>Harry Potter and the Half-Blood Prince (Harry ...</td>\n",
       "      <td>2006</td>\n",
       "      <td>8732</td>\n",
       "      <td>4.796152</td>\n",
       "      <td>0.203613</td>\n",
       "      <td>{'Fantasy': 46400, 'Young Adult': 15083, 'Fict...</td>\n",
       "    </tr>\n",
       "    <tr>\n",
       "      <th>28</th>\n",
       "      <td>20170404</td>\n",
       "      <td>Emily St. John Mandel</td>\n",
       "      <td>Station Eleven</td>\n",
       "      <td>2014</td>\n",
       "      <td>10511</td>\n",
       "      <td>4.127961</td>\n",
       "      <td>0.201959</td>\n",
       "      <td>{'Fiction': 5860, 'Science Fiction': 3274, 'Sc...</td>\n",
       "    </tr>\n",
       "    <tr>\n",
       "      <th>29</th>\n",
       "      <td>136251</td>\n",
       "      <td>J.K. Rowling</td>\n",
       "      <td>Harry Potter and the Deathly Hallows (Harry Po...</td>\n",
       "      <td>2007</td>\n",
       "      <td>8390</td>\n",
       "      <td>4.850775</td>\n",
       "      <td>0.198453</td>\n",
       "      <td>{'Fantasy': 46667, 'Young Adult': 15403, 'Fict...</td>\n",
       "    </tr>\n",
       "    <tr>\n",
       "      <th>30</th>\n",
       "      <td>16101128</td>\n",
       "      <td>Rick Yancey</td>\n",
       "      <td>The 5th Wave (The 5th Wave, #1)</td>\n",
       "      <td>2013</td>\n",
       "      <td>9384</td>\n",
       "      <td>4.035912</td>\n",
       "      <td>0.174997</td>\n",
       "      <td>{'Young Adult': 5331, 'Science Fiction': 3197,...</td>\n",
       "    </tr>\n",
       "    <tr>\n",
       "      <th>31</th>\n",
       "      <td>5470</td>\n",
       "      <td>George Orwell, Erich Fromm</td>\n",
       "      <td>1984</td>\n",
       "      <td>1950</td>\n",
       "      <td>9059</td>\n",
       "      <td>4.124738</td>\n",
       "      <td>0.173878</td>\n",
       "      <td>{'Classics': 33441, 'Fiction': 21086, 'Science...</td>\n",
       "    </tr>\n",
       "    <tr>\n",
       "      <th>32</th>\n",
       "      <td>19063</td>\n",
       "      <td>Markus Zusak</td>\n",
       "      <td>The Book Thief</td>\n",
       "      <td>&lt;NA&gt;</td>\n",
       "      <td>8085</td>\n",
       "      <td>4.479530</td>\n",
       "      <td>0.172801</td>\n",
       "      <td>{'Historical-Historical Fiction': 18340, 'Fict...</td>\n",
       "    </tr>\n",
       "    <tr>\n",
       "      <th>33</th>\n",
       "      <td>23395680</td>\n",
       "      <td>Amie Kaufman, Jay Kristoff</td>\n",
       "      <td>Illuminae (The Illuminae Files, #1)</td>\n",
       "      <td>2015</td>\n",
       "      <td>8170</td>\n",
       "      <td>4.380416</td>\n",
       "      <td>0.169644</td>\n",
       "      <td>{'Science Fiction': 3927, 'Young Adult': 3535,...</td>\n",
       "    </tr>\n",
       "    <tr>\n",
       "      <th>34</th>\n",
       "      <td>25494343</td>\n",
       "      <td>Cassandra Clare</td>\n",
       "      <td>Lady Midnight (The Dark Artifices, #1)</td>\n",
       "      <td>2016</td>\n",
       "      <td>7718</td>\n",
       "      <td>4.558176</td>\n",
       "      <td>0.168684</td>\n",
       "      <td>{'Fantasy': 4277, 'Young Adult': 2491, 'Romanc...</td>\n",
       "    </tr>\n",
       "    <tr>\n",
       "      <th>35</th>\n",
       "      <td>22055262</td>\n",
       "      <td>V.E. Schwab</td>\n",
       "      <td>A Darker Shade of Magic (Shades of Magic, #1)</td>\n",
       "      <td>2015</td>\n",
       "      <td>8661</td>\n",
       "      <td>4.138783</td>\n",
       "      <td>0.166985</td>\n",
       "      <td>{'Fantasy': 14539, 'Young Adult': 2101, 'Ficti...</td>\n",
       "    </tr>\n",
       "    <tr>\n",
       "      <th>36</th>\n",
       "      <td>28260587</td>\n",
       "      <td>Sarah J. Maas</td>\n",
       "      <td>Empire of Storms (Throne of Glass, #5)</td>\n",
       "      <td>2016</td>\n",
       "      <td>7416</td>\n",
       "      <td>4.557174</td>\n",
       "      <td>0.162037</td>\n",
       "      <td>{'Fantasy': 6616, 'Young Adult': 2251, 'Romanc...</td>\n",
       "    </tr>\n",
       "    <tr>\n",
       "      <th>37</th>\n",
       "      <td>23766634</td>\n",
       "      <td>Sarah J. Maas</td>\n",
       "      <td>A Court of Wings and Ruin (A Court of Thorns a...</td>\n",
       "      <td>2017</td>\n",
       "      <td>7457</td>\n",
       "      <td>4.490680</td>\n",
       "      <td>0.159888</td>\n",
       "      <td>{'Fantasy': 7960, 'Romance': 2365, 'Young Adul...</td>\n",
       "    </tr>\n",
       "    <tr>\n",
       "      <th>38</th>\n",
       "      <td>18798983</td>\n",
       "      <td>Renée Ahdieh</td>\n",
       "      <td>The Wrath and the Dawn (The Wrath and the Dawn...</td>\n",
       "      <td>2015</td>\n",
       "      <td>7887</td>\n",
       "      <td>4.255610</td>\n",
       "      <td>0.157721</td>\n",
       "      <td>{'Fantasy': 5942, 'Young Adult': 3448, 'Romanc...</td>\n",
       "    </tr>\n",
       "    <tr>\n",
       "      <th>39</th>\n",
       "      <td>27362503</td>\n",
       "      <td>Colleen Hoover</td>\n",
       "      <td>It Ends with Us</td>\n",
       "      <td>&lt;NA&gt;</td>\n",
       "      <td>7270</td>\n",
       "      <td>4.523109</td>\n",
       "      <td>0.157326</td>\n",
       "      <td>{'Romance': 3077, 'Contemporary': 1673, 'New A...</td>\n",
       "    </tr>\n",
       "    <tr>\n",
       "      <th>40</th>\n",
       "      <td>17675462</td>\n",
       "      <td>Maggie Stiefvater</td>\n",
       "      <td>The Raven Boys (The Raven Cycle, #1)</td>\n",
       "      <td>2012</td>\n",
       "      <td>8049</td>\n",
       "      <td>4.096658</td>\n",
       "      <td>0.153102</td>\n",
       "      <td>{'Fantasy': 9481, 'Young Adult': 7067, 'Fantas...</td>\n",
       "    </tr>\n",
       "    <tr>\n",
       "      <th>41</th>\n",
       "      <td>23513349</td>\n",
       "      <td>Rupi Kaur</td>\n",
       "      <td>Milk and Honey</td>\n",
       "      <td>2014</td>\n",
       "      <td>7720</td>\n",
       "      <td>4.161788</td>\n",
       "      <td>0.149931</td>\n",
       "      <td>{'Poetry': 14490, 'Feminism': 1105, 'Nonfictio...</td>\n",
       "    </tr>\n",
       "    <tr>\n",
       "      <th>42</th>\n",
       "      <td>9361589</td>\n",
       "      <td>Erin Morgenstern</td>\n",
       "      <td>The Night Circus</td>\n",
       "      <td>2011</td>\n",
       "      <td>7362</td>\n",
       "      <td>4.085982</td>\n",
       "      <td>0.139550</td>\n",
       "      <td>{'Fantasy': 16749, 'Fiction': 7058, 'Romance':...</td>\n",
       "    </tr>\n",
       "    <tr>\n",
       "      <th>43</th>\n",
       "      <td>18635016</td>\n",
       "      <td>Kiera Cass</td>\n",
       "      <td>The One (The Selection, #3)</td>\n",
       "      <td>2014</td>\n",
       "      <td>7340</td>\n",
       "      <td>4.073025</td>\n",
       "      <td>0.138549</td>\n",
       "      <td>{'Young Adult': 4782, 'Romance': 3852, 'Scienc...</td>\n",
       "    </tr>\n",
       "    <tr>\n",
       "      <th>44</th>\n",
       "      <td>15749186</td>\n",
       "      <td>Jenny Han</td>\n",
       "      <td>To All the Boys I've Loved Before (To All the ...</td>\n",
       "      <td>2015</td>\n",
       "      <td>7189</td>\n",
       "      <td>4.070942</td>\n",
       "      <td>0.135606</td>\n",
       "      <td>{'Young Adult': 5919, 'Romance': 4965, 'Contem...</td>\n",
       "    </tr>\n",
       "    <tr>\n",
       "      <th>45</th>\n",
       "      <td>22489107</td>\n",
       "      <td>Marissa Meyer</td>\n",
       "      <td>Fairest (The Lunar Chronicles, #3.5)</td>\n",
       "      <td>2015</td>\n",
       "      <td>7254</td>\n",
       "      <td>4.040805</td>\n",
       "      <td>0.135489</td>\n",
       "      <td>{'Fantasy': 2825, 'Young Adult': 2772, 'Scienc...</td>\n",
       "    </tr>\n",
       "    <tr>\n",
       "      <th>46</th>\n",
       "      <td>10964</td>\n",
       "      <td>Diana Gabaldon</td>\n",
       "      <td>Outlander (Outlander, #1)</td>\n",
       "      <td>2005</td>\n",
       "      <td>7002</td>\n",
       "      <td>4.126107</td>\n",
       "      <td>0.134451</td>\n",
       "      <td>{'Historical-Historical Fiction': 10725, 'Roma...</td>\n",
       "    </tr>\n",
       "    <tr>\n",
       "      <th>47</th>\n",
       "      <td>10194157</td>\n",
       "      <td>Leigh Bardugo</td>\n",
       "      <td>Shadow and Bone (The Grisha, #1)</td>\n",
       "      <td>2012</td>\n",
       "      <td>7121</td>\n",
       "      <td>4.058559</td>\n",
       "      <td>0.133781</td>\n",
       "      <td>{'Fantasy': 14290, 'Young Adult': 6921, 'Roman...</td>\n",
       "    </tr>\n",
       "    <tr>\n",
       "      <th>48</th>\n",
       "      <td>20698530</td>\n",
       "      <td>Jenny Han</td>\n",
       "      <td>P.S. I Still Love You (To All the Boys I've Lo...</td>\n",
       "      <td>2015</td>\n",
       "      <td>6918</td>\n",
       "      <td>4.109858</td>\n",
       "      <td>0.132147</td>\n",
       "      <td>{'Young Adult': 3659, 'Romance': 3112, 'Contem...</td>\n",
       "    </tr>\n",
       "    <tr>\n",
       "      <th>49</th>\n",
       "      <td>27833670</td>\n",
       "      <td>Blake Crouch</td>\n",
       "      <td>Dark Matter</td>\n",
       "      <td>2016</td>\n",
       "      <td>6749</td>\n",
       "      <td>4.121648</td>\n",
       "      <td>0.129407</td>\n",
       "      <td>{'Science Fiction': 4244, 'Fiction': 3079, 'Th...</td>\n",
       "    </tr>\n",
       "    <tr>\n",
       "      <th>50</th>\n",
       "      <td>22544764</td>\n",
       "      <td>Naomi Novik</td>\n",
       "      <td>Uprooted</td>\n",
       "      <td>2015</td>\n",
       "      <td>6728</td>\n",
       "      <td>4.107164</td>\n",
       "      <td>0.128406</td>\n",
       "      <td>{'Fantasy': 13419, 'Young Adult': 2048, 'Ficti...</td>\n",
       "    </tr>\n",
       "    <tr>\n",
       "      <th>51</th>\n",
       "      <td>28187</td>\n",
       "      <td>Rick Riordan</td>\n",
       "      <td>The Lightning Thief (Percy Jackson and the Oly...</td>\n",
       "      <td>2006</td>\n",
       "      <td>6445</td>\n",
       "      <td>4.208534</td>\n",
       "      <td>0.127017</td>\n",
       "      <td>{'Fantasy': 21419, 'Young Adult': 9587, 'Fanta...</td>\n",
       "    </tr>\n",
       "    <tr>\n",
       "      <th>52</th>\n",
       "      <td>23164983</td>\n",
       "      <td>Ransom Riggs</td>\n",
       "      <td>Hollow City (Miss Peregrine’s Peculiar Childre...</td>\n",
       "      <td>&lt;NA&gt;</td>\n",
       "      <td>6640</td>\n",
       "      <td>4.041717</td>\n",
       "      <td>0.124057</td>\n",
       "      <td>{'Fantasy': 4427, 'Young Adult': 3025, 'Fictio...</td>\n",
       "    </tr>\n",
       "    <tr>\n",
       "      <th>53</th>\n",
       "      <td>15839976</td>\n",
       "      <td>Pierce Brown</td>\n",
       "      <td>Red Rising (Red Rising, #1)</td>\n",
       "      <td>2014</td>\n",
       "      <td>6400</td>\n",
       "      <td>4.150313</td>\n",
       "      <td>0.123841</td>\n",
       "      <td>{'Science Fiction': 4634, 'Fantasy': 2920, 'Yo...</td>\n",
       "    </tr>\n",
       "    <tr>\n",
       "      <th>54</th>\n",
       "      <td>25489625</td>\n",
       "      <td>Ta-Nehisi Coates</td>\n",
       "      <td>Between the World and Me</td>\n",
       "      <td>2015</td>\n",
       "      <td>5762</td>\n",
       "      <td>4.470149</td>\n",
       "      <td>0.122813</td>\n",
       "      <td>{'Nonfiction': 6587, 'Autobiography-Memoir': 2...</td>\n",
       "    </tr>\n",
       "    <tr>\n",
       "      <th>55</th>\n",
       "      <td>32075671</td>\n",
       "      <td>Angie Thomas</td>\n",
       "      <td>The Hate U Give</td>\n",
       "      <td>2017</td>\n",
       "      <td>5386</td>\n",
       "      <td>4.707390</td>\n",
       "      <td>0.122646</td>\n",
       "      <td>{'Young Adult': 8354, 'Fiction': 5014, 'Contem...</td>\n",
       "    </tr>\n",
       "    <tr>\n",
       "      <th>56</th>\n",
       "      <td>28763485</td>\n",
       "      <td>Nicola Yoon</td>\n",
       "      <td>The Sun Is Also a Star</td>\n",
       "      <td>2016</td>\n",
       "      <td>6223</td>\n",
       "      <td>4.194440</td>\n",
       "      <td>0.122102</td>\n",
       "      <td>{'Young Adult': 3806, 'Romance': 2512, 'Contem...</td>\n",
       "    </tr>\n",
       "    <tr>\n",
       "      <th>57</th>\n",
       "      <td>22738563</td>\n",
       "      <td>Chimamanda Ngozi Adichie</td>\n",
       "      <td>We Should All Be Feminists</td>\n",
       "      <td>2014</td>\n",
       "      <td>5555</td>\n",
       "      <td>4.568317</td>\n",
       "      <td>0.121750</td>\n",
       "      <td>{'Nonfiction': 6864, 'Feminism': 4519, 'Writin...</td>\n",
       "    </tr>\n",
       "    <tr>\n",
       "      <th>58</th>\n",
       "      <td>13496</td>\n",
       "      <td>George R.R. Martin</td>\n",
       "      <td>A Game of Thrones (A Song of Ice and Fire, #1)</td>\n",
       "      <td>2005</td>\n",
       "      <td>5699</td>\n",
       "      <td>4.440779</td>\n",
       "      <td>0.120442</td>\n",
       "      <td>{'Fantasy': 44086, 'Fiction': 10111, 'Fantasy-...</td>\n",
       "    </tr>\n",
       "    <tr>\n",
       "      <th>59</th>\n",
       "      <td>25111004</td>\n",
       "      <td>Colleen Hoover</td>\n",
       "      <td>November 9</td>\n",
       "      <td>2015</td>\n",
       "      <td>5807</td>\n",
       "      <td>4.366454</td>\n",
       "      <td>0.120074</td>\n",
       "      <td>{'Romance': 1811, 'New Adult': 1296, 'Contempo...</td>\n",
       "    </tr>\n",
       "    <tr>\n",
       "      <th>60</th>\n",
       "      <td>7171637</td>\n",
       "      <td>Cassandra Clare</td>\n",
       "      <td>Clockwork Angel (The Infernal Devices, #1)</td>\n",
       "      <td>2010</td>\n",
       "      <td>5869</td>\n",
       "      <td>4.261714</td>\n",
       "      <td>0.117580</td>\n",
       "      <td>{'Fantasy': 10151, 'Young Adult': 7424, 'Fanta...</td>\n",
       "    </tr>\n",
       "    <tr>\n",
       "      <th>61</th>\n",
       "      <td>1885</td>\n",
       "      <td>Jane Austen, Anna Quindlen</td>\n",
       "      <td>Pride and Prejudice</td>\n",
       "      <td>2000</td>\n",
       "      <td>5700</td>\n",
       "      <td>4.316316</td>\n",
       "      <td>0.116106</td>\n",
       "      <td>{'Classics': 46807, 'Fiction': 14324, 'Romance...</td>\n",
       "    </tr>\n",
       "    <tr>\n",
       "      <th>62</th>\n",
       "      <td>7613</td>\n",
       "      <td>George Orwell, Boris Grabnar, Peter Škerl</td>\n",
       "      <td>Animal Farm</td>\n",
       "      <td>2003</td>\n",
       "      <td>5908</td>\n",
       "      <td>4.189235</td>\n",
       "      <td>0.115732</td>\n",
       "      <td>{'Classics': 30122, 'Fiction': 17416, 'Science...</td>\n",
       "    </tr>\n",
       "    <tr>\n",
       "      <th>63</th>\n",
       "      <td>186074</td>\n",
       "      <td>Patrick Rothfuss</td>\n",
       "      <td>The Name of the Wind (The Kingkiller Chronicle...</td>\n",
       "      <td>2007</td>\n",
       "      <td>5531</td>\n",
       "      <td>4.406436</td>\n",
       "      <td>0.115724</td>\n",
       "      <td>{'Fantasy': 28188, 'Fiction': 4251, 'Fantasy-E...</td>\n",
       "    </tr>\n",
       "    <tr>\n",
       "      <th>64</th>\n",
       "      <td>1582996</td>\n",
       "      <td>Cassandra Clare</td>\n",
       "      <td>City of Ashes (The Mortal Instruments, #2)</td>\n",
       "      <td>2008</td>\n",
       "      <td>6052</td>\n",
       "      <td>4.083113</td>\n",
       "      <td>0.114608</td>\n",
       "      <td>{'Fantasy': 11997, 'Young Adult': 9281, 'Fanta...</td>\n",
       "    </tr>\n",
       "    <tr>\n",
       "      <th>65</th>\n",
       "      <td>13335037</td>\n",
       "      <td>Veronica Roth</td>\n",
       "      <td>Divergent (Divergent, #1)</td>\n",
       "      <td>2012</td>\n",
       "      <td>5929</td>\n",
       "      <td>4.130882</td>\n",
       "      <td>0.114018</td>\n",
       "      <td>{'Young Adult': 20260, 'Science Fiction-Dystop...</td>\n",
       "    </tr>\n",
       "    <tr>\n",
       "      <th>66</th>\n",
       "      <td>3777732</td>\n",
       "      <td>Cassandra Clare</td>\n",
       "      <td>City of Glass (The Mortal Instruments, #3)</td>\n",
       "      <td>&lt;NA&gt;</td>\n",
       "      <td>5470</td>\n",
       "      <td>4.365448</td>\n",
       "      <td>0.113071</td>\n",
       "      <td>{'Fantasy': 11194, 'Young Adult': 8549, 'Fanta...</td>\n",
       "    </tr>\n",
       "    <tr>\n",
       "      <th>67</th>\n",
       "      <td>30555488</td>\n",
       "      <td>Colson Whitehead</td>\n",
       "      <td>The Underground Railroad</td>\n",
       "      <td>2016</td>\n",
       "      <td>6052</td>\n",
       "      <td>4.029247</td>\n",
       "      <td>0.112606</td>\n",
       "      <td>{'Historical-Historical Fiction': 5191, 'Ficti...</td>\n",
       "    </tr>\n",
       "    <tr>\n",
       "      <th>68</th>\n",
       "      <td>11870085</td>\n",
       "      <td>John Green</td>\n",
       "      <td>The Fault in Our Stars</td>\n",
       "      <td>2012</td>\n",
       "      <td>5819</td>\n",
       "      <td>4.130091</td>\n",
       "      <td>0.111874</td>\n",
       "      <td>{'Young Adult': 20449, 'Fiction': 10338, 'Roma...</td>\n",
       "    </tr>\n",
       "    <tr>\n",
       "      <th>69</th>\n",
       "      <td>15704307</td>\n",
       "      <td>Brian K. Vaughan, Fiona Staples</td>\n",
       "      <td>Saga, Vol. 1 (Saga, #1)</td>\n",
       "      <td>2012</td>\n",
       "      <td>5322</td>\n",
       "      <td>4.410936</td>\n",
       "      <td>0.111498</td>\n",
       "      <td>{'Sequential Art-Graphic Novels': 7803, 'Seque...</td>\n",
       "    </tr>\n",
       "    <tr>\n",
       "      <th>70</th>\n",
       "      <td>17378508</td>\n",
       "      <td>Maggie Stiefvater</td>\n",
       "      <td>Blue Lily, Lily Blue (The Raven Cycle, #3)</td>\n",
       "      <td>2014</td>\n",
       "      <td>5284</td>\n",
       "      <td>4.335541</td>\n",
       "      <td>0.108254</td>\n",
       "      <td>{'Fantasy': 5121, 'Young Adult': 3651, 'Fantas...</td>\n",
       "    </tr>\n",
       "    <tr>\n",
       "      <th>71</th>\n",
       "      <td>23848559</td>\n",
       "      <td>Jenny  Lawson</td>\n",
       "      <td>Furiously Happy: A Funny Book About Horrible T...</td>\n",
       "      <td>2015</td>\n",
       "      <td>5592</td>\n",
       "      <td>4.065629</td>\n",
       "      <td>0.105295</td>\n",
       "      <td>{'Nonfiction': 3138, 'Humor': 1914, 'Autobiogr...</td>\n",
       "    </tr>\n",
       "    <tr>\n",
       "      <th>72</th>\n",
       "      <td>10025305</td>\n",
       "      <td>Cassandra Clare</td>\n",
       "      <td>Clockwork Prince (The Infernal Devices, #2)</td>\n",
       "      <td>2011</td>\n",
       "      <td>4900</td>\n",
       "      <td>4.491224</td>\n",
       "      <td>0.105071</td>\n",
       "      <td>{'Fantasy': 7212, 'Young Adult': 5170, 'Romanc...</td>\n",
       "    </tr>\n",
       "    <tr>\n",
       "      <th>73</th>\n",
       "      <td>8755785</td>\n",
       "      <td>Cassandra Clare</td>\n",
       "      <td>City of Heavenly Fire (The Mortal Instruments,...</td>\n",
       "      <td>2014</td>\n",
       "      <td>4933</td>\n",
       "      <td>4.461788</td>\n",
       "      <td>0.104887</td>\n",
       "      <td>{'Fantasy': 5999, 'Young Adult': 4162, 'Fantas...</td>\n",
       "    </tr>\n",
       "    <tr>\n",
       "      <th>74</th>\n",
       "      <td>18335634</td>\n",
       "      <td>Cassandra Clare</td>\n",
       "      <td>Clockwork Princess (The Infernal Devices, #3)</td>\n",
       "      <td>2013</td>\n",
       "      <td>4632</td>\n",
       "      <td>4.644214</td>\n",
       "      <td>0.103676</td>\n",
       "      <td>{'Fantasy': 6538, 'Young Adult': 4566, 'Romanc...</td>\n",
       "    </tr>\n",
       "    <tr>\n",
       "      <th>75</th>\n",
       "      <td>17851885</td>\n",
       "      <td>Malala Yousafzai, Christina Lamb</td>\n",
       "      <td>I Am Malala: The Story of the Girl Who Stood U...</td>\n",
       "      <td>2013</td>\n",
       "      <td>5252</td>\n",
       "      <td>4.190404</td>\n",
       "      <td>0.102917</td>\n",
       "      <td>{'Nonfiction': 5580, 'Biography': 2294, 'Autob...</td>\n",
       "    </tr>\n",
       "    <tr>\n",
       "      <th>76</th>\n",
       "      <td>17788401</td>\n",
       "      <td>Colleen Hoover</td>\n",
       "      <td>Ugly Love</td>\n",
       "      <td>2014</td>\n",
       "      <td>5189</td>\n",
       "      <td>4.222779</td>\n",
       "      <td>0.102714</td>\n",
       "      <td>{'Romance': 2972, 'New Adult': 2006, 'Contempo...</td>\n",
       "    </tr>\n",
       "    <tr>\n",
       "      <th>77</th>\n",
       "      <td>18243700</td>\n",
       "      <td>Sarah J. Maas</td>\n",
       "      <td>The Assassin's Blade (Throne of Glass, #0.1-0.5)</td>\n",
       "      <td>2014</td>\n",
       "      <td>4795</td>\n",
       "      <td>4.444004</td>\n",
       "      <td>0.101429</td>\n",
       "      <td>{'Fantasy': 4943, 'Young Adult': 2078, 'Romanc...</td>\n",
       "    </tr>\n",
       "    <tr>\n",
       "      <th>78</th>\n",
       "      <td>25899336</td>\n",
       "      <td>Paul Kalanithi</td>\n",
       "      <td>When Breath Becomes Air</td>\n",
       "      <td>&lt;NA&gt;</td>\n",
       "      <td>4799</td>\n",
       "      <td>4.427172</td>\n",
       "      <td>0.101017</td>\n",
       "      <td>{'Nonfiction': 5848, 'Autobiography-Memoir': 3...</td>\n",
       "    </tr>\n",
       "    <tr>\n",
       "      <th>79</th>\n",
       "      <td>18584855</td>\n",
       "      <td>Marissa Meyer</td>\n",
       "      <td>Heartless</td>\n",
       "      <td>2016</td>\n",
       "      <td>5264</td>\n",
       "      <td>4.071619</td>\n",
       "      <td>0.099312</td>\n",
       "      <td>{'Fantasy': 4654, 'Young Adult': 2581, 'Retell...</td>\n",
       "    </tr>\n",
       "    <tr>\n",
       "      <th>80</th>\n",
       "      <td>28587957</td>\n",
       "      <td>Jodi Picoult</td>\n",
       "      <td>Small Great Things</td>\n",
       "      <td>2016</td>\n",
       "      <td>4832</td>\n",
       "      <td>4.336921</td>\n",
       "      <td>0.099033</td>\n",
       "      <td>{'Fiction': 2506, 'Contemporary': 576, 'Audiob...</td>\n",
       "    </tr>\n",
       "    <tr>\n",
       "      <th>81</th>\n",
       "      <td>25614492</td>\n",
       "      <td>Ruta Sepetys</td>\n",
       "      <td>Salt to the Sea</td>\n",
       "      <td>2016</td>\n",
       "      <td>4655</td>\n",
       "      <td>4.423631</td>\n",
       "      <td>0.097884</td>\n",
       "      <td>{'Historical-Historical Fiction': 5528, 'Young...</td>\n",
       "    </tr>\n",
       "    <tr>\n",
       "      <th>82</th>\n",
       "      <td>6936382</td>\n",
       "      <td>Stephanie Perkins</td>\n",
       "      <td>Anna and the French Kiss (Anna and the French ...</td>\n",
       "      <td>2010</td>\n",
       "      <td>5050</td>\n",
       "      <td>4.108713</td>\n",
       "      <td>0.096424</td>\n",
       "      <td>{'Young Adult': 6126, 'Romance': 5253, 'Contem...</td>\n",
       "    </tr>\n",
       "    <tr>\n",
       "      <th>83</th>\n",
       "      <td>14061955</td>\n",
       "      <td>Leigh Bardugo</td>\n",
       "      <td>Siege and Storm (The Grisha, #2)</td>\n",
       "      <td>2013</td>\n",
       "      <td>5194</td>\n",
       "      <td>4.003851</td>\n",
       "      <td>0.095829</td>\n",
       "      <td>{'Fantasy': 8707, 'Young Adult': 4242, 'Romanc...</td>\n",
       "    </tr>\n",
       "    <tr>\n",
       "      <th>84</th>\n",
       "      <td>24378015</td>\n",
       "      <td>Colleen Hoover, Tarryn Fisher</td>\n",
       "      <td>Never Never (Never Never, #1)</td>\n",
       "      <td>&lt;NA&gt;</td>\n",
       "      <td>4942</td>\n",
       "      <td>4.156414</td>\n",
       "      <td>0.095809</td>\n",
       "      <td>{'Romance': 1111, 'Young Adult': 954, 'Contemp...</td>\n",
       "    </tr>\n",
       "    <tr>\n",
       "      <th>85</th>\n",
       "      <td>15724396</td>\n",
       "      <td>Rick Riordan</td>\n",
       "      <td>The Sword of Summer (Magnus Chase and the Gods...</td>\n",
       "      <td>2015</td>\n",
       "      <td>4827</td>\n",
       "      <td>4.225192</td>\n",
       "      <td>0.095618</td>\n",
       "      <td>{'Fantasy': 4007, 'Fantasy-Mythology': 1823, '...</td>\n",
       "    </tr>\n",
       "    <tr>\n",
       "      <th>86</th>\n",
       "      <td>18214414</td>\n",
       "      <td>Robert Galbraith</td>\n",
       "      <td>The Silkworm (Cormoran Strike, #2)</td>\n",
       "      <td>2014</td>\n",
       "      <td>5102</td>\n",
       "      <td>4.043120</td>\n",
       "      <td>0.095362</td>\n",
       "      <td>{'Mystery': 4585, 'Fiction': 2232, 'Mystery-Cr...</td>\n",
       "    </tr>\n",
       "    <tr>\n",
       "      <th>87</th>\n",
       "      <td>77203</td>\n",
       "      <td>Khaled Hosseini, Berliani M. Nugrahani</td>\n",
       "      <td>The Kite Runner</td>\n",
       "      <td>2004</td>\n",
       "      <td>4494</td>\n",
       "      <td>4.413663</td>\n",
       "      <td>0.094223</td>\n",
       "      <td>{'Fiction': 14993, 'Historical-Historical Fict...</td>\n",
       "    </tr>\n",
       "    <tr>\n",
       "      <th>88</th>\n",
       "      <td>17131869</td>\n",
       "      <td>Brian K. Vaughan, Fiona Staples</td>\n",
       "      <td>Saga, Vol. 2 (Saga, #2)</td>\n",
       "      <td>2013</td>\n",
       "      <td>4355</td>\n",
       "      <td>4.516648</td>\n",
       "      <td>0.094062</td>\n",
       "      <td>{'Sequential Art-Graphic Novels': 5510, 'Seque...</td>\n",
       "    </tr>\n",
       "    <tr>\n",
       "      <th>89</th>\n",
       "      <td>27071490</td>\n",
       "      <td>Yaa Gyasi</td>\n",
       "      <td>Homegoing</td>\n",
       "      <td>2016</td>\n",
       "      <td>4376</td>\n",
       "      <td>4.499086</td>\n",
       "      <td>0.094044</td>\n",
       "      <td>{'Historical-Historical Fiction': 3664, 'Ficti...</td>\n",
       "    </tr>\n",
       "    <tr>\n",
       "      <th>90</th>\n",
       "      <td>15796700</td>\n",
       "      <td>Chimamanda Ngozi Adichie, Jashar Awan</td>\n",
       "      <td>Americanah</td>\n",
       "      <td>2013</td>\n",
       "      <td>4564</td>\n",
       "      <td>4.343120</td>\n",
       "      <td>0.093713</td>\n",
       "      <td>{'Fiction': 5255, 'Cultural-Africa': 1270, 'Co...</td>\n",
       "    </tr>\n",
       "    <tr>\n",
       "      <th>91</th>\n",
       "      <td>23093367</td>\n",
       "      <td>Brian K. Vaughan, Fiona Staples</td>\n",
       "      <td>Saga, Vol. 4 (Saga, #4)</td>\n",
       "      <td>2014</td>\n",
       "      <td>4329</td>\n",
       "      <td>4.454377</td>\n",
       "      <td>0.091845</td>\n",
       "      <td>{'Sequential Art-Graphic Novels': 4243, 'Seque...</td>\n",
       "    </tr>\n",
       "    <tr>\n",
       "      <th>92</th>\n",
       "      <td>2767052</td>\n",
       "      <td>Suzanne Collins</td>\n",
       "      <td>The Hunger Games (The Hunger Games, #1)</td>\n",
       "      <td>2008</td>\n",
       "      <td>4361</td>\n",
       "      <td>4.413437</td>\n",
       "      <td>0.091428</td>\n",
       "      <td>{'Young Adult': 30042, 'Fiction': 16754, 'Scie...</td>\n",
       "    </tr>\n",
       "    <tr>\n",
       "      <th>93</th>\n",
       "      <td>15818107</td>\n",
       "      <td>Christina Baker Kline, Christina Baker Kline</td>\n",
       "      <td>Orphan Train</td>\n",
       "      <td>2013</td>\n",
       "      <td>4748</td>\n",
       "      <td>4.119419</td>\n",
       "      <td>0.090969</td>\n",
       "      <td>{'Historical-Historical Fiction': 4762, 'Ficti...</td>\n",
       "    </tr>\n",
       "    <tr>\n",
       "      <th>94</th>\n",
       "      <td>14061957</td>\n",
       "      <td>Leigh Bardugo</td>\n",
       "      <td>Ruin and Rising (The Grisha, #3)</td>\n",
       "      <td>2014</td>\n",
       "      <td>4656</td>\n",
       "      <td>4.176332</td>\n",
       "      <td>0.090833</td>\n",
       "      <td>{'Fantasy': 7376, 'Young Adult': 3542, 'Romanc...</td>\n",
       "    </tr>\n",
       "    <tr>\n",
       "      <th>95</th>\n",
       "      <td>8490112</td>\n",
       "      <td>Laini Taylor</td>\n",
       "      <td>Daughter of Smoke &amp; Bone (Daughter of Smoke &amp; ...</td>\n",
       "      <td>2011</td>\n",
       "      <td>4792</td>\n",
       "      <td>4.080968</td>\n",
       "      <td>0.090680</td>\n",
       "      <td>{'Fantasy': 11681, 'Young Adult': 7110, 'Roman...</td>\n",
       "    </tr>\n",
       "    <tr>\n",
       "      <th>96</th>\n",
       "      <td>18966819</td>\n",
       "      <td>Pierce Brown</td>\n",
       "      <td>Golden Son (Red Rising, #2)</td>\n",
       "      <td>2015</td>\n",
       "      <td>4362</td>\n",
       "      <td>4.374828</td>\n",
       "      <td>0.090414</td>\n",
       "      <td>{'Science Fiction': 2613, 'Fantasy': 1372, 'Sc...</td>\n",
       "    </tr>\n",
       "    <tr>\n",
       "      <th>97</th>\n",
       "      <td>3636</td>\n",
       "      <td>Lois Lowry</td>\n",
       "      <td>The Giver (The Giver, #1)</td>\n",
       "      <td>2006</td>\n",
       "      <td>4667</td>\n",
       "      <td>4.098564</td>\n",
       "      <td>0.088819</td>\n",
       "      <td>{'Young Adult': 10993, 'Fiction': 9045, 'Class...</td>\n",
       "    </tr>\n",
       "    <tr>\n",
       "      <th>98</th>\n",
       "      <td>18293427</td>\n",
       "      <td>Gabrielle Zevin</td>\n",
       "      <td>The Storied Life of A.J. Fikry</td>\n",
       "      <td>2014</td>\n",
       "      <td>4674</td>\n",
       "      <td>4.092640</td>\n",
       "      <td>0.088782</td>\n",
       "      <td>{'Fiction': 3795, 'Contemporary': 1100, 'Writi...</td>\n",
       "    </tr>\n",
       "    <tr>\n",
       "      <th>99</th>\n",
       "      <td>26252859</td>\n",
       "      <td>Rick Riordan</td>\n",
       "      <td>The Hidden Oracle (The Trials of Apollo, #1)</td>\n",
       "      <td>2016</td>\n",
       "      <td>4372</td>\n",
       "      <td>4.293001</td>\n",
       "      <td>0.088424</td>\n",
       "      <td>{'Fantasy': 3173, 'Fantasy-Mythology': 1514}</td>\n",
       "    </tr>\n",
       "  </tbody>\n",
       "</table>\n",
       "</div>"
      ],
      "text/plain": [
       "     item_id                                        author  \\\n",
       "0   18007564                                     Andy Weir   \n",
       "1   18143977                                 Anthony Doerr   \n",
       "2          3                   J.K. Rowling, Mary GrandPré   \n",
       "3   16096824                                 Sarah J. Maas   \n",
       "4      15881                   J.K. Rowling, Mary GrandPré   \n",
       "5      38447                               Margaret Atwood   \n",
       "6   11235712                                 Marissa Meyer   \n",
       "7   17927395                                 Sarah J. Maas   \n",
       "8          5                   J.K. Rowling, Mary GrandPré   \n",
       "9   13206900                                 Marissa Meyer   \n",
       "10  21853621                                Kristin Hannah   \n",
       "11  18692431                      Nicola Yoon, David  Yoon   \n",
       "12         6                   J.K. Rowling, Mary GrandPré   \n",
       "13  16068905                                Rainbow Rowell   \n",
       "14  23437156                                 Leigh Bardugo   \n",
       "15   9969571                                  Ernest Cline   \n",
       "16  17167166                                 Sarah J. Maas   \n",
       "17  15745753                                Rainbow Rowell   \n",
       "18  13206760                                 Marissa Meyer   \n",
       "19  13206828                                 Marissa Meyer   \n",
       "20  18006496                                 Sarah J. Maas   \n",
       "21  20613470                                 Sarah J. Maas   \n",
       "22      2657                                    Harper Lee   \n",
       "23         2                   J.K. Rowling, Mary GrandPré   \n",
       "24  18774964                 Fredrik Backman, Henning Koch   \n",
       "25  18460392                                Jennifer Niven   \n",
       "26   7896527                                 Sarah J. Maas   \n",
       "27         1                                  J.K. Rowling   \n",
       "28  20170404                         Emily St. John Mandel   \n",
       "29    136251                                  J.K. Rowling   \n",
       "30  16101128                                   Rick Yancey   \n",
       "31      5470                    George Orwell, Erich Fromm   \n",
       "32     19063                                  Markus Zusak   \n",
       "33  23395680                    Amie Kaufman, Jay Kristoff   \n",
       "34  25494343                               Cassandra Clare   \n",
       "35  22055262                                   V.E. Schwab   \n",
       "36  28260587                                 Sarah J. Maas   \n",
       "37  23766634                                 Sarah J. Maas   \n",
       "38  18798983                                  Renée Ahdieh   \n",
       "39  27362503                                Colleen Hoover   \n",
       "40  17675462                             Maggie Stiefvater   \n",
       "41  23513349                                     Rupi Kaur   \n",
       "42   9361589                              Erin Morgenstern   \n",
       "43  18635016                                    Kiera Cass   \n",
       "44  15749186                                     Jenny Han   \n",
       "45  22489107                                 Marissa Meyer   \n",
       "46     10964                                Diana Gabaldon   \n",
       "47  10194157                                 Leigh Bardugo   \n",
       "48  20698530                                     Jenny Han   \n",
       "49  27833670                                  Blake Crouch   \n",
       "50  22544764                                   Naomi Novik   \n",
       "51     28187                                  Rick Riordan   \n",
       "52  23164983                                  Ransom Riggs   \n",
       "53  15839976                                  Pierce Brown   \n",
       "54  25489625                              Ta-Nehisi Coates   \n",
       "55  32075671                                  Angie Thomas   \n",
       "56  28763485                                   Nicola Yoon   \n",
       "57  22738563                      Chimamanda Ngozi Adichie   \n",
       "58     13496                            George R.R. Martin   \n",
       "59  25111004                                Colleen Hoover   \n",
       "60   7171637                               Cassandra Clare   \n",
       "61      1885                    Jane Austen, Anna Quindlen   \n",
       "62      7613     George Orwell, Boris Grabnar, Peter Škerl   \n",
       "63    186074                              Patrick Rothfuss   \n",
       "64   1582996                               Cassandra Clare   \n",
       "65  13335037                                 Veronica Roth   \n",
       "66   3777732                               Cassandra Clare   \n",
       "67  30555488                              Colson Whitehead   \n",
       "68  11870085                                    John Green   \n",
       "69  15704307               Brian K. Vaughan, Fiona Staples   \n",
       "70  17378508                             Maggie Stiefvater   \n",
       "71  23848559                                 Jenny  Lawson   \n",
       "72  10025305                               Cassandra Clare   \n",
       "73   8755785                               Cassandra Clare   \n",
       "74  18335634                               Cassandra Clare   \n",
       "75  17851885              Malala Yousafzai, Christina Lamb   \n",
       "76  17788401                                Colleen Hoover   \n",
       "77  18243700                                 Sarah J. Maas   \n",
       "78  25899336                                Paul Kalanithi   \n",
       "79  18584855                                 Marissa Meyer   \n",
       "80  28587957                                  Jodi Picoult   \n",
       "81  25614492                                  Ruta Sepetys   \n",
       "82   6936382                             Stephanie Perkins   \n",
       "83  14061955                                 Leigh Bardugo   \n",
       "84  24378015                 Colleen Hoover, Tarryn Fisher   \n",
       "85  15724396                                  Rick Riordan   \n",
       "86  18214414                              Robert Galbraith   \n",
       "87     77203        Khaled Hosseini, Berliani M. Nugrahani   \n",
       "88  17131869               Brian K. Vaughan, Fiona Staples   \n",
       "89  27071490                                     Yaa Gyasi   \n",
       "90  15796700         Chimamanda Ngozi Adichie, Jashar Awan   \n",
       "91  23093367               Brian K. Vaughan, Fiona Staples   \n",
       "92   2767052                               Suzanne Collins   \n",
       "93  15818107  Christina Baker Kline, Christina Baker Kline   \n",
       "94  14061957                                 Leigh Bardugo   \n",
       "95   8490112                                  Laini Taylor   \n",
       "96  18966819                                  Pierce Brown   \n",
       "97      3636                                    Lois Lowry   \n",
       "98  18293427                               Gabrielle Zevin   \n",
       "99  26252859                                  Rick Riordan   \n",
       "\n",
       "                                                title  publication_year  \\\n",
       "0                                         The Martian              2014   \n",
       "1                         All the Light We Cannot See              2014   \n",
       "2   Harry Potter and the Sorcerer's Stone (Harry P...              1997   \n",
       "3   A Court of Thorns and Roses (A Court of Thorns...              2015   \n",
       "4   Harry Potter and the Chamber of Secrets (Harry...              1999   \n",
       "5                                 The Handmaid's Tale              1998   \n",
       "6                   Cinder (The Lunar Chronicles, #1)              2012   \n",
       "7   A Court of Mist and Fury (A Court of Thorns an...              2016   \n",
       "8   Harry Potter and the Prisoner of Azkaban (Harr...              2004   \n",
       "9                   Winter (The Lunar Chronicles, #4)              2015   \n",
       "10                                    The Nightingale              2015   \n",
       "11                             Everything, Everything              2015   \n",
       "12  Harry Potter and the Goblet of Fire (Harry Pot...              2002   \n",
       "13                                            Fangirl              2013   \n",
       "14                    Six of Crows (Six of Crows, #1)              2015   \n",
       "15                                   Ready Player One              2011   \n",
       "16            Crown of Midnight (Throne of Glass, #2)              2013   \n",
       "17                                     Eleanor & Park              2013   \n",
       "18                 Scarlet (The Lunar Chronicles, #2)              2013   \n",
       "19                   Cress (The Lunar Chronicles, #3)              2014   \n",
       "20             Queen of Shadows (Throne of Glass, #4)              2015   \n",
       "21                 Heir of Fire (Throne of Glass, #3)              2014   \n",
       "22                              To Kill a Mockingbird              2006   \n",
       "23  Harry Potter and the Order of the Phoenix (Har...              2004   \n",
       "24                                   A Man Called Ove              2014   \n",
       "25                              All the Bright Places              2015   \n",
       "26              Throne of Glass (Throne of Glass, #1)              2012   \n",
       "27  Harry Potter and the Half-Blood Prince (Harry ...              2006   \n",
       "28                                     Station Eleven              2014   \n",
       "29  Harry Potter and the Deathly Hallows (Harry Po...              2007   \n",
       "30                    The 5th Wave (The 5th Wave, #1)              2013   \n",
       "31                                               1984              1950   \n",
       "32                                     The Book Thief              <NA>   \n",
       "33                Illuminae (The Illuminae Files, #1)              2015   \n",
       "34             Lady Midnight (The Dark Artifices, #1)              2016   \n",
       "35      A Darker Shade of Magic (Shades of Magic, #1)              2015   \n",
       "36             Empire of Storms (Throne of Glass, #5)              2016   \n",
       "37  A Court of Wings and Ruin (A Court of Thorns a...              2017   \n",
       "38  The Wrath and the Dawn (The Wrath and the Dawn...              2015   \n",
       "39                                    It Ends with Us              <NA>   \n",
       "40               The Raven Boys (The Raven Cycle, #1)              2012   \n",
       "41                                     Milk and Honey              2014   \n",
       "42                                   The Night Circus              2011   \n",
       "43                        The One (The Selection, #3)              2014   \n",
       "44  To All the Boys I've Loved Before (To All the ...              2015   \n",
       "45               Fairest (The Lunar Chronicles, #3.5)              2015   \n",
       "46                          Outlander (Outlander, #1)              2005   \n",
       "47                   Shadow and Bone (The Grisha, #1)              2012   \n",
       "48  P.S. I Still Love You (To All the Boys I've Lo...              2015   \n",
       "49                                        Dark Matter              2016   \n",
       "50                                           Uprooted              2015   \n",
       "51  The Lightning Thief (Percy Jackson and the Oly...              2006   \n",
       "52  Hollow City (Miss Peregrine’s Peculiar Childre...              <NA>   \n",
       "53                        Red Rising (Red Rising, #1)              2014   \n",
       "54                           Between the World and Me              2015   \n",
       "55                                    The Hate U Give              2017   \n",
       "56                             The Sun Is Also a Star              2016   \n",
       "57                         We Should All Be Feminists              2014   \n",
       "58     A Game of Thrones (A Song of Ice and Fire, #1)              2005   \n",
       "59                                         November 9              2015   \n",
       "60         Clockwork Angel (The Infernal Devices, #1)              2010   \n",
       "61                                Pride and Prejudice              2000   \n",
       "62                                        Animal Farm              2003   \n",
       "63  The Name of the Wind (The Kingkiller Chronicle...              2007   \n",
       "64         City of Ashes (The Mortal Instruments, #2)              2008   \n",
       "65                          Divergent (Divergent, #1)              2012   \n",
       "66         City of Glass (The Mortal Instruments, #3)              <NA>   \n",
       "67                           The Underground Railroad              2016   \n",
       "68                             The Fault in Our Stars              2012   \n",
       "69                            Saga, Vol. 1 (Saga, #1)              2012   \n",
       "70         Blue Lily, Lily Blue (The Raven Cycle, #3)              2014   \n",
       "71  Furiously Happy: A Funny Book About Horrible T...              2015   \n",
       "72        Clockwork Prince (The Infernal Devices, #2)              2011   \n",
       "73  City of Heavenly Fire (The Mortal Instruments,...              2014   \n",
       "74      Clockwork Princess (The Infernal Devices, #3)              2013   \n",
       "75  I Am Malala: The Story of the Girl Who Stood U...              2013   \n",
       "76                                          Ugly Love              2014   \n",
       "77   The Assassin's Blade (Throne of Glass, #0.1-0.5)              2014   \n",
       "78                            When Breath Becomes Air              <NA>   \n",
       "79                                          Heartless              2016   \n",
       "80                                 Small Great Things              2016   \n",
       "81                                    Salt to the Sea              2016   \n",
       "82  Anna and the French Kiss (Anna and the French ...              2010   \n",
       "83                   Siege and Storm (The Grisha, #2)              2013   \n",
       "84                      Never Never (Never Never, #1)              <NA>   \n",
       "85  The Sword of Summer (Magnus Chase and the Gods...              2015   \n",
       "86                 The Silkworm (Cormoran Strike, #2)              2014   \n",
       "87                                    The Kite Runner              2004   \n",
       "88                            Saga, Vol. 2 (Saga, #2)              2013   \n",
       "89                                          Homegoing              2016   \n",
       "90                                         Americanah              2013   \n",
       "91                            Saga, Vol. 4 (Saga, #4)              2014   \n",
       "92            The Hunger Games (The Hunger Games, #1)              2008   \n",
       "93                                       Orphan Train              2013   \n",
       "94                   Ruin and Rising (The Grisha, #3)              2014   \n",
       "95  Daughter of Smoke & Bone (Daughter of Smoke & ...              2011   \n",
       "96                        Golden Son (Red Rising, #2)              2015   \n",
       "97                          The Giver (The Giver, #1)              2006   \n",
       "98                     The Storied Life of A.J. Fikry              2014   \n",
       "99       The Hidden Oracle (The Trials of Apollo, #1)              2016   \n",
       "\n",
       "    users  avg_rating  popularity_score  \\\n",
       "0   20208    4.321308          0.412297   \n",
       "1   19464    4.290691          0.393456   \n",
       "2   15142    4.706049          0.344719   \n",
       "3   16770    4.301014          0.340058   \n",
       "4   13043    4.632447          0.291033   \n",
       "5   14611    4.232770          0.290151   \n",
       "6   14349    4.179246          0.280230   \n",
       "7   12179    4.730356          0.279078   \n",
       "8   11890    4.770143          0.275361   \n",
       "9   12291    4.534293          0.266842   \n",
       "10  12296    4.528058          0.266479   \n",
       "11  14121    4.071454          0.266427   \n",
       "12  10679    4.764772          0.246961   \n",
       "13  12642    4.119839          0.242277   \n",
       "14  11138    4.512300          0.240303   \n",
       "15  11814    4.289995          0.238756   \n",
       "16  11025    4.509751          0.237692   \n",
       "17  12411    4.046652          0.232270   \n",
       "18  11515    4.262353          0.230758   \n",
       "19  10607    4.487980          0.227261   \n",
       "20  10242    4.610135          0.227125   \n",
       "21  10136    4.495560          0.217640   \n",
       "22  10189    4.459024          0.216492   \n",
       "23   9530    4.685834          0.215766   \n",
       "24  10024    4.394852          0.209034   \n",
       "25  10872    4.122333          0.208520   \n",
       "26  10330    4.219942          0.204317   \n",
       "27   8732    4.796152          0.203613   \n",
       "28  10511    4.127961          0.201959   \n",
       "29   8390    4.850775          0.198453   \n",
       "30   9384    4.035912          0.174997   \n",
       "31   9059    4.124738          0.173878   \n",
       "32   8085    4.479530          0.172801   \n",
       "33   8170    4.380416          0.169644   \n",
       "34   7718    4.558176          0.168684   \n",
       "35   8661    4.138783          0.166985   \n",
       "36   7416    4.557174          0.162037   \n",
       "37   7457    4.490680          0.159888   \n",
       "38   7887    4.255610          0.157721   \n",
       "39   7270    4.523109          0.157326   \n",
       "40   8049    4.096658          0.153102   \n",
       "41   7720    4.161788          0.149931   \n",
       "42   7362    4.085982          0.139550   \n",
       "43   7340    4.073025          0.138549   \n",
       "44   7189    4.070942          0.135606   \n",
       "45   7254    4.040805          0.135489   \n",
       "46   7002    4.126107          0.134451   \n",
       "47   7121    4.058559          0.133781   \n",
       "48   6918    4.109858          0.132147   \n",
       "49   6749    4.121648          0.129407   \n",
       "50   6728    4.107164          0.128406   \n",
       "51   6445    4.208534          0.127017   \n",
       "52   6640    4.041717          0.124057   \n",
       "53   6400    4.150313          0.123841   \n",
       "54   5762    4.470149          0.122813   \n",
       "55   5386    4.707390          0.122646   \n",
       "56   6223    4.194440          0.122102   \n",
       "57   5555    4.568317          0.121750   \n",
       "58   5699    4.440779          0.120442   \n",
       "59   5807    4.366454          0.120074   \n",
       "60   5869    4.261714          0.117580   \n",
       "61   5700    4.316316          0.116106   \n",
       "62   5908    4.189235          0.115732   \n",
       "63   5531    4.406436          0.115724   \n",
       "64   6052    4.083113          0.114608   \n",
       "65   5929    4.130882          0.114018   \n",
       "66   5470    4.365448          0.113071   \n",
       "67   6052    4.029247          0.112606   \n",
       "68   5819    4.130091          0.111874   \n",
       "69   5322    4.410936          0.111498   \n",
       "70   5284    4.335541          0.108254   \n",
       "71   5592    4.065629          0.105295   \n",
       "72   4900    4.491224          0.105071   \n",
       "73   4933    4.461788          0.104887   \n",
       "74   4632    4.644214          0.103676   \n",
       "75   5252    4.190404          0.102917   \n",
       "76   5189    4.222779          0.102714   \n",
       "77   4795    4.444004          0.101429   \n",
       "78   4799    4.427172          0.101017   \n",
       "79   5264    4.071619          0.099312   \n",
       "80   4832    4.336921          0.099033   \n",
       "81   4655    4.423631          0.097884   \n",
       "82   5050    4.108713          0.096424   \n",
       "83   5194    4.003851          0.095829   \n",
       "84   4942    4.156414          0.095809   \n",
       "85   4827    4.225192          0.095618   \n",
       "86   5102    4.043120          0.095362   \n",
       "87   4494    4.413663          0.094223   \n",
       "88   4355    4.516648          0.094062   \n",
       "89   4376    4.499086          0.094044   \n",
       "90   4564    4.343120          0.093713   \n",
       "91   4329    4.454377          0.091845   \n",
       "92   4361    4.413437          0.091428   \n",
       "93   4748    4.119419          0.090969   \n",
       "94   4656    4.176332          0.090833   \n",
       "95   4792    4.080968          0.090680   \n",
       "96   4362    4.374828          0.090414   \n",
       "97   4667    4.098564          0.088819   \n",
       "98   4674    4.092640          0.088782   \n",
       "99   4372    4.293001          0.088424   \n",
       "\n",
       "                                      genre_and_votes  \n",
       "0         {'Science Fiction': 11966, 'Fiction': 8430}  \n",
       "1   {'Historical-Historical Fiction': 13679, 'Fict...  \n",
       "2   {'Fantasy': 59818, 'Fiction': 17918, 'Young Ad...  \n",
       "3   {'Fantasy': 14326, 'Young Adult': 4662, 'Roman...  \n",
       "4   {'Fantasy': 50130, 'Young Adult': 15202, 'Fict...  \n",
       "5   {'Fiction': 15424, 'Classics': 9937, 'Science ...  \n",
       "6   {'Young Adult': 10539, 'Fantasy': 9237, 'Scien...  \n",
       "7   {'Fantasy': 10186, 'Romance': 3346, 'Young Adu...  \n",
       "8   {'Fantasy': 49784, 'Young Adult': 15393, 'Fict...  \n",
       "9   {'Fantasy': 4835, 'Young Adult': 4672, 'Scienc...  \n",
       "10  {'Historical-Historical Fiction': 10105, 'Fict...  \n",
       "11  {'Young Adult': 5175, 'Romance': 3234, 'Contem...  \n",
       "12  {'Fantasy': 48257, 'Young Adult': 15483, 'Fict...  \n",
       "13  {'Young Adult': 9301, 'Contemporary': 5760, 'R...  \n",
       "14            {'Fantasy': 15409, 'Young Adult': 6520}  \n",
       "15  {'Science Fiction': 10560, 'Fiction': 7713, 'Y...  \n",
       "16  {'Fantasy': 11344, 'Young Adult': 4695, 'Roman...  \n",
       "17  {'Young Adult': 11593, 'Romance': 6881, 'Conte...  \n",
       "18  {'Young Adult': 6930, 'Fantasy': 6267, 'Scienc...  \n",
       "19  {'Young Adult': 5813, 'Fantasy': 5413, 'Scienc...  \n",
       "20  {'Fantasy': 8435, 'Young Adult': 3170, 'Romanc...  \n",
       "21  {'Fantasy': 9677, 'Young Adult': 3800, 'Romanc...  \n",
       "22  {'Classics': 41773, 'Fiction': 21733, 'Histori...  \n",
       "23  {'Fantasy': 46485, 'Young Adult': 15194, 'Fict...  \n",
       "24  {'Fiction': 7091, 'Contemporary': 1656, 'Audio...  \n",
       "25  {'Young Adult': 4691, 'Contemporary': 2534, 'R...  \n",
       "26  {'Fantasy': 16888, 'Young Adult': 7306, 'Roman...  \n",
       "27  {'Fantasy': 46400, 'Young Adult': 15083, 'Fict...  \n",
       "28  {'Fiction': 5860, 'Science Fiction': 3274, 'Sc...  \n",
       "29  {'Fantasy': 46667, 'Young Adult': 15403, 'Fict...  \n",
       "30  {'Young Adult': 5331, 'Science Fiction': 3197,...  \n",
       "31  {'Classics': 33441, 'Fiction': 21086, 'Science...  \n",
       "32  {'Historical-Historical Fiction': 18340, 'Fict...  \n",
       "33  {'Science Fiction': 3927, 'Young Adult': 3535,...  \n",
       "34  {'Fantasy': 4277, 'Young Adult': 2491, 'Romanc...  \n",
       "35  {'Fantasy': 14539, 'Young Adult': 2101, 'Ficti...  \n",
       "36  {'Fantasy': 6616, 'Young Adult': 2251, 'Romanc...  \n",
       "37  {'Fantasy': 7960, 'Romance': 2365, 'Young Adul...  \n",
       "38  {'Fantasy': 5942, 'Young Adult': 3448, 'Romanc...  \n",
       "39  {'Romance': 3077, 'Contemporary': 1673, 'New A...  \n",
       "40  {'Fantasy': 9481, 'Young Adult': 7067, 'Fantas...  \n",
       "41  {'Poetry': 14490, 'Feminism': 1105, 'Nonfictio...  \n",
       "42  {'Fantasy': 16749, 'Fiction': 7058, 'Romance':...  \n",
       "43  {'Young Adult': 4782, 'Romance': 3852, 'Scienc...  \n",
       "44  {'Young Adult': 5919, 'Romance': 4965, 'Contem...  \n",
       "45  {'Fantasy': 2825, 'Young Adult': 2772, 'Scienc...  \n",
       "46  {'Historical-Historical Fiction': 10725, 'Roma...  \n",
       "47  {'Fantasy': 14290, 'Young Adult': 6921, 'Roman...  \n",
       "48  {'Young Adult': 3659, 'Romance': 3112, 'Contem...  \n",
       "49  {'Science Fiction': 4244, 'Fiction': 3079, 'Th...  \n",
       "50  {'Fantasy': 13419, 'Young Adult': 2048, 'Ficti...  \n",
       "51  {'Fantasy': 21419, 'Young Adult': 9587, 'Fanta...  \n",
       "52  {'Fantasy': 4427, 'Young Adult': 3025, 'Fictio...  \n",
       "53  {'Science Fiction': 4634, 'Fantasy': 2920, 'Yo...  \n",
       "54  {'Nonfiction': 6587, 'Autobiography-Memoir': 2...  \n",
       "55  {'Young Adult': 8354, 'Fiction': 5014, 'Contem...  \n",
       "56  {'Young Adult': 3806, 'Romance': 2512, 'Contem...  \n",
       "57  {'Nonfiction': 6864, 'Feminism': 4519, 'Writin...  \n",
       "58  {'Fantasy': 44086, 'Fiction': 10111, 'Fantasy-...  \n",
       "59  {'Romance': 1811, 'New Adult': 1296, 'Contempo...  \n",
       "60  {'Fantasy': 10151, 'Young Adult': 7424, 'Fanta...  \n",
       "61  {'Classics': 46807, 'Fiction': 14324, 'Romance...  \n",
       "62  {'Classics': 30122, 'Fiction': 17416, 'Science...  \n",
       "63  {'Fantasy': 28188, 'Fiction': 4251, 'Fantasy-E...  \n",
       "64  {'Fantasy': 11997, 'Young Adult': 9281, 'Fanta...  \n",
       "65  {'Young Adult': 20260, 'Science Fiction-Dystop...  \n",
       "66  {'Fantasy': 11194, 'Young Adult': 8549, 'Fanta...  \n",
       "67  {'Historical-Historical Fiction': 5191, 'Ficti...  \n",
       "68  {'Young Adult': 20449, 'Fiction': 10338, 'Roma...  \n",
       "69  {'Sequential Art-Graphic Novels': 7803, 'Seque...  \n",
       "70  {'Fantasy': 5121, 'Young Adult': 3651, 'Fantas...  \n",
       "71  {'Nonfiction': 3138, 'Humor': 1914, 'Autobiogr...  \n",
       "72  {'Fantasy': 7212, 'Young Adult': 5170, 'Romanc...  \n",
       "73  {'Fantasy': 5999, 'Young Adult': 4162, 'Fantas...  \n",
       "74  {'Fantasy': 6538, 'Young Adult': 4566, 'Romanc...  \n",
       "75  {'Nonfiction': 5580, 'Biography': 2294, 'Autob...  \n",
       "76  {'Romance': 2972, 'New Adult': 2006, 'Contempo...  \n",
       "77  {'Fantasy': 4943, 'Young Adult': 2078, 'Romanc...  \n",
       "78  {'Nonfiction': 5848, 'Autobiography-Memoir': 3...  \n",
       "79  {'Fantasy': 4654, 'Young Adult': 2581, 'Retell...  \n",
       "80  {'Fiction': 2506, 'Contemporary': 576, 'Audiob...  \n",
       "81  {'Historical-Historical Fiction': 5528, 'Young...  \n",
       "82  {'Young Adult': 6126, 'Romance': 5253, 'Contem...  \n",
       "83  {'Fantasy': 8707, 'Young Adult': 4242, 'Romanc...  \n",
       "84  {'Romance': 1111, 'Young Adult': 954, 'Contemp...  \n",
       "85  {'Fantasy': 4007, 'Fantasy-Mythology': 1823, '...  \n",
       "86  {'Mystery': 4585, 'Fiction': 2232, 'Mystery-Cr...  \n",
       "87  {'Fiction': 14993, 'Historical-Historical Fict...  \n",
       "88  {'Sequential Art-Graphic Novels': 5510, 'Seque...  \n",
       "89  {'Historical-Historical Fiction': 3664, 'Ficti...  \n",
       "90  {'Fiction': 5255, 'Cultural-Africa': 1270, 'Co...  \n",
       "91  {'Sequential Art-Graphic Novels': 4243, 'Seque...  \n",
       "92  {'Young Adult': 30042, 'Fiction': 16754, 'Scie...  \n",
       "93  {'Historical-Historical Fiction': 4762, 'Ficti...  \n",
       "94  {'Fantasy': 7376, 'Young Adult': 3542, 'Romanc...  \n",
       "95  {'Fantasy': 11681, 'Young Adult': 7110, 'Roman...  \n",
       "96  {'Science Fiction': 2613, 'Fantasy': 1372, 'Sc...  \n",
       "97  {'Young Adult': 10993, 'Fiction': 9045, 'Class...  \n",
       "98  {'Fiction': 3795, 'Contemporary': 1100, 'Writi...  \n",
       "99       {'Fantasy': 3173, 'Fantasy-Mythology': 1514}  "
      ]
     },
     "metadata": {},
     "output_type": "display_data"
    }
   ],
   "source": [
    "# добавляем информацию о книгах\n",
    "top_k_pop_items = top_k_pop_items.merge(\n",
    "    items.set_index(\"item_id\")[[\"author\", \"title\", \"genre_and_votes\", \"publication_year\"]], on=\"item_id\")\n",
    "\n",
    "with pd.option_context('display.max_rows', 100):\n",
    "    display(top_k_pop_items[[\"item_id\", \"author\", \"title\", \"publication_year\", \"users\", \"avg_rating\", \"popularity_score\", \"genre_and_votes\"]])"
   ]
  },
  {
   "cell_type": "markdown",
   "id": "vbyXremXdAbG",
   "metadata": {
    "id": "vbyXremXdAbG"
   },
   "source": [
    "## Задание 5 из 6\n",
    "Завершите предлагаемый код, чтобы в cold_users_events_with_recs для каждого события получить столбец avg_rating. В нём при совпадении по item_id будет значение из одноимённого столбца из top_k_pop_items, иначе — пропуск.\n",
    "В cold_users_events_with_recs после выполнения завершённого кода должно быть столько же строк, сколько было до его выполнения."
   ]
  },
  {
   "cell_type": "code",
   "execution_count": 34,
   "id": "-T52019UcKMW",
   "metadata": {
    "id": "-T52019UcKMW"
   },
   "outputs": [],
   "source": [
    "# events_test (cold users) + avg_rating for books from \n",
    "cold_users_events_with_recs = \\\n",
    "    events_test[events_test[\"user_id\"].isin(cold_users)] \\\n",
    "    .merge(top_k_pop_items.set_index(\"item_id\")['avg_rating'], on=\"item_id\", how=\"left\")\n",
    "\n",
    "# оставляем тех, где есть рейтинг\n",
    "cold_user_items_no_avg_rating_idx = cold_users_events_with_recs[\"avg_rating\"].isnull()\n",
    "cold_user_recs = cold_users_events_with_recs[~cold_user_items_no_avg_rating_idx] \\\n",
    "    [[\"user_id\", \"item_id\", \"rating\", \"avg_rating\"]]"
   ]
  },
  {
   "cell_type": "code",
   "execution_count": 35,
   "id": "9165d60a-0d8a-4e85-b646-c87994ee5f99",
   "metadata": {},
   "outputs": [
    {
     "data": {
      "text/html": [
       "<div>\n",
       "<style scoped>\n",
       "    .dataframe tbody tr th:only-of-type {\n",
       "        vertical-align: middle;\n",
       "    }\n",
       "\n",
       "    .dataframe tbody tr th {\n",
       "        vertical-align: top;\n",
       "    }\n",
       "\n",
       "    .dataframe thead th {\n",
       "        text-align: right;\n",
       "    }\n",
       "</style>\n",
       "<table border=\"1\" class=\"dataframe\">\n",
       "  <thead>\n",
       "    <tr style=\"text-align: right;\">\n",
       "      <th></th>\n",
       "      <th>user_id</th>\n",
       "      <th>item_id</th>\n",
       "      <th>started_at</th>\n",
       "      <th>read_at</th>\n",
       "      <th>is_read</th>\n",
       "      <th>rating</th>\n",
       "      <th>is_reviewed</th>\n",
       "      <th>avg_rating</th>\n",
       "    </tr>\n",
       "  </thead>\n",
       "  <tbody>\n",
       "    <tr>\n",
       "      <th>0</th>\n",
       "      <td>1361691</td>\n",
       "      <td>6900</td>\n",
       "      <td>2017-10-09</td>\n",
       "      <td>2017-10-13</td>\n",
       "      <td>True</td>\n",
       "      <td>4</td>\n",
       "      <td>False</td>\n",
       "      <td>NaN</td>\n",
       "    </tr>\n",
       "    <tr>\n",
       "      <th>1</th>\n",
       "      <td>1361691</td>\n",
       "      <td>12555</td>\n",
       "      <td>2017-09-21</td>\n",
       "      <td>2017-10-11</td>\n",
       "      <td>True</td>\n",
       "      <td>3</td>\n",
       "      <td>False</td>\n",
       "      <td>NaN</td>\n",
       "    </tr>\n",
       "    <tr>\n",
       "      <th>2</th>\n",
       "      <td>1361691</td>\n",
       "      <td>25899336</td>\n",
       "      <td>2017-09-12</td>\n",
       "      <td>2017-09-17</td>\n",
       "      <td>True</td>\n",
       "      <td>4</td>\n",
       "      <td>True</td>\n",
       "      <td>4.427172</td>\n",
       "    </tr>\n",
       "    <tr>\n",
       "      <th>3</th>\n",
       "      <td>1361691</td>\n",
       "      <td>21936809</td>\n",
       "      <td>2017-08-20</td>\n",
       "      <td>2017-08-24</td>\n",
       "      <td>True</td>\n",
       "      <td>4</td>\n",
       "      <td>True</td>\n",
       "      <td>NaN</td>\n",
       "    </tr>\n",
       "    <tr>\n",
       "      <th>4</th>\n",
       "      <td>1361691</td>\n",
       "      <td>6952</td>\n",
       "      <td>2017-09-18</td>\n",
       "      <td>2017-09-20</td>\n",
       "      <td>True</td>\n",
       "      <td>3</td>\n",
       "      <td>False</td>\n",
       "      <td>NaN</td>\n",
       "    </tr>\n",
       "    <tr>\n",
       "      <th>...</th>\n",
       "      <td>...</td>\n",
       "      <td>...</td>\n",
       "      <td>...</td>\n",
       "      <td>...</td>\n",
       "      <td>...</td>\n",
       "      <td>...</td>\n",
       "      <td>...</td>\n",
       "      <td>...</td>\n",
       "    </tr>\n",
       "    <tr>\n",
       "      <th>9821</th>\n",
       "      <td>1178540</td>\n",
       "      <td>26599</td>\n",
       "      <td>2017-10-12</td>\n",
       "      <td>2017-11-01</td>\n",
       "      <td>True</td>\n",
       "      <td>4</td>\n",
       "      <td>False</td>\n",
       "      <td>NaN</td>\n",
       "    </tr>\n",
       "    <tr>\n",
       "      <th>9822</th>\n",
       "      <td>1253215</td>\n",
       "      <td>51113</td>\n",
       "      <td>2017-09-25</td>\n",
       "      <td>2017-10-07</td>\n",
       "      <td>True</td>\n",
       "      <td>4</td>\n",
       "      <td>False</td>\n",
       "      <td>NaN</td>\n",
       "    </tr>\n",
       "    <tr>\n",
       "      <th>9823</th>\n",
       "      <td>1253215</td>\n",
       "      <td>16181775</td>\n",
       "      <td>2017-09-24</td>\n",
       "      <td>2017-09-25</td>\n",
       "      <td>True</td>\n",
       "      <td>3</td>\n",
       "      <td>False</td>\n",
       "      <td>NaN</td>\n",
       "    </tr>\n",
       "    <tr>\n",
       "      <th>9824</th>\n",
       "      <td>1253215</td>\n",
       "      <td>10210</td>\n",
       "      <td>2017-09-16</td>\n",
       "      <td>2017-09-24</td>\n",
       "      <td>True</td>\n",
       "      <td>5</td>\n",
       "      <td>False</td>\n",
       "      <td>NaN</td>\n",
       "    </tr>\n",
       "    <tr>\n",
       "      <th>9825</th>\n",
       "      <td>1253215</td>\n",
       "      <td>7907782</td>\n",
       "      <td>2017-08-15</td>\n",
       "      <td>2017-09-05</td>\n",
       "      <td>True</td>\n",
       "      <td>4</td>\n",
       "      <td>False</td>\n",
       "      <td>NaN</td>\n",
       "    </tr>\n",
       "  </tbody>\n",
       "</table>\n",
       "<p>9826 rows × 8 columns</p>\n",
       "</div>"
      ],
      "text/plain": [
       "      user_id   item_id  started_at     read_at  is_read  rating  is_reviewed  \\\n",
       "0     1361691      6900  2017-10-09  2017-10-13     True       4        False   \n",
       "1     1361691     12555  2017-09-21  2017-10-11     True       3        False   \n",
       "2     1361691  25899336  2017-09-12  2017-09-17     True       4         True   \n",
       "3     1361691  21936809  2017-08-20  2017-08-24     True       4         True   \n",
       "4     1361691      6952  2017-09-18  2017-09-20     True       3        False   \n",
       "...       ...       ...         ...         ...      ...     ...          ...   \n",
       "9821  1178540     26599  2017-10-12  2017-11-01     True       4        False   \n",
       "9822  1253215     51113  2017-09-25  2017-10-07     True       4        False   \n",
       "9823  1253215  16181775  2017-09-24  2017-09-25     True       3        False   \n",
       "9824  1253215     10210  2017-09-16  2017-09-24     True       5        False   \n",
       "9825  1253215   7907782  2017-08-15  2017-09-05     True       4        False   \n",
       "\n",
       "      avg_rating  \n",
       "0            NaN  \n",
       "1            NaN  \n",
       "2       4.427172  \n",
       "3            NaN  \n",
       "4            NaN  \n",
       "...          ...  \n",
       "9821         NaN  \n",
       "9822         NaN  \n",
       "9823         NaN  \n",
       "9824         NaN  \n",
       "9825         NaN  \n",
       "\n",
       "[9826 rows x 8 columns]"
      ]
     },
     "execution_count": 35,
     "metadata": {},
     "output_type": "execute_result"
    }
   ],
   "source": [
    "cold_users_events_with_recs"
   ]
  },
  {
   "cell_type": "markdown",
   "id": "1g_fWRoao2xr",
   "metadata": {
    "id": "1g_fWRoao2xr"
   },
   "source": [
    "Для какой доли событий «холодных» пользователей в events_test рекомендации в top_k_pop_items совпали по книгам? Округлите ответ до сотых."
   ]
  },
  {
   "cell_type": "code",
   "execution_count": 36,
   "id": "Mv0c5etGpJNb",
   "metadata": {
    "colab": {
     "base_uri": "https://localhost:8080/"
    },
    "executionInfo": {
     "elapsed": 15,
     "status": "ok",
     "timestamp": 1747648460642,
     "user": {
      "displayName": "jojn doe",
      "userId": "16325243380613586791"
     },
     "user_tz": -180
    },
    "id": "Mv0c5etGpJNb",
    "outputId": "b4f431f2-4550-4d8e-fd74-e50a5ccfc87e"
   },
   "outputs": [
    {
     "data": {
      "text/plain": [
       "0.19651943822511703"
      ]
     },
     "execution_count": 36,
     "metadata": {},
     "output_type": "execute_result"
    }
   ],
   "source": [
    "cold_user_recs.shape[0] / cold_users_events_with_recs.shape[0]"
   ]
  },
  {
   "cell_type": "markdown",
   "id": "_qyKInsKqYLQ",
   "metadata": {
    "id": "_qyKInsKqYLQ"
   },
   "source": [
    "## Задание 6\n",
    "Посчитайте метрики rmse и mae для полученных рекомендаций."
   ]
  },
  {
   "cell_type": "code",
   "execution_count": 37,
   "id": "kHpq-TwoqT3m",
   "metadata": {
    "colab": {
     "base_uri": "https://localhost:8080/"
    },
    "executionInfo": {
     "elapsed": 34,
     "status": "ok",
     "timestamp": 1747648460678,
     "user": {
      "displayName": "jojn doe",
      "userId": "16325243380613586791"
     },
     "user_tz": -180
    },
    "id": "kHpq-TwoqT3m",
    "outputId": "6bec3e86-ddea-4365-bea4-3a1fe369ebdc"
   },
   "outputs": [
    {
     "name": "stdout",
     "output_type": "stream",
     "text": [
      "0.6 0.62\n"
     ]
    }
   ],
   "source": [
    "# посчитаем метрики рекомендаций\n",
    "from sklearn.metrics import mean_squared_error, mean_absolute_error\n",
    "\n",
    "rmse = mean_squared_error(cold_user_recs[\"rating\"], cold_user_recs[\"avg_rating\"])\n",
    "mae = mean_absolute_error(cold_user_recs[\"rating\"], cold_user_recs[\"avg_rating\"])\n",
    "print(round(rmse, 2), round(mae, 2))"
   ]
  },
  {
   "cell_type": "markdown",
   "id": "2df1cd64-0110-4b43-8c7c-d0364245419a",
   "metadata": {},
   "source": [
    "посчитаем покрытие холодных пользователей рекомендациями"
   ]
  },
  {
   "cell_type": "code",
   "execution_count": 38,
   "id": "5KGf80liqT57",
   "metadata": {
    "colab": {
     "base_uri": "https://localhost:8080/"
    },
    "executionInfo": {
     "elapsed": 281,
     "status": "ok",
     "timestamp": 1747648460960,
     "user": {
      "displayName": "jojn doe",
      "userId": "16325243380613586791"
     },
     "user_tz": -180
    },
    "id": "5KGf80liqT57",
    "outputId": "c2771bf5-dc23-41ca-991b-8ee15a927a0a"
   },
   "outputs": [
    {
     "name": "stdout",
     "output_type": "stream",
     "text": [
      "Доля пользователей без релевантных рекомендаций: 0.59\n",
      "Среднее покрытие пользователей: 0.44\n"
     ]
    }
   ],
   "source": [
    "# посчитаем покрытие холодных пользователей рекомендациями\n",
    "\n",
    "cold_users_hit_ratio = cold_users_events_with_recs.groupby(\"user_id\").agg(hits=(\"avg_rating\", lambda x: (~x.isnull()).mean()))\n",
    "\n",
    "print(f\"Доля пользователей без релевантных рекомендаций: {(cold_users_hit_ratio == 0).mean().iat[0]:.2f}\")\n",
    "print(f\"Среднее покрытие пользователей: {cold_users_hit_ratio[cold_users_hit_ratio != 0].mean().iat[0]:.2f}\")"
   ]
  },
  {
   "cell_type": "markdown",
   "id": "aw1wPjgTyERA",
   "metadata": {
    "id": "aw1wPjgTyERA"
   },
   "source": [
    "# Матрица взаимодействий и первые персональные рекомендации"
   ]
  },
  {
   "cell_type": "markdown",
   "id": "WAFckFyEyczQ",
   "metadata": {
    "id": "WAFckFyEyczQ"
   },
   "source": [
    "Оцените степень разреженности U-I-матрицы, построенной на основе events. Используйте формулу выше и данные events[['user_id', 'item_id', 'rating']]. Какое значение корректно описывает результат?"
   ]
  },
  {
   "cell_type": "code",
   "execution_count": 39,
   "id": "iBurRVWY29tz",
   "metadata": {
    "colab": {
     "base_uri": "https://localhost:8080/"
    },
    "executionInfo": {
     "elapsed": 1447,
     "status": "ok",
     "timestamp": 1747648462405,
     "user": {
      "displayName": "jojn doe",
      "userId": "16325243380613586791"
     },
     "user_tz": -180
    },
    "id": "iBurRVWY29tz",
    "outputId": "e9897ac0-db97-4f48-f3e6-eef95abe10ca"
   },
   "outputs": [
    {
     "data": {
      "text/plain": [
       "0.9993451864978748"
      ]
     },
     "execution_count": 39,
     "metadata": {},
     "output_type": "execute_result"
    }
   ],
   "source": [
    "all_cells = np.unique(events['user_id']).shape[0] * np.unique(events['item_id']).shape[0]\n",
    "filled_cells = events.shape[0]\n",
    "empty_cells = all_cells - filled_cells\n",
    "empty_cells / all_cells"
   ]
  },
  {
   "cell_type": "markdown",
   "id": "TgjUP_926p-w",
   "metadata": {
    "id": "TgjUP_926p-w"
   },
   "source": [
    "#### Реализация SVD-алгоритма\n",
    "Воспользуемся готовой реализацией SVD-алгоритма из библиотеки surprise. В качестве разбиения данных на train и test возьмём разбиение из предыдущего урока: events_train, events_test."
   ]
  },
  {
   "cell_type": "code",
   "execution_count": 40,
   "id": "9YTWqkFB7fzn",
   "metadata": {
    "id": "9YTWqkFB7fzn"
   },
   "outputs": [],
   "source": [
    "# !pip install numpy==1.26.0 --no-cache-dir\n",
    "# !pip install scikit-surprise"
   ]
  },
  {
   "cell_type": "code",
   "execution_count": 41,
   "id": "zw-ruht1yMXf",
   "metadata": {
    "id": "zw-ruht1yMXf"
   },
   "outputs": [],
   "source": [
    "from surprise import Dataset, Reader\n",
    "from surprise import SVD"
   ]
  },
  {
   "cell_type": "code",
   "execution_count": 42,
   "id": "2YxNjHYT0biA",
   "metadata": {
    "colab": {
     "base_uri": "https://localhost:8080/"
    },
    "executionInfo": {
     "elapsed": 226105,
     "status": "ok",
     "timestamp": 1747648746582,
     "user": {
      "displayName": "jojn doe",
      "userId": "16325243380613586791"
     },
     "user_tz": -180
    },
    "id": "2YxNjHYT0biA",
    "outputId": "65398123-9f08-4f10-bb28-fcefd30a308e"
   },
   "outputs": [
    {
     "data": {
      "text/plain": [
       "<surprise.prediction_algorithms.matrix_factorization.SVD at 0x7f1f001d7730>"
      ]
     },
     "execution_count": 42,
     "metadata": {},
     "output_type": "execute_result"
    }
   ],
   "source": [
    "# используем Reader из библиотеки surprise для преобразования событий (events)\n",
    "# в формат, необходимый surprise\n",
    "reader = Reader(rating_scale=(1, 5))\n",
    "surprise_train_set = Dataset.load_from_df(events_train[['user_id', 'item_id', 'rating']], reader)\n",
    "surprise_train_set = surprise_train_set.build_full_trainset()\n",
    "\n",
    "# инициализируем модель\n",
    "svd_model = SVD(n_factors=100, random_state=0)\n",
    "\n",
    "# обучаем модель\n",
    "svd_model.fit(surprise_train_set)"
   ]
  },
  {
   "cell_type": "markdown",
   "id": "1zQix46N-8ll",
   "metadata": {
    "id": "1zQix46N-8ll"
   },
   "source": [
    "рекомендации для тестовой выборки"
   ]
  },
  {
   "cell_type": "code",
   "execution_count": 43,
   "id": "Jc6-eJzG9aTp",
   "metadata": {
    "id": "Jc6-eJzG9aTp"
   },
   "outputs": [],
   "source": [
    "surprise_test_set = list(events_test[['user_id', 'item_id', 'rating']].itertuples(index=False))\n",
    " \n",
    "# получаем рекомендации для тестовой выборки\n",
    "svd_predictions = svd_model.test(surprise_test_set)"
   ]
  },
  {
   "cell_type": "code",
   "execution_count": 44,
   "id": "igdBpCAx_ORL",
   "metadata": {
    "colab": {
     "base_uri": "https://localhost:8080/"
    },
    "executionInfo": {
     "elapsed": 22,
     "status": "ok",
     "timestamp": 1747648846399,
     "user": {
      "displayName": "jojn doe",
      "userId": "16325243380613586791"
     },
     "user_tz": -180
    },
    "id": "igdBpCAx_ORL",
    "outputId": "19c17763-a069-42eb-fc07-9bd9dcb42053"
   },
   "outputs": [
    {
     "data": {
      "text/plain": [
       "(426501, 3)"
      ]
     },
     "execution_count": 44,
     "metadata": {},
     "output_type": "execute_result"
    }
   ],
   "source": [
    "events_test[['user_id', 'item_id', 'rating']].shape"
   ]
  },
  {
   "cell_type": "code",
   "execution_count": 45,
   "id": "bw8WkgEc9aV5",
   "metadata": {
    "colab": {
     "base_uri": "https://localhost:8080/"
    },
    "executionInfo": {
     "elapsed": 31,
     "status": "ok",
     "timestamp": 1747648862109,
     "user": {
      "displayName": "jojn doe",
      "userId": "16325243380613586791"
     },
     "user_tz": -180
    },
    "id": "bw8WkgEc9aV5",
    "outputId": "5cfdc7f6-aca5-4d1d-cd8e-2163f2dd6b0a"
   },
   "outputs": [
    {
     "data": {
      "text/plain": [
       "426501"
      ]
     },
     "execution_count": 45,
     "metadata": {},
     "output_type": "execute_result"
    }
   ],
   "source": [
    "len(svd_predictions)"
   ]
  },
  {
   "cell_type": "markdown",
   "id": "DJTVjSG6AozE",
   "metadata": {
    "id": "DJTVjSG6AozE"
   },
   "source": [
    "Полученные рекомендации можно оценить, используя встроенный модуль accuracy из библиотеки surprise:"
   ]
  },
  {
   "cell_type": "code",
   "execution_count": 46,
   "id": "SlRwcpL00bkH",
   "metadata": {
    "colab": {
     "base_uri": "https://localhost:8080/"
    },
    "executionInfo": {
     "elapsed": 588,
     "status": "ok",
     "timestamp": 1747649212465,
     "user": {
      "displayName": "jojn doe",
      "userId": "16325243380613586791"
     },
     "user_tz": -180
    },
    "id": "SlRwcpL00bkH",
    "outputId": "a8a034b9-4b82-4c05-ec10-dac3ecba0e05"
   },
   "outputs": [
    {
     "name": "stdout",
     "output_type": "stream",
     "text": [
      "RMSE: 0.8283\n",
      "MAE:  0.6470\n",
      "0.8282819066345143 0.6470339923925352\n"
     ]
    }
   ],
   "source": [
    "from surprise import accuracy\n",
    "\n",
    "rmse = accuracy.rmse(svd_predictions)\n",
    "mae = accuracy.mae(svd_predictions)\n",
    "\n",
    "print(rmse, mae)"
   ]
  },
  {
   "cell_type": "markdown",
   "id": "5Enc-UxND7iQ",
   "metadata": {
    "id": "5Enc-UxND7iQ"
   },
   "source": [
    "Понять, хороши или плохи полученные значения метрик, поможет проверка на адекватность (англ. sanity check). Например, сравним качество рекомендаций со случайными по тем же метрикам."
   ]
  },
  {
   "cell_type": "code",
   "execution_count": 47,
   "id": "sBSUnQgDBI3A",
   "metadata": {
    "id": "sBSUnQgDBI3A"
   },
   "outputs": [],
   "source": [
    "from surprise import NormalPredictor\n",
    "\n",
    "# инициализируем состояние генератора, это необходимо для получения\n",
    "# одной и той же последовательности случайных чисел, только в учебных целях\n",
    "np.random.seed(0)\n",
    "\n",
    "random_model = NormalPredictor()\n",
    "\n",
    "random_model.fit(surprise_train_set)\n",
    "random_predictions = random_model.test(surprise_test_set)"
   ]
  },
  {
   "cell_type": "markdown",
   "id": "zAQaqNwTF05B",
   "metadata": {
    "id": "zAQaqNwTF05B"
   },
   "source": [
    "Рассчитайте значение MAE для random_predictions. Округлите его до сотых.\n",
    "На сколько процентов MAE для случайных рекомендаций от NormalPredictor выше значения MAE от SVD? Ответ округлите до десятых."
   ]
  },
  {
   "cell_type": "code",
   "execution_count": 48,
   "id": "q88KUIgbFw3y",
   "metadata": {
    "colab": {
     "base_uri": "https://localhost:8080/"
    },
    "executionInfo": {
     "elapsed": 431,
     "status": "ok",
     "timestamp": 1747650597426,
     "user": {
      "displayName": "jojn doe",
      "userId": "16325243380613586791"
     },
     "user_tz": -180
    },
    "id": "q88KUIgbFw3y",
    "outputId": "ee861de7-4b6f-4639-de82-d842fb89c8dd"
   },
   "outputs": [
    {
     "name": "stdout",
     "output_type": "stream",
     "text": [
      "RMSE: 1.2607\n",
      "MAE:  1.0000\n",
      "1.2607087191186703 1.0000499000278655\n"
     ]
    }
   ],
   "source": [
    "rmse = accuracy.rmse(random_predictions)\n",
    "mae = accuracy.mae(random_predictions)\n",
    "\n",
    "print(rmse, mae)"
   ]
  },
  {
   "cell_type": "code",
   "execution_count": 49,
   "id": "DE-bpkBcGKvQ",
   "metadata": {
    "colab": {
     "base_uri": "https://localhost:8080/"
    },
    "executionInfo": {
     "elapsed": 57,
     "status": "ok",
     "timestamp": 1747650704544,
     "user": {
      "displayName": "jojn doe",
      "userId": "16325243380613586791"
     },
     "user_tz": -180
    },
    "id": "DE-bpkBcGKvQ",
    "outputId": "07a6040b-ec64-4351-da12-1077c8cfa532"
   },
   "outputs": [
    {
     "data": {
      "text/plain": [
       "154.55950540958267"
      ]
     },
     "execution_count": 49,
     "metadata": {},
     "output_type": "execute_result"
    }
   ],
   "source": [
    "1.0000 / 0.6470 * 100 # 54 процента"
   ]
  },
  {
   "cell_type": "markdown",
   "id": "SvhsatnqIfY8",
   "metadata": {
    "id": "SvhsatnqIfY8"
   },
   "source": [
    "Создайте функцию, которая позволит получить рекомендации для конкретного пользователя, используя описанный подход. Дополните прекод."
   ]
  },
  {
   "cell_type": "code",
   "execution_count": 50,
   "id": "p2m-FjtRGKxl",
   "metadata": {
    "id": "p2m-FjtRGKxl"
   },
   "outputs": [],
   "source": [
    "def get_recommendations_svd(user_id, all_items, events, model, include_seen=True, n=5):\n",
    "\n",
    "    \"\"\" возвращает n рекомендаций для user_id \"\"\"\n",
    "\n",
    "    # получим список идентификаторов всех книг\n",
    "    all_items = set(events['item_id'].unique())\n",
    "\n",
    "    # учитываем флаг, стоит ли уже прочитанные книги включать в рекомендации\n",
    "    if include_seen:\n",
    "        items_to_predict = list(all_items)\n",
    "    else:\n",
    "        # получим список книг, которые пользователь уже прочитал (\"видел\")\n",
    "        seen_items = set(events[~events['item_id'].isna()]['item_id'].unique())\n",
    "\n",
    "        # книги, которые пользователь ещё не читал\n",
    "        # только их и будем включать в рекомендации\n",
    "        items_to_predict = list(all_items - seen_items)\n",
    "\n",
    "    # получаем скоры для списка книг, т. е. рекомендации\n",
    "    predictions = [model.predict(user_id, item_id) for item_id in items_to_predict]\n",
    "\n",
    "    # сортируем рекомендации по убыванию скора и берём только n первых\n",
    "    recommendations = sorted(predictions, key=lambda x: x.est, reverse=True)[:n]\n",
    "\n",
    "    return pd.DataFrame([(pred.iid, pred.est) for pred in recommendations], columns=[\"item_id\", \"score\"])"
   ]
  },
  {
   "cell_type": "code",
   "execution_count": 51,
   "id": "LscmHseAIhDs",
   "metadata": {
    "colab": {
     "base_uri": "https://localhost:8080/",
     "height": 206
    },
    "executionInfo": {
     "elapsed": 1151,
     "status": "ok",
     "timestamp": 1747656606872,
     "user": {
      "displayName": "jojn doe",
      "userId": "16325243380613586791"
     },
     "user_tz": -180
    },
    "id": "LscmHseAIhDs",
    "outputId": "31dfcfec-b91e-486f-e704-3912a206367a"
   },
   "outputs": [
    {
     "data": {
      "text/html": [
       "<div>\n",
       "<style scoped>\n",
       "    .dataframe tbody tr th:only-of-type {\n",
       "        vertical-align: middle;\n",
       "    }\n",
       "\n",
       "    .dataframe tbody tr th {\n",
       "        vertical-align: top;\n",
       "    }\n",
       "\n",
       "    .dataframe thead th {\n",
       "        text-align: right;\n",
       "    }\n",
       "</style>\n",
       "<table border=\"1\" class=\"dataframe\">\n",
       "  <thead>\n",
       "    <tr style=\"text-align: right;\">\n",
       "      <th></th>\n",
       "      <th>item_id</th>\n",
       "      <th>score</th>\n",
       "    </tr>\n",
       "  </thead>\n",
       "  <tbody>\n",
       "    <tr>\n",
       "      <th>0</th>\n",
       "      <td>17874649</td>\n",
       "      <td>5.000000</td>\n",
       "    </tr>\n",
       "    <tr>\n",
       "      <th>1</th>\n",
       "      <td>2939264</td>\n",
       "      <td>5.000000</td>\n",
       "    </tr>\n",
       "    <tr>\n",
       "      <th>2</th>\n",
       "      <td>11221285</td>\n",
       "      <td>5.000000</td>\n",
       "    </tr>\n",
       "    <tr>\n",
       "      <th>3</th>\n",
       "      <td>30688013</td>\n",
       "      <td>4.974140</td>\n",
       "    </tr>\n",
       "    <tr>\n",
       "      <th>4</th>\n",
       "      <td>6147461</td>\n",
       "      <td>4.947472</td>\n",
       "    </tr>\n",
       "  </tbody>\n",
       "</table>\n",
       "</div>"
      ],
      "text/plain": [
       "    item_id     score\n",
       "0  17874649  5.000000\n",
       "1   2939264  5.000000\n",
       "2  11221285  5.000000\n",
       "3  30688013  4.974140\n",
       "4   6147461  4.947472"
      ]
     },
     "execution_count": 51,
     "metadata": {},
     "output_type": "execute_result"
    }
   ],
   "source": [
    "get_recommendations_svd(1296647, items, events, svd_model, include_seen=True, n=5)"
   ]
  },
  {
   "cell_type": "markdown",
   "id": "2sDVNSE0e0z8",
   "metadata": {
    "id": "2sDVNSE0e0z8"
   },
   "source": [
    "Некоторые проблемы рекомендаций отследить с помощью метрик сложно. Например, с помощью метрик сложно выявить рекомендации с низким разнообразием — когда пользователю, который прочитал книгу одного автора, рекомендуются книги преимущественно того же автора. Такие проблемы проще отследить «глазами».\n",
    "Для этого нужно вывести последние события для случайного пользователя и рекомендации для него. Это можно сделать с помощью функции get_recommendations_svd:"
   ]
  },
  {
   "cell_type": "code",
   "execution_count": 52,
   "id": "FYl6mJzHb1Zy",
   "metadata": {
    "colab": {
     "base_uri": "https://localhost:8080/",
     "height": 603
    },
    "executionInfo": {
     "elapsed": 2359,
     "status": "ok",
     "timestamp": 1747657139169,
     "user": {
      "displayName": "jojn doe",
      "userId": "16325243380613586791"
     },
     "user_tz": -180
    },
    "id": "FYl6mJzHb1Zy",
    "outputId": "bbc3a1f9-b2b5-4151-a1b0-fc636025ecab"
   },
   "outputs": [
    {
     "name": "stdout",
     "output_type": "stream",
     "text": [
      "user_id: 1107777\n",
      "История (последние события, recent)\n"
     ]
    },
    {
     "data": {
      "text/html": [
       "<div>\n",
       "<style scoped>\n",
       "    .dataframe tbody tr th:only-of-type {\n",
       "        vertical-align: middle;\n",
       "    }\n",
       "\n",
       "    .dataframe tbody tr th {\n",
       "        vertical-align: top;\n",
       "    }\n",
       "\n",
       "    .dataframe thead th {\n",
       "        text-align: right;\n",
       "    }\n",
       "</style>\n",
       "<table border=\"1\" class=\"dataframe\">\n",
       "  <thead>\n",
       "    <tr style=\"text-align: right;\">\n",
       "      <th></th>\n",
       "      <th>author</th>\n",
       "      <th>title</th>\n",
       "      <th>started_at</th>\n",
       "      <th>read_at</th>\n",
       "      <th>rating</th>\n",
       "      <th>genre_and_votes</th>\n",
       "    </tr>\n",
       "  </thead>\n",
       "  <tbody>\n",
       "    <tr>\n",
       "      <th>60</th>\n",
       "      <td>Lois Lowry</td>\n",
       "      <td>Son (The Giver, #4)</td>\n",
       "      <td>2015-01-02</td>\n",
       "      <td>2015-01-07</td>\n",
       "      <td>2</td>\n",
       "      <td>{'Young Adult': 1553, 'Science Fiction-Dystopi...</td>\n",
       "    </tr>\n",
       "    <tr>\n",
       "      <th>61</th>\n",
       "      <td>Lois Lowry</td>\n",
       "      <td>Messenger (The Giver, #3)</td>\n",
       "      <td>2014-12-21</td>\n",
       "      <td>2014-12-22</td>\n",
       "      <td>4</td>\n",
       "      <td>{'Young Adult': 2020, 'Science Fiction-Dystopi...</td>\n",
       "    </tr>\n",
       "    <tr>\n",
       "      <th>62</th>\n",
       "      <td>Rachel Joyce</td>\n",
       "      <td>The Unlikely Pilgrimage of Harold Fry (Harold ...</td>\n",
       "      <td>2016-10-24</td>\n",
       "      <td>2016-10-29</td>\n",
       "      <td>5</td>\n",
       "      <td>{'Fiction': 2552, 'Contemporary': 492}</td>\n",
       "    </tr>\n",
       "    <tr>\n",
       "      <th>63</th>\n",
       "      <td>Gabrielle Zevin</td>\n",
       "      <td>The Storied Life of A.J. Fikry</td>\n",
       "      <td>2016-10-22</td>\n",
       "      <td>2016-10-23</td>\n",
       "      <td>5</td>\n",
       "      <td>{'Fiction': 3795, 'Contemporary': 1100, 'Writi...</td>\n",
       "    </tr>\n",
       "    <tr>\n",
       "      <th>64</th>\n",
       "      <td>James Dashner</td>\n",
       "      <td>The Kill Order (Maze Runner, #0.5)</td>\n",
       "      <td>2016-07-12</td>\n",
       "      <td>2016-07-14</td>\n",
       "      <td>1</td>\n",
       "      <td>{'Young Adult': 1715, 'Science Fiction-Dystopi...</td>\n",
       "    </tr>\n",
       "    <tr>\n",
       "      <th>65</th>\n",
       "      <td>Geraldine Brooks</td>\n",
       "      <td>People of the Book</td>\n",
       "      <td>2016-10-14</td>\n",
       "      <td>2016-10-22</td>\n",
       "      <td>5</td>\n",
       "      <td>{'Historical-Historical Fiction': 2644, 'Ficti...</td>\n",
       "    </tr>\n",
       "    <tr>\n",
       "      <th>66</th>\n",
       "      <td>Robert Galbraith</td>\n",
       "      <td>The Silkworm (Cormoran Strike, #2)</td>\n",
       "      <td>2014-12-21</td>\n",
       "      <td>2014-12-28</td>\n",
       "      <td>5</td>\n",
       "      <td>{'Mystery': 4585, 'Fiction': 2232, 'Mystery-Cr...</td>\n",
       "    </tr>\n",
       "    <tr>\n",
       "      <th>67</th>\n",
       "      <td>Robert Galbraith</td>\n",
       "      <td>The Cuckoo's Calling (Cormoran Strike, #1)</td>\n",
       "      <td>2014-12-12</td>\n",
       "      <td>2014-12-17</td>\n",
       "      <td>5</td>\n",
       "      <td>{'Mystery': 7357, 'Fiction': 3947, 'Mystery-Cr...</td>\n",
       "    </tr>\n",
       "    <tr>\n",
       "      <th>68</th>\n",
       "      <td>Kate Morton</td>\n",
       "      <td>The Secret Keeper</td>\n",
       "      <td>2016-10-10</td>\n",
       "      <td>2016-10-14</td>\n",
       "      <td>5</td>\n",
       "      <td>{'Historical-Historical Fiction': 1861, 'Ficti...</td>\n",
       "    </tr>\n",
       "    <tr>\n",
       "      <th>69</th>\n",
       "      <td>Kate Morton</td>\n",
       "      <td>The Lake House</td>\n",
       "      <td>2016-08-27</td>\n",
       "      <td>2016-08-29</td>\n",
       "      <td>4</td>\n",
       "      <td>{'Historical-Historical Fiction': 1239, 'Ficti...</td>\n",
       "    </tr>\n",
       "  </tbody>\n",
       "</table>\n",
       "</div>"
      ],
      "text/plain": [
       "              author                                              title  \\\n",
       "60        Lois Lowry                                Son (The Giver, #4)   \n",
       "61        Lois Lowry                          Messenger (The Giver, #3)   \n",
       "62      Rachel Joyce  The Unlikely Pilgrimage of Harold Fry (Harold ...   \n",
       "63   Gabrielle Zevin                     The Storied Life of A.J. Fikry   \n",
       "64     James Dashner                 The Kill Order (Maze Runner, #0.5)   \n",
       "65  Geraldine Brooks                                 People of the Book   \n",
       "66  Robert Galbraith                 The Silkworm (Cormoran Strike, #2)   \n",
       "67  Robert Galbraith         The Cuckoo's Calling (Cormoran Strike, #1)   \n",
       "68       Kate Morton                                  The Secret Keeper   \n",
       "69       Kate Morton                                     The Lake House   \n",
       "\n",
       "    started_at     read_at  rating  \\\n",
       "60  2015-01-02  2015-01-07       2   \n",
       "61  2014-12-21  2014-12-22       4   \n",
       "62  2016-10-24  2016-10-29       5   \n",
       "63  2016-10-22  2016-10-23       5   \n",
       "64  2016-07-12  2016-07-14       1   \n",
       "65  2016-10-14  2016-10-22       5   \n",
       "66  2014-12-21  2014-12-28       5   \n",
       "67  2014-12-12  2014-12-17       5   \n",
       "68  2016-10-10  2016-10-14       5   \n",
       "69  2016-08-27  2016-08-29       4   \n",
       "\n",
       "                                      genre_and_votes  \n",
       "60  {'Young Adult': 1553, 'Science Fiction-Dystopi...  \n",
       "61  {'Young Adult': 2020, 'Science Fiction-Dystopi...  \n",
       "62             {'Fiction': 2552, 'Contemporary': 492}  \n",
       "63  {'Fiction': 3795, 'Contemporary': 1100, 'Writi...  \n",
       "64  {'Young Adult': 1715, 'Science Fiction-Dystopi...  \n",
       "65  {'Historical-Historical Fiction': 2644, 'Ficti...  \n",
       "66  {'Mystery': 4585, 'Fiction': 2232, 'Mystery-Cr...  \n",
       "67  {'Mystery': 7357, 'Fiction': 3947, 'Mystery-Cr...  \n",
       "68  {'Historical-Historical Fiction': 1861, 'Ficti...  \n",
       "69  {'Historical-Historical Fiction': 1239, 'Ficti...  "
      ]
     },
     "metadata": {},
     "output_type": "display_data"
    },
    {
     "name": "stdout",
     "output_type": "stream",
     "text": [
      "Рекомендации\n"
     ]
    },
    {
     "data": {
      "text/html": [
       "<div>\n",
       "<style scoped>\n",
       "    .dataframe tbody tr th:only-of-type {\n",
       "        vertical-align: middle;\n",
       "    }\n",
       "\n",
       "    .dataframe tbody tr th {\n",
       "        vertical-align: top;\n",
       "    }\n",
       "\n",
       "    .dataframe thead th {\n",
       "        text-align: right;\n",
       "    }\n",
       "</style>\n",
       "<table border=\"1\" class=\"dataframe\">\n",
       "  <thead>\n",
       "    <tr style=\"text-align: right;\">\n",
       "      <th></th>\n",
       "      <th>item_id</th>\n",
       "      <th>score</th>\n",
       "      <th>author</th>\n",
       "      <th>title</th>\n",
       "      <th>genre_and_votes</th>\n",
       "    </tr>\n",
       "  </thead>\n",
       "  <tbody>\n",
       "    <tr>\n",
       "      <th>0</th>\n",
       "      <td>17332218</td>\n",
       "      <td>4.856496</td>\n",
       "      <td>Brandon Sanderson</td>\n",
       "      <td>Words of Radiance (The Stormlight Archive, #2)</td>\n",
       "      <td>{'Fantasy': 8542, 'Fiction': 872, 'Fantasy-Epi...</td>\n",
       "    </tr>\n",
       "    <tr>\n",
       "      <th>1</th>\n",
       "      <td>136251</td>\n",
       "      <td>4.814140</td>\n",
       "      <td>J.K. Rowling</td>\n",
       "      <td>Harry Potter and the Deathly Hallows (Harry Po...</td>\n",
       "      <td>{'Fantasy': 46667, 'Young Adult': 15403, 'Fict...</td>\n",
       "    </tr>\n",
       "    <tr>\n",
       "      <th>2</th>\n",
       "      <td>29237211</td>\n",
       "      <td>4.809071</td>\n",
       "      <td>Brian K. Vaughan, Fiona Staples</td>\n",
       "      <td>Saga, Vol. 7 (Saga, #7)</td>\n",
       "      <td>{'Sequential Art-Graphic Novels': 2539, 'Seque...</td>\n",
       "    </tr>\n",
       "    <tr>\n",
       "      <th>3</th>\n",
       "      <td>1</td>\n",
       "      <td>4.800504</td>\n",
       "      <td>J.K. Rowling</td>\n",
       "      <td>Harry Potter and the Half-Blood Prince (Harry ...</td>\n",
       "      <td>{'Fantasy': 46400, 'Young Adult': 15083, 'Fict...</td>\n",
       "    </tr>\n",
       "    <tr>\n",
       "      <th>4</th>\n",
       "      <td>22037424</td>\n",
       "      <td>4.793632</td>\n",
       "      <td>J.K. Rowling, Jonny Duddle, Tomislav Tomić</td>\n",
       "      <td>Harry Potter and the Prisoner of Azkaban (Harr...</td>\n",
       "      <td>{'Fantasy': 49994, 'Young Adult': 15433, 'Fict...</td>\n",
       "    </tr>\n",
       "  </tbody>\n",
       "</table>\n",
       "</div>"
      ],
      "text/plain": [
       "    item_id     score                                      author  \\\n",
       "0  17332218  4.856496                           Brandon Sanderson   \n",
       "1    136251  4.814140                                J.K. Rowling   \n",
       "2  29237211  4.809071             Brian K. Vaughan, Fiona Staples   \n",
       "3         1  4.800504                                J.K. Rowling   \n",
       "4  22037424  4.793632  J.K. Rowling, Jonny Duddle, Tomislav Tomić   \n",
       "\n",
       "                                               title  \\\n",
       "0     Words of Radiance (The Stormlight Archive, #2)   \n",
       "1  Harry Potter and the Deathly Hallows (Harry Po...   \n",
       "2                            Saga, Vol. 7 (Saga, #7)   \n",
       "3  Harry Potter and the Half-Blood Prince (Harry ...   \n",
       "4  Harry Potter and the Prisoner of Azkaban (Harr...   \n",
       "\n",
       "                                     genre_and_votes  \n",
       "0  {'Fantasy': 8542, 'Fiction': 872, 'Fantasy-Epi...  \n",
       "1  {'Fantasy': 46667, 'Young Adult': 15403, 'Fict...  \n",
       "2  {'Sequential Art-Graphic Novels': 2539, 'Seque...  \n",
       "3  {'Fantasy': 46400, 'Young Adult': 15083, 'Fict...  \n",
       "4  {'Fantasy': 49994, 'Young Adult': 15433, 'Fict...  "
      ]
     },
     "metadata": {},
     "output_type": "display_data"
    }
   ],
   "source": [
    "# выберем произвольного пользователя из тренировочной выборки (\"прошлого\")\n",
    "user_id = events_train['user_id'].sample().iat[0]\n",
    "\n",
    "print(f\"user_id: {user_id}\")\n",
    "\n",
    "print(\"История (последние события, recent)\")\n",
    "user_history = (\n",
    "    events_train\n",
    "    .query(\"user_id == @user_id\")\n",
    "    .merge(items.set_index(\"item_id\")[[\"author\", \"title\", \"genre_and_votes\"]], on=\"item_id\")\n",
    ")\n",
    "user_history_to_print = user_history[[\"author\", \"title\", \"started_at\", \"read_at\", \"rating\", \"genre_and_votes\"]].tail(10)\n",
    "display(user_history_to_print)\n",
    "\n",
    "print(\"Рекомендации\")\n",
    "user_recommendations = get_recommendations_svd(user_id, items, events_train, svd_model)\n",
    "user_recommendations = user_recommendations.merge(items[[\"item_id\", \"author\", \"title\", \"genre_and_votes\"]], on=\"item_id\")\n",
    "display(user_recommendations)"
   ]
  },
  {
   "cell_type": "markdown",
   "id": "WjmR4lGRlFm-",
   "metadata": {
    "id": "WjmR4lGRlFm-"
   },
   "source": [
    "# Коллаборативная фильтрация: ALS"
   ]
  },
  {
   "cell_type": "code",
   "execution_count": 53,
   "id": "qIL-tXQIGiSZ",
   "metadata": {
    "colab": {
     "base_uri": "https://localhost:8080/"
    },
    "executionInfo": {
     "elapsed": 4636,
     "status": "ok",
     "timestamp": 1747658904705,
     "user": {
      "displayName": "jojn doe",
      "userId": "16325243380613586791"
     },
     "user_tz": -180
    },
    "id": "qIL-tXQIGiSZ",
    "outputId": "6a95389d-bc0f-4d5b-d640-0fdf2c25d892"
   },
   "outputs": [
    {
     "name": "stderr",
     "output_type": "stream",
     "text": [
      "/tmp/ipykernel_409/1826093835.py:8: SettingWithCopyWarning: \n",
      "A value is trying to be set on a copy of a slice from a DataFrame.\n",
      "Try using .loc[row_indexer,col_indexer] = value instead\n",
      "\n",
      "See the caveats in the documentation: https://pandas.pydata.org/pandas-docs/stable/user_guide/indexing.html#returning-a-view-versus-a-copy\n",
      "  events_train[\"user_id_enc\"] = user_encoder.transform(events_train[\"user_id\"])\n",
      "/tmp/ipykernel_409/1826093835.py:9: SettingWithCopyWarning: \n",
      "A value is trying to be set on a copy of a slice from a DataFrame.\n",
      "Try using .loc[row_indexer,col_indexer] = value instead\n",
      "\n",
      "See the caveats in the documentation: https://pandas.pydata.org/pandas-docs/stable/user_guide/indexing.html#returning-a-view-versus-a-copy\n",
      "  events_test[\"user_id_enc\"] = user_encoder.transform(events_test[\"user_id\"])\n",
      "/tmp/ipykernel_409/1826093835.py:16: SettingWithCopyWarning: \n",
      "A value is trying to be set on a copy of a slice from a DataFrame.\n",
      "Try using .loc[row_indexer,col_indexer] = value instead\n",
      "\n",
      "See the caveats in the documentation: https://pandas.pydata.org/pandas-docs/stable/user_guide/indexing.html#returning-a-view-versus-a-copy\n",
      "  events_train[\"item_id_enc\"] = item_encoder.transform(events_train[\"item_id\"])\n",
      "/tmp/ipykernel_409/1826093835.py:17: SettingWithCopyWarning: \n",
      "A value is trying to be set on a copy of a slice from a DataFrame.\n",
      "Try using .loc[row_indexer,col_indexer] = value instead\n",
      "\n",
      "See the caveats in the documentation: https://pandas.pydata.org/pandas-docs/stable/user_guide/indexing.html#returning-a-view-versus-a-copy\n",
      "  events_test[\"item_id_enc\"] = item_encoder.transform(events_test[\"item_id\"])\n"
     ]
    }
   ],
   "source": [
    "import scipy\n",
    "import sklearn.preprocessing\n",
    "\n",
    "# перекодируем идентификаторы пользователей:\n",
    "# из имеющихся в последовательность 0, 1, 2, ...\n",
    "user_encoder = sklearn.preprocessing.LabelEncoder()\n",
    "user_encoder.fit(events[\"user_id\"])\n",
    "events_train[\"user_id_enc\"] = user_encoder.transform(events_train[\"user_id\"])\n",
    "events_test[\"user_id_enc\"] = user_encoder.transform(events_test[\"user_id\"])\n",
    "\n",
    "# перекодируем идентификаторы объектов:\n",
    "# из имеющихся в последовательность 0, 1, 2, ...\n",
    "item_encoder = sklearn.preprocessing.LabelEncoder()\n",
    "item_encoder.fit(items[\"item_id\"])\n",
    "items[\"item_id_enc\"] = item_encoder.transform(items[\"item_id\"])\n",
    "events_train[\"item_id_enc\"] = item_encoder.transform(events_train[\"item_id\"])\n",
    "events_test[\"item_id_enc\"] = item_encoder.transform(events_test[\"item_id\"])"
   ]
  },
  {
   "cell_type": "markdown",
   "id": "89076afa-9369-415a-8ebb-cdb1153ceb5b",
   "metadata": {},
   "source": [
    "Сохраним events_train и events_test"
   ]
  },
  {
   "cell_type": "code",
   "execution_count": 54,
   "id": "0cc06796-052c-4975-a301-5f43633d8964",
   "metadata": {},
   "outputs": [],
   "source": [
    "os.makedirs('intermediate_data', exist_ok=True)"
   ]
  },
  {
   "cell_type": "code",
   "execution_count": 55,
   "id": "2dc19479-e7c0-483e-a534-b0ad5432b2a9",
   "metadata": {},
   "outputs": [],
   "source": [
    "events_train.to_parquet(\"intermediate_data/events_train.parquet\")\n",
    "events_test.to_parquet(\"intermediate_data/events_test.parquet\")"
   ]
  },
  {
   "cell_type": "markdown",
   "id": "UOs3Brx5mHGH",
   "metadata": {
    "id": "UOs3Brx5mHGH"
   },
   "source": [
    "Какое максимальное значение получилось для events_train[’item_id_enc']?"
   ]
  },
  {
   "cell_type": "code",
   "execution_count": 56,
   "id": "TnMfzmW3lHeF",
   "metadata": {
    "colab": {
     "base_uri": "https://localhost:8080/"
    },
    "executionInfo": {
     "elapsed": 81,
     "status": "ok",
     "timestamp": 1747658931483,
     "user": {
      "displayName": "jojn doe",
      "userId": "16325243380613586791"
     },
     "user_tz": -180
    },
    "id": "TnMfzmW3lHeF",
    "outputId": "d9e04c4a-4504-40a7-bed3-4ed7d40979bc"
   },
   "outputs": [
    {
     "data": {
      "text/plain": [
       "43304"
      ]
     },
     "execution_count": 56,
     "metadata": {},
     "output_type": "execute_result"
    }
   ],
   "source": [
    "events_train['item_id_enc'].max()"
   ]
  },
  {
   "cell_type": "markdown",
   "id": "Q8mEbz8Em4GV",
   "metadata": {
    "id": "Q8mEbz8Em4GV"
   },
   "source": [
    "Вычислите размер матрицы user_item_matrix_train, как если бы она хранила все свои элементы, включая пропуски, и для каждого элемента использовался бы один байт."
   ]
  },
  {
   "cell_type": "code",
   "execution_count": 57,
   "id": "LWhU6PJ0lHgV",
   "metadata": {
    "colab": {
     "base_uri": "https://localhost:8080/"
    },
    "executionInfo": {
     "elapsed": 396,
     "status": "ok",
     "timestamp": 1747659170427,
     "user": {
      "displayName": "jojn doe",
      "userId": "16325243380613586791"
     },
     "user_tz": -180
    },
    "id": "LWhU6PJ0lHgV",
    "outputId": "2b5d89cb-fc0c-4706-eb05-f46c0aca535c"
   },
   "outputs": [
    {
     "data": {
      "text/plain": [
       "16.543156374245882"
      ]
     },
     "execution_count": 57,
     "metadata": {},
     "output_type": "execute_result"
    }
   ],
   "source": [
    "(events_train['item_id_enc'].unique().shape[0] * events_train['user_id_enc'].unique().shape[0]) / (1024 ** 3)"
   ]
  },
  {
   "cell_type": "markdown",
   "id": "rtgQhfm5nFJd",
   "metadata": {
    "id": "rtgQhfm5nFJd"
   },
   "source": [
    "Sparce матрица для взаимодействий на основе events_train"
   ]
  },
  {
   "cell_type": "code",
   "execution_count": 58,
   "id": "RWxctkd2lHiu",
   "metadata": {
    "id": "RWxctkd2lHiu"
   },
   "outputs": [],
   "source": [
    "# создаём sparse-матрицу формата CSR\n",
    "user_item_matrix_train = scipy.sparse.csr_matrix((\n",
    "    events_train[\"rating\"],\n",
    "    (events_train['user_id_enc'], events_train['item_id_enc'])),\n",
    "    dtype=np.int8)"
   ]
  },
  {
   "cell_type": "code",
   "execution_count": 59,
   "id": "be1f4c1a-c69d-483b-8a87-bbf180dcadb1",
   "metadata": {},
   "outputs": [
    {
     "data": {
      "text/plain": [
       "<Compressed Sparse Row sparse matrix of dtype 'int8'\n",
       "\twith 11326532 stored elements and shape (430682, 43305)>"
      ]
     },
     "execution_count": 59,
     "metadata": {},
     "output_type": "execute_result"
    }
   ],
   "source": [
    "user_item_matrix_train"
   ]
  },
  {
   "cell_type": "code",
   "execution_count": 60,
   "id": "6ZFlYVu-Fw6C",
   "metadata": {
    "colab": {
     "base_uri": "https://localhost:8080/"
    },
    "executionInfo": {
     "elapsed": 5283,
     "status": "ok",
     "timestamp": 1747659408428,
     "user": {
      "displayName": "jojn doe",
      "userId": "16325243380613586791"
     },
     "user_tz": -180
    },
    "id": "6ZFlYVu-Fw6C",
    "outputId": "f2ff194c-85be-4cc0-bac8-50dbaff73b5c"
   },
   "outputs": [
    {
     "data": {
      "text/plain": [
       "0.2637163735926151"
      ]
     },
     "execution_count": 60,
     "metadata": {},
     "output_type": "execute_result"
    }
   ],
   "source": [
    "import sys\n",
    "\n",
    "sum([sys.getsizeof(i) for i in user_item_matrix_train.data])/1024**3"
   ]
  },
  {
   "cell_type": "markdown",
   "id": "qAsonzdwnxoV",
   "metadata": {
    "id": "qAsonzdwnxoV"
   },
   "source": [
    "Имея подготовленную матрицу взаимодействий, перейдём к третьему шагу — создадим ALS-модель. Для примера возьмём количество латентных факторов для матриц $P, Q$, равным 50."
   ]
  },
  {
   "cell_type": "code",
   "execution_count": 61,
   "id": "FEZVCdKnnxO-",
   "metadata": {
    "colab": {
     "base_uri": "https://localhost:8080/",
     "height": 104,
     "referenced_widgets": [
      "858dd286e6b94eb58a79386df7849e24",
      "3aa40491bf3f4f6e865199bbe1322a78",
      "a105b7c9835f4e849b1728c2bb6ddc23",
      "299bdbf1588a464bb8538c58dc4ad8ca",
      "5686e3d1f1284a87ba7a3d29c86e4dc3",
      "ed0a5e377bd349a2b996505fb5219cac",
      "aa27aae7e82b41a6ab2ab8718bab168b",
      "41b832f24a31494e9b476c894fa4eedc",
      "16e3397e3ce24d1280162d3247577439",
      "1f8d7d0333944b9c95ec2bc6b8cc8d0f",
      "e08fbcc2ba7c4585b7da270e2b1e28eb"
     ]
    },
    "executionInfo": {
     "elapsed": 535265,
     "status": "ok",
     "timestamp": 1747660743968,
     "user": {
      "displayName": "jojn doe",
      "userId": "16325243380613586791"
     },
     "user_tz": -180
    },
    "id": "FEZVCdKnnxO-",
    "outputId": "efd77a9b-947b-41e1-9fb2-1e6d2c2109c5"
   },
   "outputs": [
    {
     "name": "stderr",
     "output_type": "stream",
     "text": [
      "/home/ak/mle-recsys-start/.venv_recsys_py310/lib/python3.10/site-packages/implicit/cpu/als.py:95: RuntimeWarning: OpenBLAS is configured to use 16 threads. It is highly recommended to disable its internal threadpool by setting the environment variable 'OPENBLAS_NUM_THREADS=1' or by calling 'threadpoolctl.threadpool_limits(1, \"blas\")'. Having OpenBLAS use a threadpool can lead to severe performance issues here.\n",
      "  check_blas_config()\n"
     ]
    },
    {
     "data": {
      "application/vnd.jupyter.widget-view+json": {
       "model_id": "0f9d16bfe2fb4534ad821e858555a73f",
       "version_major": 2,
       "version_minor": 0
      },
      "text/plain": [
       "  0%|          | 0/50 [00:00<?, ?it/s]"
      ]
     },
     "metadata": {},
     "output_type": "display_data"
    }
   ],
   "source": [
    "from implicit.als import AlternatingLeastSquares\n",
    "\n",
    "als_model = AlternatingLeastSquares(factors=50, iterations=50, regularization=0.05, random_state=0)\n",
    "als_model.fit(user_item_matrix_train)"
   ]
  },
  {
   "cell_type": "markdown",
   "id": "_8FfA3h3s8ht",
   "metadata": {
    "id": "_8FfA3h3s8ht"
   },
   "source": [
    "Чтобы получить рекомендации для пользователя с помощью модели ALS, используем такую функцию:"
   ]
  },
  {
   "cell_type": "code",
   "execution_count": 62,
   "id": "39naU17eoAX2",
   "metadata": {
    "id": "39naU17eoAX2"
   },
   "outputs": [],
   "source": [
    "def get_recommendations_als(user_item_matrix, model, user_id, user_encoder, item_encoder, include_seen=True, n=5):\n",
    "    \"\"\"\n",
    "    Возвращает отранжированные рекомендации для заданного пользователя\n",
    "    \"\"\"\n",
    "    user_id_enc = user_encoder.transform([user_id])[0]\n",
    "    recommendations = model.recommend(\n",
    "         user_id_enc,\n",
    "         user_item_matrix[user_id_enc],\n",
    "         filter_already_liked_items=not include_seen,\n",
    "         N=n)\n",
    "    recommendations = pd.DataFrame({\"item_id_enc\": recommendations[0], \"score\": recommendations[1]})\n",
    "    recommendations[\"item_id\"] = item_encoder.inverse_transform(recommendations[\"item_id_enc\"])\n",
    "\n",
    "    return recommendations"
   ]
  },
  {
   "cell_type": "markdown",
   "id": "EYtGxY4S17L_",
   "metadata": {
    "id": "EYtGxY4S17L_"
   },
   "source": [
    "Получим рекомендации для всех имеющихся пользователей. Выполните код ниже."
   ]
  },
  {
   "cell_type": "code",
   "execution_count": 63,
   "id": "YFxRhFQ2t9hV",
   "metadata": {
    "id": "YFxRhFQ2t9hV"
   },
   "outputs": [],
   "source": [
    "# получаем список всех возможных user_id (перекодированных)\n",
    "user_ids_encoded = range(len(user_encoder.classes_))\n",
    "\n",
    "# получаем рекомендации для всех пользователей\n",
    "als_recommendations = als_model.recommend(\n",
    "    user_ids_encoded,\n",
    "    user_item_matrix_train[user_ids_encoded],\n",
    "    filter_already_liked_items=False, N=100)"
   ]
  },
  {
   "cell_type": "code",
   "execution_count": 64,
   "id": "c0f89824-6052-46c4-889f-1f80bddef114",
   "metadata": {},
   "outputs": [
    {
     "data": {
      "text/plain": [
       "((428284,), (123497,))"
      ]
     },
     "execution_count": 64,
     "metadata": {},
     "output_type": "execute_result"
    }
   ],
   "source": [
    "events_train['user_id_enc'].unique().shape, events_test['user_id_enc'].unique().shape"
   ]
  },
  {
   "cell_type": "code",
   "execution_count": 65,
   "id": "5619e007-f06f-4a16-a5b0-8f191d433d91",
   "metadata": {},
   "outputs": [
    {
     "data": {
      "text/plain": [
       "(430682, 43305)"
      ]
     },
     "execution_count": 65,
     "metadata": {},
     "output_type": "execute_result"
    }
   ],
   "source": [
    "user_item_matrix_train.shape"
   ]
  },
  {
   "cell_type": "code",
   "execution_count": 66,
   "id": "47f1c76a-5534-49fa-9f24-084e1a33fa13",
   "metadata": {},
   "outputs": [
    {
     "data": {
      "text/plain": [
       "((430682, 100), (430682, 100))"
      ]
     },
     "execution_count": 66,
     "metadata": {},
     "output_type": "execute_result"
    }
   ],
   "source": [
    "als_recommendations[0].shape, als_recommendations[1].shape"
   ]
  },
  {
   "cell_type": "code",
   "execution_count": 67,
   "id": "7d7fb06b-86ee-48eb-9b27-52daebeddaba",
   "metadata": {},
   "outputs": [
    {
     "data": {
      "text/plain": [
       "(array([[    2,  1942,     3, ..., 41514,     7, 22360],\n",
       "        [31432, 29792, 36956, ..., 41514, 31520,  1043],\n",
       "        [33276, 37255, 35810, ...,  1043, 23845, 42047],\n",
       "        ...,\n",
       "        [20997, 20386, 23004, ..., 11665, 28844, 29720],\n",
       "        [22844, 37138, 28025, ..., 35853,   532,  4112],\n",
       "        [34434, 33783, 35669, ..., 41963, 27352, 39056]], dtype=int32),\n",
       " array([[0.976627  , 0.88614887, 0.8577641 , ..., 0.22714944, 0.22655179,\n",
       "         0.22626536],\n",
       "        [0.671054  , 0.62364125, 0.48714206, ..., 0.02283462, 0.02274973,\n",
       "         0.02266375],\n",
       "        [0.23131761, 0.18923154, 0.17818768, ..., 0.04601035, 0.04447012,\n",
       "         0.04419186],\n",
       "        ...,\n",
       "        [0.23330341, 0.23172742, 0.22057155, ..., 0.02847586, 0.02846107,\n",
       "         0.02821758],\n",
       "        [0.0547352 , 0.03821368, 0.03751416, ..., 0.01520865, 0.01504071,\n",
       "         0.01504055],\n",
       "        [0.4470645 , 0.4368139 , 0.436614  , ..., 0.09779324, 0.09638054,\n",
       "         0.09628507]], dtype=float32))"
      ]
     },
     "execution_count": 67,
     "metadata": {},
     "output_type": "execute_result"
    }
   ],
   "source": [
    "als_recommendations"
   ]
  },
  {
   "cell_type": "markdown",
   "id": "qhmvXlKe3jVy",
   "metadata": {
    "id": "qhmvXlKe3jVy"
   },
   "source": [
    "Код возвращает рекомендации как список списков, это не очень удобно. Преобразуем его в более удобный формат — табличный."
   ]
  },
  {
   "cell_type": "code",
   "execution_count": 68,
   "id": "N7SEGpH8t9j3",
   "metadata": {
    "id": "N7SEGpH8t9j3"
   },
   "outputs": [],
   "source": [
    "# преобразуем полученные рекомендации в табличный формат\n",
    "item_ids_enc = als_recommendations[0]\n",
    "als_scores = als_recommendations[1]\n",
    "\n",
    "als_recommendations = pd.DataFrame({\n",
    "    \"user_id_enc\": user_ids_encoded,\n",
    "    \"item_id_enc\": item_ids_enc.tolist(),\n",
    "    \"score\": als_scores.tolist()})\n",
    "als_recommendations = als_recommendations.explode([\"item_id_enc\", \"score\"], ignore_index=True)\n",
    "\n",
    "# приводим типы данных\n",
    "als_recommendations[\"item_id_enc\"] = als_recommendations[\"item_id_enc\"].astype(\"int\")\n",
    "als_recommendations[\"score\"] = als_recommendations[\"score\"].astype(\"float\")\n",
    "\n",
    "# получаем изначальные идентификаторы\n",
    "als_recommendations[\"user_id\"] = user_encoder.inverse_transform(als_recommendations[\"user_id_enc\"])\n",
    "als_recommendations[\"item_id\"] = item_encoder.inverse_transform(als_recommendations[\"item_id_enc\"])\n",
    "als_recommendations = als_recommendations.drop(columns=[\"user_id_enc\", \"item_id_enc\"])"
   ]
  },
  {
   "cell_type": "markdown",
   "id": "95e0de51-0bca-4f2a-8522-209d3a2cfe00",
   "metadata": {
    "id": "072425icraNw"
   },
   "source": [
    "Сохраним полученные рекомендации в файл, они ещё нам пригодятся."
   ]
  },
  {
   "cell_type": "code",
   "execution_count": 69,
   "id": "03bd68cb-21a3-4967-9b2b-353ac244ae55",
   "metadata": {},
   "outputs": [],
   "source": [
    "als_recommendations = als_recommendations[[\"user_id\", \"item_id\", \"score\"]]\n",
    "als_recommendations.to_parquet(\"als_recommendations.parquet\") "
   ]
  },
  {
   "cell_type": "markdown",
   "id": "9534a778-9a0b-4cab-808c-fc6322d63e5d",
   "metadata": {},
   "source": [
    "## Метрики"
   ]
  },
  {
   "cell_type": "code",
   "execution_count": 70,
   "id": "2ac876a8-30bd-49cb-a5cb-610de379635f",
   "metadata": {},
   "outputs": [],
   "source": [
    "als_recommendations = (\n",
    "    als_recommendations\n",
    "    .merge(events_test[[\"user_id\", \"item_id\", \"rating\"]]\n",
    "               .rename(columns={\"rating\": \"rating_test\"}),\n",
    "           on=[\"user_id\", \"item_id\"], how=\"left\")\n",
    ")"
   ]
  },
  {
   "cell_type": "code",
   "execution_count": null,
   "id": "5ea72e9b-de3b-4c7a-bec5-f761f3fcdfa6",
   "metadata": {},
   "outputs": [],
   "source": []
  },
  {
   "cell_type": "code",
   "execution_count": 71,
   "id": "fae4dc0d-fc60-4b76-9aeb-1bc5b9c3209e",
   "metadata": {},
   "outputs": [
    {
     "data": {
      "text/html": [
       "<div>\n",
       "<style scoped>\n",
       "    .dataframe tbody tr th:only-of-type {\n",
       "        vertical-align: middle;\n",
       "    }\n",
       "\n",
       "    .dataframe tbody tr th {\n",
       "        vertical-align: top;\n",
       "    }\n",
       "\n",
       "    .dataframe thead th {\n",
       "        text-align: right;\n",
       "    }\n",
       "</style>\n",
       "<table border=\"1\" class=\"dataframe\">\n",
       "  <thead>\n",
       "    <tr style=\"text-align: right;\">\n",
       "      <th></th>\n",
       "      <th>user_id</th>\n",
       "      <th>item_id</th>\n",
       "      <th>score</th>\n",
       "      <th>rating_test</th>\n",
       "    </tr>\n",
       "  </thead>\n",
       "  <tbody>\n",
       "    <tr>\n",
       "      <th>612</th>\n",
       "      <td>1000006</td>\n",
       "      <td>18774964</td>\n",
       "      <td>0.331588</td>\n",
       "      <td>4.0</td>\n",
       "    </tr>\n",
       "    <tr>\n",
       "      <th>615</th>\n",
       "      <td>1000006</td>\n",
       "      <td>29868610</td>\n",
       "      <td>0.288771</td>\n",
       "      <td>4.0</td>\n",
       "    </tr>\n",
       "    <tr>\n",
       "      <th>634</th>\n",
       "      <td>1000006</td>\n",
       "      <td>7445</td>\n",
       "      <td>0.219649</td>\n",
       "      <td>4.0</td>\n",
       "    </tr>\n",
       "    <tr>\n",
       "      <th>650</th>\n",
       "      <td>1000006</td>\n",
       "      <td>18812405</td>\n",
       "      <td>0.175393</td>\n",
       "      <td>3.0</td>\n",
       "    </tr>\n",
       "    <tr>\n",
       "      <th>676</th>\n",
       "      <td>1000006</td>\n",
       "      <td>24817626</td>\n",
       "      <td>0.149680</td>\n",
       "      <td>3.0</td>\n",
       "    </tr>\n",
       "  </tbody>\n",
       "</table>\n",
       "</div>"
      ],
      "text/plain": [
       "     user_id   item_id     score  rating_test\n",
       "612  1000006  18774964  0.331588          4.0\n",
       "615  1000006  29868610  0.288771          4.0\n",
       "634  1000006      7445  0.219649          4.0\n",
       "650  1000006  18812405  0.175393          3.0\n",
       "676  1000006  24817626  0.149680          3.0"
      ]
     },
     "execution_count": 71,
     "metadata": {},
     "output_type": "execute_result"
    }
   ],
   "source": [
    "als_recommendations[(als_recommendations[\"rating_test\"].notna()) & (als_recommendations[\"user_id\"] == 1000006)]"
   ]
  },
  {
   "cell_type": "markdown",
   "id": "26edf1ab-a5b5-4d8e-aacc-8851b2b1815c",
   "metadata": {},
   "source": [
    "# Подсчитать метрику NDCG для одного пользователя поможет готовая реализация из scikit-learn:"
   ]
  },
  {
   "cell_type": "code",
   "execution_count": 72,
   "id": "b66f35d1-d8ef-4543-98ca-5dda3ff1cb44",
   "metadata": {},
   "outputs": [],
   "source": [
    "import sklearn.metrics\n",
    "\n",
    "def compute_ndcg(rating: pd.Series, score: pd.Series, k):\n",
    "\n",
    "    \"\"\" подсчёт ndcg\n",
    "    rating: истинные оценки\n",
    "    score: оценки модели\n",
    "    k: количество айтемов (по убыванию score) для оценки, остальные - отбрасываются\n",
    "    \"\"\"\n",
    "    \n",
    "    # если кол-во объектов меньше 2, то NDCG - не определена\n",
    "    if len(rating) < 2:\n",
    "        return np.nan\n",
    "\n",
    "    ndcg = sklearn.metrics.ndcg_score(np.asarray([rating.to_numpy()]), np.asarray([score.to_numpy()]), k=k)\n",
    "\n",
    "    return ndcg"
   ]
  },
  {
   "cell_type": "markdown",
   "id": "3a8f7a81-3831-44e1-93fb-44177b0ca027",
   "metadata": {},
   "source": [
    "Умея считать NDCG для одного пользователя, посчитаем данную метрику, например, для \n",
    "k\n",
    "5\n",
    "k=5 для всех пользователей из тестовой выборки. В результате каждому пользователю будет соответствовать одно значение NDCG@5. Запись “NDCG@5” означает, что метрика NDCG считается для пяти объектов. "
   ]
  },
  {
   "cell_type": "code",
   "execution_count": 73,
   "id": "a594d15a-c5b5-42f7-8d09-b837424f7c38",
   "metadata": {},
   "outputs": [
    {
     "data": {
      "text/html": [
       "<div>\n",
       "<style scoped>\n",
       "    .dataframe tbody tr th:only-of-type {\n",
       "        vertical-align: middle;\n",
       "    }\n",
       "\n",
       "    .dataframe tbody tr th {\n",
       "        vertical-align: top;\n",
       "    }\n",
       "\n",
       "    .dataframe thead th {\n",
       "        text-align: right;\n",
       "    }\n",
       "</style>\n",
       "<table border=\"1\" class=\"dataframe\">\n",
       "  <thead>\n",
       "    <tr style=\"text-align: right;\">\n",
       "      <th></th>\n",
       "      <th>user_id</th>\n",
       "      <th>item_id</th>\n",
       "      <th>score</th>\n",
       "      <th>rating_test</th>\n",
       "    </tr>\n",
       "  </thead>\n",
       "  <tbody>\n",
       "    <tr>\n",
       "      <th>612</th>\n",
       "      <td>1000006</td>\n",
       "      <td>18774964</td>\n",
       "      <td>0.331588</td>\n",
       "      <td>4.0</td>\n",
       "    </tr>\n",
       "    <tr>\n",
       "      <th>615</th>\n",
       "      <td>1000006</td>\n",
       "      <td>29868610</td>\n",
       "      <td>0.288771</td>\n",
       "      <td>4.0</td>\n",
       "    </tr>\n",
       "    <tr>\n",
       "      <th>634</th>\n",
       "      <td>1000006</td>\n",
       "      <td>7445</td>\n",
       "      <td>0.219649</td>\n",
       "      <td>4.0</td>\n",
       "    </tr>\n",
       "    <tr>\n",
       "      <th>650</th>\n",
       "      <td>1000006</td>\n",
       "      <td>18812405</td>\n",
       "      <td>0.175393</td>\n",
       "      <td>3.0</td>\n",
       "    </tr>\n",
       "    <tr>\n",
       "      <th>676</th>\n",
       "      <td>1000006</td>\n",
       "      <td>24817626</td>\n",
       "      <td>0.149680</td>\n",
       "      <td>3.0</td>\n",
       "    </tr>\n",
       "    <tr>\n",
       "      <th>...</th>\n",
       "      <td>...</td>\n",
       "      <td>...</td>\n",
       "      <td>...</td>\n",
       "      <td>...</td>\n",
       "    </tr>\n",
       "    <tr>\n",
       "      <th>43066677</th>\n",
       "      <td>1430666</td>\n",
       "      <td>28763485</td>\n",
       "      <td>0.232897</td>\n",
       "      <td>5.0</td>\n",
       "    </tr>\n",
       "    <tr>\n",
       "      <th>43067071</th>\n",
       "      <td>1430670</td>\n",
       "      <td>1618</td>\n",
       "      <td>0.108422</td>\n",
       "      <td>4.0</td>\n",
       "    </tr>\n",
       "    <tr>\n",
       "      <th>43067558</th>\n",
       "      <td>1430675</td>\n",
       "      <td>17061</td>\n",
       "      <td>0.643452</td>\n",
       "      <td>5.0</td>\n",
       "    </tr>\n",
       "    <tr>\n",
       "      <th>43067572</th>\n",
       "      <td>1430675</td>\n",
       "      <td>830502</td>\n",
       "      <td>0.572333</td>\n",
       "      <td>5.0</td>\n",
       "    </tr>\n",
       "    <tr>\n",
       "      <th>43068146</th>\n",
       "      <td>1430681</td>\n",
       "      <td>18692431</td>\n",
       "      <td>0.148901</td>\n",
       "      <td>3.0</td>\n",
       "    </tr>\n",
       "  </tbody>\n",
       "</table>\n",
       "<p>80856 rows × 4 columns</p>\n",
       "</div>"
      ],
      "text/plain": [
       "          user_id   item_id     score  rating_test\n",
       "612       1000006  18774964  0.331588          4.0\n",
       "615       1000006  29868610  0.288771          4.0\n",
       "634       1000006      7445  0.219649          4.0\n",
       "650       1000006  18812405  0.175393          3.0\n",
       "676       1000006  24817626  0.149680          3.0\n",
       "...           ...       ...       ...          ...\n",
       "43066677  1430666  28763485  0.232897          5.0\n",
       "43067071  1430670      1618  0.108422          4.0\n",
       "43067558  1430675     17061  0.643452          5.0\n",
       "43067572  1430675    830502  0.572333          5.0\n",
       "43068146  1430681  18692431  0.148901          3.0\n",
       "\n",
       "[80856 rows x 4 columns]"
      ]
     },
     "execution_count": 73,
     "metadata": {},
     "output_type": "execute_result"
    }
   ],
   "source": [
    "als_recommendations[als_recommendations[\"rating_test\"].notna()]"
   ]
  },
  {
   "cell_type": "code",
   "execution_count": 74,
   "id": "f41edd35-cd5c-45a3-94e3-fd650bc03b11",
   "metadata": {},
   "outputs": [],
   "source": [
    "rating_test_idx = ~als_recommendations[\"rating_test\"].isnull()\n",
    "ndcg_at_5_scores = als_recommendations[rating_test_idx].groupby(\"user_id\").apply(lambda x: compute_ndcg(x[\"rating_test\"], x[\"score\"], k=5))"
   ]
  },
  {
   "cell_type": "code",
   "execution_count": 75,
   "id": "1babe338-2af7-4159-8bb3-972459594e95",
   "metadata": {},
   "outputs": [
    {
     "data": {
      "text/plain": [
       "(17294,)"
      ]
     },
     "execution_count": 75,
     "metadata": {},
     "output_type": "execute_result"
    }
   ],
   "source": [
    "ndcg_at_5_scores[ndcg_at_5_scores.notna()].shape"
   ]
  },
  {
   "cell_type": "markdown",
   "id": "9f99e2b8-a727-4bdf-a265-2ef9a0a63564",
   "metadata": {},
   "source": [
    "Рекомендуем 100 книг для каждого пользователя, могут быть несовппадения, если мерджим по user_id, item_id, пользователь мог не читать ни одной из этих 100 книг"
   ]
  },
  {
   "cell_type": "code",
   "execution_count": 76,
   "id": "52327092-4ba3-4a03-b412-230d18034fb7",
   "metadata": {},
   "outputs": [
    {
     "data": {
      "text/plain": [
       "(123497,)"
      ]
     },
     "execution_count": 76,
     "metadata": {},
     "output_type": "execute_result"
    }
   ],
   "source": [
    "events_test[\"user_id\"].unique().shape"
   ]
  },
  {
   "cell_type": "code",
   "execution_count": 77,
   "id": "023f501e-ea0c-4bd6-888e-dd7198ed14fe",
   "metadata": {},
   "outputs": [
    {
     "data": {
      "text/plain": [
       "0.98"
      ]
     },
     "execution_count": 77,
     "metadata": {},
     "output_type": "execute_result"
    }
   ],
   "source": [
    "round(ndcg_at_5_scores.mean(), 2)"
   ]
  },
  {
   "cell_type": "code",
   "execution_count": 78,
   "id": "ce1f9255-b3d8-43bc-9aeb-3b51147a767f",
   "metadata": {},
   "outputs": [
    {
     "data": {
      "text/plain": [
       "0.14003579034308525"
      ]
     },
     "execution_count": 78,
     "metadata": {},
     "output_type": "execute_result"
    }
   ],
   "source": [
    "17294 / 123497"
   ]
  },
  {
   "cell_type": "markdown",
   "id": "ce3aabdc-fc01-47bb-8f70-eaed8e1b0899",
   "metadata": {},
   "source": [
    "# Контентные рекомендации"
   ]
  },
  {
   "cell_type": "markdown",
   "id": "c7882148-3aa3-4e3b-9414-7313e6078474",
   "metadata": {},
   "source": [
    "## Составим список всех жанров"
   ]
  },
  {
   "cell_type": "markdown",
   "id": "4c35ffda-a995-4583-9cef-3eee002de7c4",
   "metadata": {},
   "source": [
    "Сначала преобразуем значения в genre_and_votes из текстового представления в тип в Python:"
   ]
  },
  {
   "cell_type": "code",
   "execution_count": 79,
   "id": "15ffe8af-3f23-452b-9cc1-2f35999bb54c",
   "metadata": {},
   "outputs": [],
   "source": [
    "items[\"genre_and_votes\"] = items[\"genre_and_votes\"].apply(eval)"
   ]
  },
  {
   "cell_type": "markdown",
   "id": "dc3e5e82-39e7-49e2-bc77-0e351fd961b9",
   "metadata": {},
   "source": [
    "## Задание 1 из 4\n",
    "Теперь составьте список жанров с долями голосов по ним в genres.  Дополните и выполните следующий код:"
   ]
  },
  {
   "cell_type": "code",
   "execution_count": 80,
   "id": "XjILxQ3jraRU",
   "metadata": {
    "id": "XjILxQ3jraRU"
   },
   "outputs": [],
   "source": [
    "def get_genres(items):\n",
    "\n",
    "    \"\"\" \n",
    "    извлекает список жанров по всем книгам, \n",
    "    подсчитывает долю голосов по каждому их них\n",
    "    \"\"\"\n",
    "    \n",
    "    genres_counter = {}\n",
    "    \n",
    "    for k, v, in items.iterrows():\n",
    "        genre_and_votes = v[\"genre_and_votes\"]\n",
    "        if genre_and_votes is None or not isinstance(genre_and_votes, dict):\n",
    "            continue\n",
    "        for genre, votes in genre_and_votes.items():\n",
    "            # увеличиваем счётчик жанров\n",
    "            try:\n",
    "                genres_counter[genre] += votes\n",
    "            except KeyError:\n",
    "                genres_counter[genre] = 0\n",
    "\n",
    "    genres = pd.Series(genres_counter, name=\"votes\")\n",
    "    genres = genres.to_frame()\n",
    "    genres = genres.reset_index().rename(columns={\"index\": \"name\"})\n",
    "    genres.index.name = \"genre_id\"\n",
    "    \n",
    "    return genres\n",
    "   \n",
    "genres = get_genres(items)"
   ]
  },
  {
   "cell_type": "markdown",
   "id": "e847fa38-2efa-4bfa-b6d3-3b5c55fcfa03",
   "metadata": {},
   "source": [
    "Результат выполнения кода — список жанров с долями голосов по ним в genres. Посмотрим на самые популярные жанры:"
   ]
  },
  {
   "cell_type": "code",
   "execution_count": 81,
   "id": "e482b170-7975-41b1-a625-570173c087db",
   "metadata": {},
   "outputs": [
    {
     "data": {
      "text/html": [
       "<div>\n",
       "<style scoped>\n",
       "    .dataframe tbody tr th:only-of-type {\n",
       "        vertical-align: middle;\n",
       "    }\n",
       "\n",
       "    .dataframe tbody tr th {\n",
       "        vertical-align: top;\n",
       "    }\n",
       "\n",
       "    .dataframe thead th {\n",
       "        text-align: right;\n",
       "    }\n",
       "</style>\n",
       "<table border=\"1\" class=\"dataframe\">\n",
       "  <thead>\n",
       "    <tr style=\"text-align: right;\">\n",
       "      <th></th>\n",
       "      <th>name</th>\n",
       "      <th>votes</th>\n",
       "      <th>score</th>\n",
       "    </tr>\n",
       "    <tr>\n",
       "      <th>genre_id</th>\n",
       "      <th></th>\n",
       "      <th></th>\n",
       "      <th></th>\n",
       "    </tr>\n",
       "  </thead>\n",
       "  <tbody>\n",
       "    <tr>\n",
       "      <th>25</th>\n",
       "      <td>Fantasy</td>\n",
       "      <td>6850060</td>\n",
       "      <td>0.149651</td>\n",
       "    </tr>\n",
       "    <tr>\n",
       "      <th>1</th>\n",
       "      <td>Fiction</td>\n",
       "      <td>6406256</td>\n",
       "      <td>0.139955</td>\n",
       "    </tr>\n",
       "    <tr>\n",
       "      <th>38</th>\n",
       "      <td>Classics</td>\n",
       "      <td>3414934</td>\n",
       "      <td>0.074605</td>\n",
       "    </tr>\n",
       "    <tr>\n",
       "      <th>18</th>\n",
       "      <td>Young Adult</td>\n",
       "      <td>3296951</td>\n",
       "      <td>0.072027</td>\n",
       "    </tr>\n",
       "    <tr>\n",
       "      <th>34</th>\n",
       "      <td>Romance</td>\n",
       "      <td>2422614</td>\n",
       "      <td>0.052926</td>\n",
       "    </tr>\n",
       "    <tr>\n",
       "      <th>5</th>\n",
       "      <td>Nonfiction</td>\n",
       "      <td>1737406</td>\n",
       "      <td>0.037957</td>\n",
       "    </tr>\n",
       "    <tr>\n",
       "      <th>16</th>\n",
       "      <td>Historical-Historical Fiction</td>\n",
       "      <td>1531205</td>\n",
       "      <td>0.033452</td>\n",
       "    </tr>\n",
       "    <tr>\n",
       "      <th>20</th>\n",
       "      <td>Mystery</td>\n",
       "      <td>1371196</td>\n",
       "      <td>0.029956</td>\n",
       "    </tr>\n",
       "    <tr>\n",
       "      <th>24</th>\n",
       "      <td>Science Fiction</td>\n",
       "      <td>1218917</td>\n",
       "      <td>0.026629</td>\n",
       "    </tr>\n",
       "    <tr>\n",
       "      <th>33</th>\n",
       "      <td>Fantasy-Paranormal</td>\n",
       "      <td>857012</td>\n",
       "      <td>0.018723</td>\n",
       "    </tr>\n",
       "  </tbody>\n",
       "</table>\n",
       "</div>"
      ],
      "text/plain": [
       "                                   name    votes     score\n",
       "genre_id                                                  \n",
       "25                              Fantasy  6850060  0.149651\n",
       "1                               Fiction  6406256  0.139955\n",
       "38                             Classics  3414934  0.074605\n",
       "18                          Young Adult  3296951  0.072027\n",
       "34                              Romance  2422614  0.052926\n",
       "5                            Nonfiction  1737406  0.037957\n",
       "16        Historical-Historical Fiction  1531205  0.033452\n",
       "20                              Mystery  1371196  0.029956\n",
       "24                      Science Fiction  1218917  0.026629\n",
       "33                   Fantasy-Paranormal   857012  0.018723"
      ]
     },
     "execution_count": 81,
     "metadata": {},
     "output_type": "execute_result"
    }
   ],
   "source": [
    "genres[\"score\"] = genres[\"votes\"] / genres[\"votes\"].sum()\n",
    "genres.sort_values(by=\"score\", ascending=False).head(10)"
   ]
  },
  {
   "cell_type": "code",
   "execution_count": 82,
   "id": "495ff355-6e27-4fd1-938b-4e9014cd11ee",
   "metadata": {},
   "outputs": [],
   "source": [
    "genres.to_parquet(\"intermediate_data/genres.parquet\")"
   ]
  },
  {
   "cell_type": "markdown",
   "id": "ab8bfb78-5398-45bc-9b8f-355d3b45d89a",
   "metadata": {},
   "source": [
    "## Подготовим матрицы\n",
    "## Задание 2 из 4"
   ]
  },
  {
   "cell_type": "markdown",
   "id": "824fb177-a408-4ba4-baf1-4ca363a7abbf",
   "metadata": {},
   "source": [
    "Матрица книга - жанр. Сколько человек проголосовало за каждый жанр (норрмализация в сумме 1)"
   ]
  },
  {
   "cell_type": "code",
   "execution_count": 83,
   "id": "6def836b-7240-4a73-a0b3-33a47f4edfd6",
   "metadata": {},
   "outputs": [],
   "source": [
    "def get_item2genre_matrix(genres, items):\n",
    "\n",
    "    # словарь жанр - id жанра\n",
    "    genre_names_to_id = genres.reset_index().set_index(\"name\")[\"genre_id\"].to_dict()\n",
    "    \n",
    "    # list to build CSR matrix\n",
    "    genres_csr_data = []\n",
    "    genres_csr_row_idx = []\n",
    "    genres_csr_col_idx = []\n",
    "\n",
    "    # проходимся по строкам айтемов (книг)\n",
    "    for item_idx, (k, v) in enumerate(items.iterrows()):\n",
    "        if v[\"genre_and_votes\"] is None:\n",
    "            continue\n",
    "        # проходимся по жанрам и голосам в строке айтемов (сколько людей проголосовало за тот или иной жанр)\n",
    "        for genre_name, votes in v[\"genre_and_votes\"].items():\n",
    "            genre_idx = genre_names_to_id[genre_name] # определяем id жанра из словаря\n",
    "            genres_csr_data.append(int(votes)) # голоса\n",
    "            genres_csr_row_idx.append(item_idx) # порядковый номер айтема\n",
    "            genres_csr_col_idx.append(genre_idx) # id айтема\n",
    "\n",
    "    genres_csr = scipy.sparse.csr_matrix((genres_csr_data, (genres_csr_row_idx, genres_csr_col_idx)), shape=(len(items), len(genres)))\n",
    "    # нормализуем, чтобы сумма оценок принадлежности к жанру была равна 1\n",
    "    genres_csr = sklearn.preprocessing.normalize(genres_csr, norm='l1', axis=1)\n",
    "    \n",
    "    return genres_csr "
   ]
  },
  {
   "cell_type": "markdown",
   "id": "5bf2c1a9-e05d-4f0d-ac88-fe01f46d9988",
   "metadata": {},
   "source": [
    "Получим матрицу с весами по жанрам для каждой книги: Это важный результат. Он поможет вычислить, какие книги «ближе» к пользовательскому вектору."
   ]
  },
  {
   "cell_type": "code",
   "execution_count": 84,
   "id": "78055159-c3a8-4e56-8dea-38f1e7ea5551",
   "metadata": {},
   "outputs": [],
   "source": [
    "items = items.sort_values(by=\"item_id_enc\")\n",
    "all_items_genres_csr = get_item2genre_matrix(genres, items)"
   ]
  },
  {
   "cell_type": "code",
   "execution_count": 84,
   "id": "3f47508e-d83a-4f65-87b3-7a056c96e077",
   "metadata": {},
   "outputs": [
    {
     "data": {
      "text/plain": [
       "(43312, 815)"
      ]
     },
     "execution_count": 84,
     "metadata": {},
     "output_type": "execute_result"
    }
   ],
   "source": [
    "all_items_genres_csr.shape"
   ]
  },
  {
   "cell_type": "markdown",
   "id": "5bd7c75f-7956-4170-8ee1-be329feb447a",
   "metadata": {},
   "source": [
    "Аналогичным образом получим матрицу с весами по жанрам для какого-нибудь пользователя, например, для пользователя с идентификатором 1000010. "
   ]
  },
  {
   "cell_type": "code",
   "execution_count": 85,
   "id": "b31b9093-495a-4fe4-b6af-f6c5787bac51",
   "metadata": {},
   "outputs": [
    {
     "data": {
      "text/plain": [
       "<Compressed Sparse Row sparse matrix of dtype 'float64'\n",
       "\twith 149 stored elements and shape (22, 815)>"
      ]
     },
     "execution_count": 85,
     "metadata": {},
     "output_type": "execute_result"
    }
   ],
   "source": [
    "# То же самое что и выше только для айтемов пользователя\n",
    "user_id = 1000010\n",
    "user_events = events_train.query(\"user_id == @user_id\")[[\"item_id\", \"rating\"]]\n",
    "user_items = items[items[\"item_id\"].isin(user_events[\"item_id\"])]\n",
    "\n",
    "user_items_genres_csr = get_item2genre_matrix(genres, user_items)\n",
    "user_items_genres_csr"
   ]
  },
  {
   "cell_type": "code",
   "execution_count": 86,
   "id": "cdaddb71-3d68-46d1-9abb-f95e72be3c2d",
   "metadata": {},
   "outputs": [
    {
     "data": {
      "text/plain": [
       "149"
      ]
     },
     "execution_count": 86,
     "metadata": {},
     "output_type": "execute_result"
    }
   ],
   "source": [
    "user_items_genres_csr.count_nonzero()"
   ]
  },
  {
   "cell_type": "markdown",
   "id": "09529175-f475-404f-98b6-2c15872b0b62",
   "metadata": {},
   "source": [
    "На практике часто пользователь явно указывает предпочтения в своём профиле. У нас таких данных нет, поэтому предпочтения пользователя по жанрам вычислим автоматически на основе его истории поведения. среднее взвешенное значение популяции на его оценки книг. !!!"
   ]
  },
  {
   "cell_type": "code",
   "execution_count": 87,
   "id": "fa113bda-e49d-4f4f-9dc4-c4b12b3f4568",
   "metadata": {},
   "outputs": [],
   "source": [
    "# вычислим склонность пользователя к жанрам как среднее взвешенное значение популяции на его оценки книг.\n",
    "\n",
    "# преобразуем пользовательские оценки из списка в вектор-столбец\n",
    "user_ratings = user_events[\"rating\"].to_numpy() / 5\n",
    "user_ratings = np.expand_dims(user_ratings, axis=1) # преобразуем в столбец ([n, 1])\n",
    "\n",
    "user_items_genres_weighted = user_items_genres_csr.multiply(user_ratings) # - поэлементное умножение,\n",
    "\n",
    "user_genres_scores = np.asarray(user_items_genres_weighted.mean(axis=0))"
   ]
  },
  {
   "cell_type": "code",
   "execution_count": 88,
   "id": "b7da4056-d04f-4668-ba40-2a892b1a348e",
   "metadata": {},
   "outputs": [
    {
     "data": {
      "text/plain": [
       "(22, 1)"
      ]
     },
     "execution_count": 88,
     "metadata": {},
     "output_type": "execute_result"
    }
   ],
   "source": [
    "user_ratings.shape"
   ]
  },
  {
   "cell_type": "code",
   "execution_count": 89,
   "id": "d9a0a871-cb49-4bbf-a2a3-65ca2840a448",
   "metadata": {},
   "outputs": [
    {
     "data": {
      "text/plain": [
       "(22, 815)"
      ]
     },
     "execution_count": 89,
     "metadata": {},
     "output_type": "execute_result"
    }
   ],
   "source": [
    "user_items_genres_weighted.shape"
   ]
  },
  {
   "cell_type": "code",
   "execution_count": 90,
   "id": "44912107-3431-4d77-8a80-286b6b7fb197",
   "metadata": {},
   "outputs": [
    {
     "data": {
      "text/plain": [
       "(1, 815)"
      ]
     },
     "execution_count": 90,
     "metadata": {},
     "output_type": "execute_result"
    }
   ],
   "source": [
    "user_genres_scores.shape"
   ]
  },
  {
   "cell_type": "markdown",
   "id": "d57b45df-3415-4621-ac7e-1ff1aa0d88ca",
   "metadata": {},
   "source": [
    "Можно посмотреть, какие жанры больше всего нравятся пользователю:"
   ]
  },
  {
   "cell_type": "code",
   "execution_count": 91,
   "id": "a9b10f6a-38c9-4fa1-b0a6-e9e2be5fdbfb",
   "metadata": {},
   "outputs": [
    {
     "data": {
      "text/html": [
       "<div>\n",
       "<style scoped>\n",
       "    .dataframe tbody tr th:only-of-type {\n",
       "        vertical-align: middle;\n",
       "    }\n",
       "\n",
       "    .dataframe tbody tr th {\n",
       "        vertical-align: top;\n",
       "    }\n",
       "\n",
       "    .dataframe thead th {\n",
       "        text-align: right;\n",
       "    }\n",
       "</style>\n",
       "<table border=\"1\" class=\"dataframe\">\n",
       "  <thead>\n",
       "    <tr style=\"text-align: right;\">\n",
       "      <th></th>\n",
       "      <th>name</th>\n",
       "      <th>votes</th>\n",
       "      <th>score</th>\n",
       "    </tr>\n",
       "    <tr>\n",
       "      <th>genre_id</th>\n",
       "      <th></th>\n",
       "      <th></th>\n",
       "      <th></th>\n",
       "    </tr>\n",
       "  </thead>\n",
       "  <tbody>\n",
       "    <tr>\n",
       "      <th>1</th>\n",
       "      <td>Fiction</td>\n",
       "      <td>6406256</td>\n",
       "      <td>0.185241</td>\n",
       "    </tr>\n",
       "    <tr>\n",
       "      <th>38</th>\n",
       "      <td>Classics</td>\n",
       "      <td>3414934</td>\n",
       "      <td>0.103879</td>\n",
       "    </tr>\n",
       "    <tr>\n",
       "      <th>25</th>\n",
       "      <td>Fantasy</td>\n",
       "      <td>6850060</td>\n",
       "      <td>0.072447</td>\n",
       "    </tr>\n",
       "    <tr>\n",
       "      <th>5</th>\n",
       "      <td>Nonfiction</td>\n",
       "      <td>1737406</td>\n",
       "      <td>0.050865</td>\n",
       "    </tr>\n",
       "    <tr>\n",
       "      <th>24</th>\n",
       "      <td>Science Fiction</td>\n",
       "      <td>1218917</td>\n",
       "      <td>0.040920</td>\n",
       "    </tr>\n",
       "  </tbody>\n",
       "</table>\n",
       "</div>"
      ],
      "text/plain": [
       "                     name    votes     score\n",
       "genre_id                                    \n",
       "1                 Fiction  6406256  0.185241\n",
       "38               Classics  3414934  0.103879\n",
       "25                Fantasy  6850060  0.072447\n",
       "5              Nonfiction  1737406  0.050865\n",
       "24        Science Fiction  1218917  0.040920"
      ]
     },
     "execution_count": 91,
     "metadata": {},
     "output_type": "execute_result"
    }
   ],
   "source": [
    "# выведем список жанров, которые предпочитает пользователь\n",
    "\n",
    "user_genres = genres.copy()\n",
    "user_genres[\"score\"] = np.ravel(user_genres_scores)\n",
    "user_genres = user_genres[user_genres[\"score\"] > 0].sort_values(by=[\"score\"], ascending=False)\n",
    "\n",
    "user_genres.head(5)"
   ]
  },
  {
   "cell_type": "code",
   "execution_count": 92,
   "id": "c44b2538-173f-490e-8a91-bf6bcf2e7e41",
   "metadata": {},
   "outputs": [
    {
     "data": {
      "text/plain": [
       "((43312, 815), (1, 815))"
      ]
     },
     "execution_count": 92,
     "metadata": {},
     "output_type": "execute_result"
    }
   ],
   "source": [
    "all_items_genres_csr.shape, user_genres_scores.shape"
   ]
  },
  {
   "cell_type": "markdown",
   "id": "56e883b4-de2b-48bb-8f18-680feb4229e3",
   "metadata": {},
   "source": [
    "## Задание 4 из 4\n",
    "Получите наиболее релевантные рекомендации для пользователя. Дополните код так, чтобы переменная top_k_indices заполнялась индексами соответствующих книг. Для этого удобно использовать np.argsort от similarity_scores, подсчитанной для всех книг.\n",
    "После вычисления top_k_indices по полученным индексам извлеките список объектов, которые могут быть интересны пользователю, при помощи кода:"
   ]
  },
  {
   "cell_type": "code",
   "execution_count": 93,
   "id": "5caed3e0-ca1e-4c58-bcc1-81f3e631a72b",
   "metadata": {},
   "outputs": [],
   "source": [
    "from sklearn.metrics.pairwise import cosine_similarity\n",
    "\n",
    "# вычисляем сходство между вектором пользователя и векторами по книгам\n",
    "similarity_scores = cosine_similarity(all_items_genres_csr, user_genres_scores)\n",
    "\n",
    "# преобразуем в одномерный массив\n",
    "similarity_scores = similarity_scores.flatten()\n",
    "\n",
    "# получаем индексы top-k (по убыванию значений), по сути, индексы книг (encoded)\n",
    "k = 5\n",
    "top_k_indices = np.argsort(similarity_scores)[:k]"
   ]
  },
  {
   "cell_type": "code",
   "execution_count": 94,
   "id": "6ccf3a4a-dd6d-4eed-ab06-2ebc1c981c5c",
   "metadata": {},
   "outputs": [
    {
     "data": {
      "text/plain": [
       "<Compressed Sparse Row sparse matrix of dtype 'float64'\n",
       "\twith 210895 stored elements and shape (43312, 815)>"
      ]
     },
     "execution_count": 94,
     "metadata": {},
     "output_type": "execute_result"
    }
   ],
   "source": [
    "all_items_genres_csr"
   ]
  },
  {
   "cell_type": "code",
   "execution_count": 95,
   "id": "81f3d849-bbbc-41a7-b8c9-90ee3826c458",
   "metadata": {},
   "outputs": [
    {
     "data": {
      "text/html": [
       "<div>\n",
       "<style scoped>\n",
       "    .dataframe tbody tr th:only-of-type {\n",
       "        vertical-align: middle;\n",
       "    }\n",
       "\n",
       "    .dataframe tbody tr th {\n",
       "        vertical-align: top;\n",
       "    }\n",
       "\n",
       "    .dataframe thead th {\n",
       "        text-align: right;\n",
       "    }\n",
       "</style>\n",
       "<table border=\"1\" class=\"dataframe\">\n",
       "  <thead>\n",
       "    <tr style=\"text-align: right;\">\n",
       "      <th></th>\n",
       "      <th>item_id</th>\n",
       "      <th>author</th>\n",
       "      <th>title</th>\n",
       "      <th>description</th>\n",
       "      <th>genre_and_votes</th>\n",
       "      <th>num_pages</th>\n",
       "      <th>average_rating</th>\n",
       "      <th>ratings_count</th>\n",
       "      <th>text_reviews_count</th>\n",
       "      <th>publisher</th>\n",
       "      <th>publication_year</th>\n",
       "      <th>country_code</th>\n",
       "      <th>language_code</th>\n",
       "      <th>format</th>\n",
       "      <th>is_ebook</th>\n",
       "      <th>isbn</th>\n",
       "      <th>isbn13</th>\n",
       "      <th>genre_and_votes_dict</th>\n",
       "      <th>genre_and_votes_str</th>\n",
       "      <th>item_id_enc</th>\n",
       "    </tr>\n",
       "  </thead>\n",
       "  <tbody>\n",
       "    <tr>\n",
       "      <th>956516</th>\n",
       "      <td>22547731</td>\n",
       "      <td>Tina Marie Kaht, Valeria Avantario</td>\n",
       "      <td>Grandparents' Day</td>\n",
       "      <td>In this heartwarming story, a loving grandchil...</td>\n",
       "      <td>{'Childrens': 2}</td>\n",
       "      <td>34</td>\n",
       "      <td>4.38</td>\n",
       "      <td>8</td>\n",
       "      <td>6</td>\n",
       "      <td>Createspace Independent Publishing Platform</td>\n",
       "      <td>2014</td>\n",
       "      <td>US</td>\n",
       "      <td></td>\n",
       "      <td>Paperback</td>\n",
       "      <td>False</td>\n",
       "      <td>1500109673</td>\n",
       "      <td>9781500109677</td>\n",
       "      <td>{'Academic': None, 'Academic-Academia': None, ...</td>\n",
       "      <td>Childrens 2</td>\n",
       "      <td>38862</td>\n",
       "    </tr>\n",
       "    <tr>\n",
       "      <th>515584</th>\n",
       "      <td>22523971</td>\n",
       "      <td>Nayyirah Waheed</td>\n",
       "      <td>Nejma</td>\n",
       "      <td></td>\n",
       "      <td>{'Poetry': 929, 'Feminism': 31}</td>\n",
       "      <td>178</td>\n",
       "      <td>4.06</td>\n",
       "      <td>1967</td>\n",
       "      <td>213</td>\n",
       "      <td>CreateSpace Independent Publishing Platform</td>\n",
       "      <td>2014</td>\n",
       "      <td>US</td>\n",
       "      <td>en-CA</td>\n",
       "      <td>Paperback</td>\n",
       "      <td>False</td>\n",
       "      <td>1494493322</td>\n",
       "      <td>9781494493325</td>\n",
       "      <td>{'Academic': None, 'Academic-Academia': None, ...</td>\n",
       "      <td>Poetry 929, Feminism 31</td>\n",
       "      <td>38838</td>\n",
       "    </tr>\n",
       "    <tr>\n",
       "      <th>1673075</th>\n",
       "      <td>197515</td>\n",
       "      <td>Mo Willems</td>\n",
       "      <td>Today I Will Fly! (Elephant &amp; Piggie, #1)</td>\n",
       "      <td>Gerald is careful. Piggie is not.\\nPiggie cann...</td>\n",
       "      <td>{'Childrens-Picture Books': 409, 'Childrens': ...</td>\n",
       "      <td>57</td>\n",
       "      <td>4.30</td>\n",
       "      <td>10612</td>\n",
       "      <td>388</td>\n",
       "      <td>Hyperion Books for Children</td>\n",
       "      <td>2007</td>\n",
       "      <td>US</td>\n",
       "      <td>eng</td>\n",
       "      <td>Hardcover</td>\n",
       "      <td>False</td>\n",
       "      <td>1423102959</td>\n",
       "      <td>9781423102953</td>\n",
       "      <td>{'Academic': None, 'Academic-Academia': None, ...</td>\n",
       "      <td>Childrens-Picture Books 409, Childrens 199</td>\n",
       "      <td>9716</td>\n",
       "    </tr>\n",
       "    <tr>\n",
       "      <th>1422146</th>\n",
       "      <td>1504506</td>\n",
       "      <td>Nicholas Davies</td>\n",
       "      <td>Diana the Killing of a Princess</td>\n",
       "      <td>When Diana, Princess of Wales, died in a horri...</td>\n",
       "      <td>None</td>\n",
       "      <td>300</td>\n",
       "      <td>2.50</td>\n",
       "      <td>4</td>\n",
       "      <td>1</td>\n",
       "      <td>New Generation Publishing</td>\n",
       "      <td>2006</td>\n",
       "      <td>US</td>\n",
       "      <td></td>\n",
       "      <td>Paperback</td>\n",
       "      <td>False</td>\n",
       "      <td>1905621485</td>\n",
       "      <td>9781905621484</td>\n",
       "      <td>None</td>\n",
       "      <td>None</td>\n",
       "      <td>18969</td>\n",
       "    </tr>\n",
       "    <tr>\n",
       "      <th>1523576</th>\n",
       "      <td>1481056</td>\n",
       "      <td>Lester Sumrall</td>\n",
       "      <td>Gifts and Ministries of the Holy Spirit</td>\n",
       "      <td>The gifts of the Spirit can destroy any force ...</td>\n",
       "      <td>{'Christian': 6, 'Religion-Theology': 3, 'Chri...</td>\n",
       "      <td>&lt;NA&gt;</td>\n",
       "      <td>4.43</td>\n",
       "      <td>178</td>\n",
       "      <td>14</td>\n",
       "      <td>Whitaker Distribution</td>\n",
       "      <td>2005</td>\n",
       "      <td>US</td>\n",
       "      <td>eng</td>\n",
       "      <td>Paperback</td>\n",
       "      <td>False</td>\n",
       "      <td>088368652X</td>\n",
       "      <td>9780883686522</td>\n",
       "      <td>{'Academic': None, 'Academic-Academia': None, ...</td>\n",
       "      <td>Christian 6, Religion-Theology 3, Christian-Ch...</td>\n",
       "      <td>18925</td>\n",
       "    </tr>\n",
       "  </tbody>\n",
       "</table>\n",
       "</div>"
      ],
      "text/plain": [
       "          item_id                              author  \\\n",
       "956516   22547731  Tina Marie Kaht, Valeria Avantario   \n",
       "515584   22523971                     Nayyirah Waheed   \n",
       "1673075    197515                          Mo Willems   \n",
       "1422146   1504506                     Nicholas Davies   \n",
       "1523576   1481056                      Lester Sumrall   \n",
       "\n",
       "                                             title  \\\n",
       "956516                           Grandparents' Day   \n",
       "515584                                       Nejma   \n",
       "1673075  Today I Will Fly! (Elephant & Piggie, #1)   \n",
       "1422146            Diana the Killing of a Princess   \n",
       "1523576    Gifts and Ministries of the Holy Spirit   \n",
       "\n",
       "                                               description  \\\n",
       "956516   In this heartwarming story, a loving grandchil...   \n",
       "515584                                                       \n",
       "1673075  Gerald is careful. Piggie is not.\\nPiggie cann...   \n",
       "1422146  When Diana, Princess of Wales, died in a horri...   \n",
       "1523576  The gifts of the Spirit can destroy any force ...   \n",
       "\n",
       "                                           genre_and_votes  num_pages  \\\n",
       "956516                                    {'Childrens': 2}         34   \n",
       "515584                     {'Poetry': 929, 'Feminism': 31}        178   \n",
       "1673075  {'Childrens-Picture Books': 409, 'Childrens': ...         57   \n",
       "1422146                                               None        300   \n",
       "1523576  {'Christian': 6, 'Religion-Theology': 3, 'Chri...       <NA>   \n",
       "\n",
       "         average_rating  ratings_count  text_reviews_count  \\\n",
       "956516             4.38              8                   6   \n",
       "515584             4.06           1967                 213   \n",
       "1673075            4.30          10612                 388   \n",
       "1422146            2.50              4                   1   \n",
       "1523576            4.43            178                  14   \n",
       "\n",
       "                                           publisher  publication_year  \\\n",
       "956516   Createspace Independent Publishing Platform              2014   \n",
       "515584   CreateSpace Independent Publishing Platform              2014   \n",
       "1673075                  Hyperion Books for Children              2007   \n",
       "1422146                    New Generation Publishing              2006   \n",
       "1523576                        Whitaker Distribution              2005   \n",
       "\n",
       "        country_code language_code     format  is_ebook        isbn  \\\n",
       "956516            US                Paperback     False  1500109673   \n",
       "515584            US         en-CA  Paperback     False  1494493322   \n",
       "1673075           US           eng  Hardcover     False  1423102959   \n",
       "1422146           US                Paperback     False  1905621485   \n",
       "1523576           US           eng  Paperback     False  088368652X   \n",
       "\n",
       "                isbn13                               genre_and_votes_dict  \\\n",
       "956516   9781500109677  {'Academic': None, 'Academic-Academia': None, ...   \n",
       "515584   9781494493325  {'Academic': None, 'Academic-Academia': None, ...   \n",
       "1673075  9781423102953  {'Academic': None, 'Academic-Academia': None, ...   \n",
       "1422146  9781905621484                                               None   \n",
       "1523576  9780883686522  {'Academic': None, 'Academic-Academia': None, ...   \n",
       "\n",
       "                                       genre_and_votes_str  item_id_enc  \n",
       "956516                                         Childrens 2        38862  \n",
       "515584                             Poetry 929, Feminism 31        38838  \n",
       "1673075         Childrens-Picture Books 409, Childrens 199         9716  \n",
       "1422146                                               None        18969  \n",
       "1523576  Christian 6, Religion-Theology 3, Christian-Ch...        18925  "
      ]
     },
     "execution_count": 95,
     "metadata": {},
     "output_type": "execute_result"
    }
   ],
   "source": [
    "items.iloc[top_k_indices, :]"
   ]
  },
  {
   "cell_type": "markdown",
   "id": "43f34e5f-1e04-4cde-b935-d9ca52914c61",
   "metadata": {},
   "source": [
    "# Валидация"
   ]
  },
  {
   "cell_type": "markdown",
   "id": "7f949a9e-f54c-470b-b216-bb9a4a418148",
   "metadata": {},
   "source": [
    "## Метрики классификации («попадания»)"
   ]
  },
  {
   "cell_type": "code",
   "execution_count": 96,
   "id": "cfc652f5-5650-47e2-9f93-b91c88605b7b",
   "metadata": {},
   "outputs": [
    {
     "data": {
      "text/html": [
       "<div>\n",
       "<style scoped>\n",
       "    .dataframe tbody tr th:only-of-type {\n",
       "        vertical-align: middle;\n",
       "    }\n",
       "\n",
       "    .dataframe tbody tr th {\n",
       "        vertical-align: top;\n",
       "    }\n",
       "\n",
       "    .dataframe thead th {\n",
       "        text-align: right;\n",
       "    }\n",
       "</style>\n",
       "<table border=\"1\" class=\"dataframe\">\n",
       "  <thead>\n",
       "    <tr style=\"text-align: right;\">\n",
       "      <th></th>\n",
       "      <th>user_id</th>\n",
       "      <th>item_id</th>\n",
       "      <th>score</th>\n",
       "      <th>rating_test</th>\n",
       "    </tr>\n",
       "  </thead>\n",
       "  <tbody>\n",
       "    <tr>\n",
       "      <th>0</th>\n",
       "      <td>1000000</td>\n",
       "      <td>3</td>\n",
       "      <td>0.976627</td>\n",
       "      <td>NaN</td>\n",
       "    </tr>\n",
       "    <tr>\n",
       "      <th>1</th>\n",
       "      <td>1000000</td>\n",
       "      <td>15881</td>\n",
       "      <td>0.886149</td>\n",
       "      <td>NaN</td>\n",
       "    </tr>\n",
       "    <tr>\n",
       "      <th>2</th>\n",
       "      <td>1000000</td>\n",
       "      <td>5</td>\n",
       "      <td>0.857764</td>\n",
       "      <td>NaN</td>\n",
       "    </tr>\n",
       "    <tr>\n",
       "      <th>3</th>\n",
       "      <td>1000000</td>\n",
       "      <td>6</td>\n",
       "      <td>0.825622</td>\n",
       "      <td>NaN</td>\n",
       "    </tr>\n",
       "    <tr>\n",
       "      <th>4</th>\n",
       "      <td>1000000</td>\n",
       "      <td>2</td>\n",
       "      <td>0.781237</td>\n",
       "      <td>NaN</td>\n",
       "    </tr>\n",
       "    <tr>\n",
       "      <th>...</th>\n",
       "      <td>...</td>\n",
       "      <td>...</td>\n",
       "      <td>...</td>\n",
       "      <td>...</td>\n",
       "    </tr>\n",
       "    <tr>\n",
       "      <th>43068195</th>\n",
       "      <td>1430681</td>\n",
       "      <td>6900</td>\n",
       "      <td>0.098617</td>\n",
       "      <td>NaN</td>\n",
       "    </tr>\n",
       "    <tr>\n",
       "      <th>43068196</th>\n",
       "      <td>1430681</td>\n",
       "      <td>25574782</td>\n",
       "      <td>0.098023</td>\n",
       "      <td>NaN</td>\n",
       "    </tr>\n",
       "    <tr>\n",
       "      <th>43068197</th>\n",
       "      <td>1430681</td>\n",
       "      <td>29610595</td>\n",
       "      <td>0.097793</td>\n",
       "      <td>NaN</td>\n",
       "    </tr>\n",
       "    <tr>\n",
       "      <th>43068198</th>\n",
       "      <td>1430681</td>\n",
       "      <td>8949352</td>\n",
       "      <td>0.096381</td>\n",
       "      <td>NaN</td>\n",
       "    </tr>\n",
       "    <tr>\n",
       "      <th>43068199</th>\n",
       "      <td>1430681</td>\n",
       "      <td>22738563</td>\n",
       "      <td>0.096285</td>\n",
       "      <td>NaN</td>\n",
       "    </tr>\n",
       "  </tbody>\n",
       "</table>\n",
       "<p>43068200 rows × 4 columns</p>\n",
       "</div>"
      ],
      "text/plain": [
       "          user_id   item_id     score  rating_test\n",
       "0         1000000         3  0.976627          NaN\n",
       "1         1000000     15881  0.886149          NaN\n",
       "2         1000000         5  0.857764          NaN\n",
       "3         1000000         6  0.825622          NaN\n",
       "4         1000000         2  0.781237          NaN\n",
       "...           ...       ...       ...          ...\n",
       "43068195  1430681      6900  0.098617          NaN\n",
       "43068196  1430681  25574782  0.098023          NaN\n",
       "43068197  1430681  29610595  0.097793          NaN\n",
       "43068198  1430681   8949352  0.096381          NaN\n",
       "43068199  1430681  22738563  0.096285          NaN\n",
       "\n",
       "[43068200 rows x 4 columns]"
      ]
     },
     "execution_count": 96,
     "metadata": {},
     "output_type": "execute_result"
    }
   ],
   "source": [
    "als_recommendations"
   ]
  },
  {
   "cell_type": "markdown",
   "id": "424be1db-c75a-43ed-b45a-f221a5879bd3",
   "metadata": {},
   "source": [
    "Посчитаем recall и precision для ALS-рекомендаций (als_recommendations). Для этого события в тестовой выборке и рекомендации для одних и тех же пользователей разметим признаками:\n",
    "gt (ground truth): объект есть в тестовой выборке;\n",
    "pr (predicted): объект есть в рекомендациях.\n",
    "Теперь разметим признаки бинарной классификации:\n",
    "TP: объект есть и в тестовой выборке, и в рекомендациях (истинная рекомендация),\n",
    "FP: объекта нет в тестовой выборке, но он есть в рекомендациях (ложноположительная рекомендация),\n",
    "FN: объект есть в тестовой выборке, но его нет в рекомендациях (ложноотрицательная рекомендация)"
   ]
  },
  {
   "cell_type": "code",
   "execution_count": 97,
   "id": "70f1675b-5213-4139-9db9-869bc4845b6f",
   "metadata": {},
   "outputs": [],
   "source": [
    "def process_events_recs_for_binary_metrics(events_train, events_test, recs, top_k=None):\n",
    "\n",
    "    \"\"\"\n",
    "    размечает пары <user_id, item_id> для общего множества пользователей признаками\n",
    "    - gt (ground truth)\n",
    "    - pr (prediction)\n",
    "    top_k: расчёт ведётся только для top k-рекомендаций\n",
    "    \"\"\"\n",
    "\n",
    "    events_test[\"gt\"] = True\n",
    "    common_users = set(events_test[\"user_id\"]) & set(recs[\"user_id\"])\n",
    "\n",
    "    print(f\"Common users: {len(common_users)}\")\n",
    "    \n",
    "    events_for_common_users = events_test[events_test[\"user_id\"].isin(common_users)].copy()\n",
    "    recs_for_common_users = recs[recs[\"user_id\"].isin(common_users)].copy()\n",
    "\n",
    "    recs_for_common_users = recs_for_common_users.sort_values([\"user_id\", \"score\"], ascending=[True, False])\n",
    "\n",
    "    # оставляет только те item_id, которые были в events_train, \n",
    "    # т. к. модель не имела никакой возможности давать рекомендации для новых айтемов\n",
    "    events_for_common_users = events_for_common_users[events_for_common_users[\"item_id\"].isin(events_train[\"item_id\"].unique())]\n",
    "\n",
    "    if top_k is not None:\n",
    "        recs_for_common_users = recs_for_common_users.groupby(\"user_id\").head(top_k)\n",
    "    \n",
    "    events_recs_common = events_for_common_users[[\"user_id\", \"item_id\", \"gt\"]].merge(\n",
    "        recs_for_common_users[[\"user_id\", \"item_id\", \"score\"]], \n",
    "        on=[\"user_id\", \"item_id\"], how=\"outer\")    \n",
    "\n",
    "    events_recs_common[\"gt\"] = events_recs_common[\"gt\"].fillna(False)\n",
    "    events_recs_common[\"pr\"] = ~events_recs_common[\"score\"].isnull()\n",
    "    \n",
    "    events_recs_common[\"tp\"] = events_recs_common[\"gt\"] & events_recs_common[\"pr\"]\n",
    "    events_recs_common[\"fp\"] = ~events_recs_common[\"gt\"] & events_recs_common[\"pr\"]\n",
    "    events_recs_common[\"fn\"] = events_recs_common[\"gt\"] & ~events_recs_common[\"pr\"]\n",
    " \n",
    "    return events_recs_common"
   ]
  },
  {
   "cell_type": "code",
   "execution_count": 98,
   "id": "7af2366a-c17d-4e28-bc7a-8d1a910ebc29",
   "metadata": {},
   "outputs": [
    {
     "name": "stderr",
     "output_type": "stream",
     "text": [
      "/tmp/ipykernel_2135/119025985.py:10: SettingWithCopyWarning: \n",
      "A value is trying to be set on a copy of a slice from a DataFrame.\n",
      "Try using .loc[row_indexer,col_indexer] = value instead\n",
      "\n",
      "See the caveats in the documentation: https://pandas.pydata.org/pandas-docs/stable/user_guide/indexing.html#returning-a-view-versus-a-copy\n",
      "  events_test[\"gt\"] = True\n"
     ]
    },
    {
     "name": "stdout",
     "output_type": "stream",
     "text": [
      "Common users: 123497\n"
     ]
    }
   ],
   "source": [
    "events_recs_for_binary_metrics = process_events_recs_for_binary_metrics(\n",
    "  events_train,\n",
    "    events_test, \n",
    "    als_recommendations, \n",
    "    top_k=5)"
   ]
  },
  {
   "cell_type": "code",
   "execution_count": 99,
   "id": "1d348bf9-6b2e-4d09-8e7e-3bc2c4f59c29",
   "metadata": {},
   "outputs": [
    {
     "data": {
      "text/html": [
       "<div>\n",
       "<style scoped>\n",
       "    .dataframe tbody tr th:only-of-type {\n",
       "        vertical-align: middle;\n",
       "    }\n",
       "\n",
       "    .dataframe tbody tr th {\n",
       "        vertical-align: top;\n",
       "    }\n",
       "\n",
       "    .dataframe thead th {\n",
       "        text-align: right;\n",
       "    }\n",
       "</style>\n",
       "<table border=\"1\" class=\"dataframe\">\n",
       "  <thead>\n",
       "    <tr style=\"text-align: right;\">\n",
       "      <th></th>\n",
       "      <th>user_id</th>\n",
       "      <th>item_id</th>\n",
       "      <th>gt</th>\n",
       "      <th>score</th>\n",
       "      <th>pr</th>\n",
       "      <th>tp</th>\n",
       "      <th>fp</th>\n",
       "      <th>fn</th>\n",
       "    </tr>\n",
       "  </thead>\n",
       "  <tbody>\n",
       "    <tr>\n",
       "      <th>0</th>\n",
       "      <td>1196679</td>\n",
       "      <td>18467802</td>\n",
       "      <td>True</td>\n",
       "      <td>NaN</td>\n",
       "      <td>False</td>\n",
       "      <td>False</td>\n",
       "      <td>False</td>\n",
       "      <td>True</td>\n",
       "    </tr>\n",
       "    <tr>\n",
       "      <th>1</th>\n",
       "      <td>1188780</td>\n",
       "      <td>10799</td>\n",
       "      <td>True</td>\n",
       "      <td>NaN</td>\n",
       "      <td>False</td>\n",
       "      <td>False</td>\n",
       "      <td>False</td>\n",
       "      <td>True</td>\n",
       "    </tr>\n",
       "    <tr>\n",
       "      <th>2</th>\n",
       "      <td>1001879</td>\n",
       "      <td>13206828</td>\n",
       "      <td>True</td>\n",
       "      <td>NaN</td>\n",
       "      <td>False</td>\n",
       "      <td>False</td>\n",
       "      <td>False</td>\n",
       "      <td>True</td>\n",
       "    </tr>\n",
       "    <tr>\n",
       "      <th>3</th>\n",
       "      <td>1001879</td>\n",
       "      <td>13206900</td>\n",
       "      <td>True</td>\n",
       "      <td>NaN</td>\n",
       "      <td>False</td>\n",
       "      <td>False</td>\n",
       "      <td>False</td>\n",
       "      <td>True</td>\n",
       "    </tr>\n",
       "    <tr>\n",
       "      <th>4</th>\n",
       "      <td>1001879</td>\n",
       "      <td>13206760</td>\n",
       "      <td>True</td>\n",
       "      <td>NaN</td>\n",
       "      <td>False</td>\n",
       "      <td>False</td>\n",
       "      <td>False</td>\n",
       "      <td>True</td>\n",
       "    </tr>\n",
       "    <tr>\n",
       "      <th>...</th>\n",
       "      <td>...</td>\n",
       "      <td>...</td>\n",
       "      <td>...</td>\n",
       "      <td>...</td>\n",
       "      <td>...</td>\n",
       "      <td>...</td>\n",
       "      <td>...</td>\n",
       "      <td>...</td>\n",
       "    </tr>\n",
       "    <tr>\n",
       "      <th>1033001</th>\n",
       "      <td>1430681</td>\n",
       "      <td>17167166</td>\n",
       "      <td>False</td>\n",
       "      <td>0.447064</td>\n",
       "      <td>True</td>\n",
       "      <td>False</td>\n",
       "      <td>True</td>\n",
       "      <td>False</td>\n",
       "    </tr>\n",
       "    <tr>\n",
       "      <th>1033002</th>\n",
       "      <td>1430681</td>\n",
       "      <td>16096824</td>\n",
       "      <td>False</td>\n",
       "      <td>0.436814</td>\n",
       "      <td>True</td>\n",
       "      <td>False</td>\n",
       "      <td>True</td>\n",
       "      <td>False</td>\n",
       "    </tr>\n",
       "    <tr>\n",
       "      <th>1033003</th>\n",
       "      <td>1430681</td>\n",
       "      <td>17927395</td>\n",
       "      <td>False</td>\n",
       "      <td>0.436614</td>\n",
       "      <td>True</td>\n",
       "      <td>False</td>\n",
       "      <td>True</td>\n",
       "      <td>False</td>\n",
       "    </tr>\n",
       "    <tr>\n",
       "      <th>1033004</th>\n",
       "      <td>1430681</td>\n",
       "      <td>29056083</td>\n",
       "      <td>False</td>\n",
       "      <td>0.431703</td>\n",
       "      <td>True</td>\n",
       "      <td>False</td>\n",
       "      <td>True</td>\n",
       "      <td>False</td>\n",
       "    </tr>\n",
       "    <tr>\n",
       "      <th>1033005</th>\n",
       "      <td>1430681</td>\n",
       "      <td>20613470</td>\n",
       "      <td>False</td>\n",
       "      <td>0.429489</td>\n",
       "      <td>True</td>\n",
       "      <td>False</td>\n",
       "      <td>True</td>\n",
       "      <td>False</td>\n",
       "    </tr>\n",
       "  </tbody>\n",
       "</table>\n",
       "<p>1033006 rows × 8 columns</p>\n",
       "</div>"
      ],
      "text/plain": [
       "         user_id   item_id     gt     score     pr     tp     fp     fn\n",
       "0        1196679  18467802   True       NaN  False  False  False   True\n",
       "1        1188780     10799   True       NaN  False  False  False   True\n",
       "2        1001879  13206828   True       NaN  False  False  False   True\n",
       "3        1001879  13206900   True       NaN  False  False  False   True\n",
       "4        1001879  13206760   True       NaN  False  False  False   True\n",
       "...          ...       ...    ...       ...    ...    ...    ...    ...\n",
       "1033001  1430681  17167166  False  0.447064   True  False   True  False\n",
       "1033002  1430681  16096824  False  0.436814   True  False   True  False\n",
       "1033003  1430681  17927395  False  0.436614   True  False   True  False\n",
       "1033004  1430681  29056083  False  0.431703   True  False   True  False\n",
       "1033005  1430681  20613470  False  0.429489   True  False   True  False\n",
       "\n",
       "[1033006 rows x 8 columns]"
      ]
     },
     "execution_count": 99,
     "metadata": {},
     "output_type": "execute_result"
    }
   ],
   "source": [
    "events_recs_for_binary_metrics"
   ]
  },
  {
   "cell_type": "markdown",
   "id": "6c62978f-2bb3-4b66-b83d-5a60f31b29a0",
   "metadata": {},
   "source": [
    "## Задание\n",
    "Дополните код функции compute_cls_metrics для расчёта recall. Получите значения метрик precision@5, recall@5."
   ]
  },
  {
   "cell_type": "code",
   "execution_count": 100,
   "id": "baafbf15-e5ff-4e0a-a44b-12715fa1d919",
   "metadata": {},
   "outputs": [],
   "source": [
    "def compute_cls_metrics(events_recs_for_binary_metric):\n",
    "    \n",
    "    groupper = events_recs_for_binary_metric.groupby(\"user_id\")\n",
    "\n",
    "    # precision = tp / (tp + fp)\n",
    "    precision = groupper[\"tp\"].sum()/(groupper[\"tp\"].sum()+groupper[\"fp\"].sum())\n",
    "    precision = precision.fillna(0).mean()\n",
    "    \n",
    "    # recall = tp / (tp + fn)\n",
    "    recall = groupper[\"tp\"].sum()/(groupper[\"tp\"].sum()+groupper[\"fn\"].sum())\n",
    "    recall = recall.fillna(0).mean()\n",
    "\n",
    "    return precision, recall"
   ]
  },
  {
   "cell_type": "code",
   "execution_count": 101,
   "id": "67cf08f6-23a8-4ae9-9016-7868ece17390",
   "metadata": {},
   "outputs": [
    {
     "data": {
      "text/plain": [
       "(0.007629335125549608, 0.014047805206454458)"
      ]
     },
     "execution_count": 101,
     "metadata": {},
     "output_type": "execute_result"
    }
   ],
   "source": [
    "compute_cls_metrics(events_recs_for_binary_metrics) "
   ]
  },
  {
   "cell_type": "markdown",
   "id": "37aabe5c-ccd2-4d14-8376-f4ae514ed154",
   "metadata": {},
   "source": [
    "# Сецифичные метрики"
   ]
  },
  {
   "cell_type": "markdown",
   "id": "016af59b-79cf-4834-b08c-a35d1a2d64a4",
   "metadata": {},
   "source": [
    "## Задание 1 из 2. посчитайте покрытие по объектам согласно формуле"
   ]
  },
  {
   "cell_type": "markdown",
   "id": "4edac337-0501-4f8c-8ca5-6b802283f858",
   "metadata": {
    "id": "qPYJRJwVBI7n"
   },
   "source": [
    "Для рекомендаций, сохранённых в переменной als_recommendations, посчитайте покрытие по объектам согласно формуле выше. При этом используйте весь топ-100 рекомендаций."
   ]
  },
  {
   "cell_type": "code",
   "execution_count": 102,
   "id": "GwDBc5BSqT-2",
   "metadata": {
    "id": "GwDBc5BSqT-2"
   },
   "outputs": [
    {
     "data": {
      "text/plain": [
       "0.09341521980051717"
      ]
     },
     "execution_count": 102,
     "metadata": {},
     "output_type": "execute_result"
    }
   ],
   "source": [
    "als_recommendations[\"item_id\"].unique().shape[0] / items[\"item_id\"].unique().shape[0]"
   ]
  },
  {
   "cell_type": "code",
   "execution_count": 103,
   "id": "ada4c64a-b941-4bcd-89b7-1f9f414b0811",
   "metadata": {},
   "outputs": [
    {
     "data": {
      "text/plain": [
       "(43312,)"
      ]
     },
     "execution_count": 103,
     "metadata": {},
     "output_type": "execute_result"
    }
   ],
   "source": [
    "items[\"item_id\"].unique().shape"
   ]
  },
  {
   "cell_type": "markdown",
   "id": "43cafb89-851f-41d4-ae98-db42c5322a0c",
   "metadata": {},
   "source": [
    "## Задание 2 из 2. Посчитайте среднее Novelty@5 для als_recommendations"
   ]
  },
  {
   "cell_type": "code",
   "execution_count": 104,
   "id": "7345579d-4787-4cab-9ea6-1d91be836c60",
   "metadata": {},
   "outputs": [
    {
     "data": {
      "text/html": [
       "<div>\n",
       "<style scoped>\n",
       "    .dataframe tbody tr th:only-of-type {\n",
       "        vertical-align: middle;\n",
       "    }\n",
       "\n",
       "    .dataframe tbody tr th {\n",
       "        vertical-align: top;\n",
       "    }\n",
       "\n",
       "    .dataframe thead th {\n",
       "        text-align: right;\n",
       "    }\n",
       "</style>\n",
       "<table border=\"1\" class=\"dataframe\">\n",
       "  <thead>\n",
       "    <tr style=\"text-align: right;\">\n",
       "      <th></th>\n",
       "      <th>user_id</th>\n",
       "      <th>item_id</th>\n",
       "      <th>started_at</th>\n",
       "      <th>read_at</th>\n",
       "      <th>is_read</th>\n",
       "      <th>rating</th>\n",
       "      <th>is_reviewed</th>\n",
       "      <th>user_id_enc</th>\n",
       "      <th>item_id_enc</th>\n",
       "    </tr>\n",
       "  </thead>\n",
       "  <tbody>\n",
       "    <tr>\n",
       "      <th>0</th>\n",
       "      <td>1229180</td>\n",
       "      <td>22034</td>\n",
       "      <td>2015-07-12</td>\n",
       "      <td>2015-07-17</td>\n",
       "      <td>True</td>\n",
       "      <td>5</td>\n",
       "      <td>False</td>\n",
       "      <td>229180</td>\n",
       "      <td>2460</td>\n",
       "    </tr>\n",
       "    <tr>\n",
       "      <th>1</th>\n",
       "      <td>1229180</td>\n",
       "      <td>22318578</td>\n",
       "      <td>2015-06-07</td>\n",
       "      <td>2015-08-09</td>\n",
       "      <td>True</td>\n",
       "      <td>5</td>\n",
       "      <td>True</td>\n",
       "      <td>229180</td>\n",
       "      <td>38691</td>\n",
       "    </tr>\n",
       "    <tr>\n",
       "      <th>2</th>\n",
       "      <td>1229180</td>\n",
       "      <td>22551730</td>\n",
       "      <td>2015-06-24</td>\n",
       "      <td>2015-07-11</td>\n",
       "      <td>True</td>\n",
       "      <td>4</td>\n",
       "      <td>True</td>\n",
       "      <td>229180</td>\n",
       "      <td>38867</td>\n",
       "    </tr>\n",
       "    <tr>\n",
       "      <th>3</th>\n",
       "      <td>1229180</td>\n",
       "      <td>22816087</td>\n",
       "      <td>2015-09-27</td>\n",
       "      <td>2015-11-04</td>\n",
       "      <td>True</td>\n",
       "      <td>5</td>\n",
       "      <td>True</td>\n",
       "      <td>229180</td>\n",
       "      <td>39109</td>\n",
       "    </tr>\n",
       "    <tr>\n",
       "      <th>5</th>\n",
       "      <td>1229180</td>\n",
       "      <td>17910054</td>\n",
       "      <td>2015-03-04</td>\n",
       "      <td>2015-07-28</td>\n",
       "      <td>True</td>\n",
       "      <td>3</td>\n",
       "      <td>False</td>\n",
       "      <td>229180</td>\n",
       "      <td>35638</td>\n",
       "    </tr>\n",
       "    <tr>\n",
       "      <th>...</th>\n",
       "      <td>...</td>\n",
       "      <td>...</td>\n",
       "      <td>...</td>\n",
       "      <td>...</td>\n",
       "      <td>...</td>\n",
       "      <td>...</td>\n",
       "      <td>...</td>\n",
       "      <td>...</td>\n",
       "      <td>...</td>\n",
       "    </tr>\n",
       "    <tr>\n",
       "      <th>12914452</th>\n",
       "      <td>1364554</td>\n",
       "      <td>5297</td>\n",
       "      <td>2017-02-07</td>\n",
       "      <td>2017-02-26</td>\n",
       "      <td>True</td>\n",
       "      <td>5</td>\n",
       "      <td>False</td>\n",
       "      <td>364554</td>\n",
       "      <td>597</td>\n",
       "    </tr>\n",
       "    <tr>\n",
       "      <th>12914453</th>\n",
       "      <td>1364554</td>\n",
       "      <td>4900</td>\n",
       "      <td>2016-12-22</td>\n",
       "      <td>2016-12-29</td>\n",
       "      <td>True</td>\n",
       "      <td>2</td>\n",
       "      <td>False</td>\n",
       "      <td>364554</td>\n",
       "      <td>517</td>\n",
       "    </tr>\n",
       "    <tr>\n",
       "      <th>12914454</th>\n",
       "      <td>1364554</td>\n",
       "      <td>14836</td>\n",
       "      <td>2016-11-29</td>\n",
       "      <td>2017-01-15</td>\n",
       "      <td>True</td>\n",
       "      <td>3</td>\n",
       "      <td>False</td>\n",
       "      <td>364554</td>\n",
       "      <td>1828</td>\n",
       "    </tr>\n",
       "    <tr>\n",
       "      <th>12914456</th>\n",
       "      <td>1297089</td>\n",
       "      <td>10210</td>\n",
       "      <td>2012-06-05</td>\n",
       "      <td>2013-01-17</td>\n",
       "      <td>True</td>\n",
       "      <td>5</td>\n",
       "      <td>False</td>\n",
       "      <td>297089</td>\n",
       "      <td>1196</td>\n",
       "    </tr>\n",
       "    <tr>\n",
       "      <th>12914457</th>\n",
       "      <td>1297089</td>\n",
       "      <td>99561</td>\n",
       "      <td>2012-07-21</td>\n",
       "      <td>2012-07-22</td>\n",
       "      <td>True</td>\n",
       "      <td>4</td>\n",
       "      <td>False</td>\n",
       "      <td>297089</td>\n",
       "      <td>6942</td>\n",
       "    </tr>\n",
       "  </tbody>\n",
       "</table>\n",
       "<p>11326532 rows × 9 columns</p>\n",
       "</div>"
      ],
      "text/plain": [
       "          user_id   item_id  started_at     read_at  is_read  rating  \\\n",
       "0         1229180     22034  2015-07-12  2015-07-17     True       5   \n",
       "1         1229180  22318578  2015-06-07  2015-08-09     True       5   \n",
       "2         1229180  22551730  2015-06-24  2015-07-11     True       4   \n",
       "3         1229180  22816087  2015-09-27  2015-11-04     True       5   \n",
       "5         1229180  17910054  2015-03-04  2015-07-28     True       3   \n",
       "...           ...       ...         ...         ...      ...     ...   \n",
       "12914452  1364554      5297  2017-02-07  2017-02-26     True       5   \n",
       "12914453  1364554      4900  2016-12-22  2016-12-29     True       2   \n",
       "12914454  1364554     14836  2016-11-29  2017-01-15     True       3   \n",
       "12914456  1297089     10210  2012-06-05  2013-01-17     True       5   \n",
       "12914457  1297089     99561  2012-07-21  2012-07-22     True       4   \n",
       "\n",
       "          is_reviewed  user_id_enc  item_id_enc  \n",
       "0               False       229180         2460  \n",
       "1                True       229180        38691  \n",
       "2                True       229180        38867  \n",
       "3                True       229180        39109  \n",
       "5               False       229180        35638  \n",
       "...               ...          ...          ...  \n",
       "12914452        False       364554          597  \n",
       "12914453        False       364554          517  \n",
       "12914454        False       364554         1828  \n",
       "12914456        False       297089         1196  \n",
       "12914457        False       297089         6942  \n",
       "\n",
       "[11326532 rows x 9 columns]"
      ]
     },
     "execution_count": 104,
     "metadata": {},
     "output_type": "execute_result"
    }
   ],
   "source": [
    "events_train"
   ]
  },
  {
   "cell_type": "code",
   "execution_count": 105,
   "id": "4bd73fb6-ba60-4f87-94e0-247bae001da6",
   "metadata": {},
   "outputs": [
    {
     "name": "stderr",
     "output_type": "stream",
     "text": [
      "/tmp/ipykernel_2135/2769298883.py:2: SettingWithCopyWarning: \n",
      "A value is trying to be set on a copy of a slice from a DataFrame.\n",
      "Try using .loc[row_indexer,col_indexer] = value instead\n",
      "\n",
      "See the caveats in the documentation: https://pandas.pydata.org/pandas-docs/stable/user_guide/indexing.html#returning-a-view-versus-a-copy\n",
      "  events_train[\"read\"] = True\n"
     ]
    },
    {
     "data": {
      "text/plain": [
       "0.6070102767238936"
      ]
     },
     "execution_count": 105,
     "metadata": {},
     "output_type": "execute_result"
    }
   ],
   "source": [
    "# разметим каждую рекомендацию признаком read\n",
    "events_train[\"read\"] = True\n",
    "als_recommendations = als_recommendations.merge(events_train[[\"user_id\", \"item_id\", \"read\"]], on=[\"user_id\", \"item_id\"], how=\"left\")\n",
    "als_recommendations[\"read\"] = als_recommendations[\"read\"].fillna(False).astype(\"bool\")\n",
    "\n",
    "# проставим ранги\n",
    "als_recommendations = als_recommendations.sort_values(by=[\"user_id\", \"score\"], ascending=False)\n",
    "als_recommendations[\"rank\"] = als_recommendations.groupby(\"user_id\").cumcount() + 1\n",
    "\n",
    "# посчитаем novelty по пользователям\n",
    "novelty_5 = (1-als_recommendations.query(\"rank <= 5\").groupby(\"user_id\")[\"read\"].mean())\n",
    "\n",
    "# посчитаем средний novelty\n",
    "novelty_5.mean()"
   ]
  },
  {
   "cell_type": "markdown",
   "id": "3d595872-6d31-4199-bb5a-74c25f9ff813",
   "metadata": {},
   "source": [
    "# Двухстадийный подход"
   ]
  },
  {
   "cell_type": "markdown",
   "id": "0ef0e4b0-f102-46c3-adb3-42debe3a0f38",
   "metadata": {},
   "source": [
    "## Задание 1 из 6"
   ]
  },
  {
   "cell_type": "code",
   "execution_count": 89,
   "id": "d45626da-16bd-4c72-a14f-3c99ee3d062e",
   "metadata": {},
   "outputs": [],
   "source": [
    "import logging\n",
    "\n",
    "import matplotlib.pyplot as plt\n",
    "import numpy as np\n",
    "import pandas as pd\n",
    "import seaborn as sns\n",
    "import datetime"
   ]
  },
  {
   "cell_type": "code",
   "execution_count": 90,
   "id": "85825a49-2aef-4df4-b2ae-37ca0cabb0e3",
   "metadata": {},
   "outputs": [],
   "source": [
    "events_train = pd.read_parquet(\"intermediate_data/events_train.parquet\")\n",
    "events_test = pd.read_parquet(\"intermediate_data/events_test.parquet\")"
   ]
  },
  {
   "cell_type": "code",
   "execution_count": 91,
   "id": "6f843b50-c57c-4907-adfc-51963d142ac2",
   "metadata": {},
   "outputs": [],
   "source": [
    "# задаём точку разбиения\n",
    "split_date_for_labels = pd.to_datetime(\"2017-09-15\").date()\n",
    "\n",
    "split_date_for_labels_idx = events_test[\"started_at\"] < split_date_for_labels\n",
    "events_labels = events_test[split_date_for_labels_idx].copy()\n",
    "events_test_2 = events_test[~split_date_for_labels_idx].copy()"
   ]
  },
  {
   "cell_type": "markdown",
   "id": "8f013f21-f23a-4309-a13b-217bd8ec6500",
   "metadata": {},
   "source": [
    "Сколько уникальных пользователей есть в events_labels?"
   ]
  },
  {
   "cell_type": "code",
   "execution_count": 92,
   "id": "f3df5efe-53a9-4301-8021-d4a1ca1bb960",
   "metadata": {},
   "outputs": [
    {
     "data": {
      "text/plain": [
       "(99915,)"
      ]
     },
     "execution_count": 92,
     "metadata": {},
     "output_type": "execute_result"
    }
   ],
   "source": [
    "events_labels[\"user_id\"].unique().shape"
   ]
  },
  {
   "cell_type": "markdown",
   "id": "7478a13d-d216-4f7e-8005-be2579a5d7d2",
   "metadata": {},
   "source": [
    "## Задание 2 из 6. Объедините имеющихся кандидатов по совпадению user_id, item_id в один список."
   ]
  },
  {
   "cell_type": "code",
   "execution_count": null,
   "id": "e8dc83b1-5b5c-41be-af96-fad2908571cd",
   "metadata": {},
   "outputs": [],
   "source": [
    "# загружаем рекомендации от двух базовых генераторов\n",
    "als_recommendations = pd.read_parquet(\"candidates/training/als_recommendations.parquet\")\n",
    "content_recommendations = pd.read_parquet(\"candidates/training/content_recommendations.parquet\")\n",
    "\n",
    "candidates = pd.merge(\n",
    "    als_recommendations[[\"user_id\", \"item_id\", \"score\"]].rename(columns={\"score\": \"als_score\"}),\n",
    "    content_recommendations[[\"user_id\", \"item_id\", \"score\"]].rename(columns={\"score\": \"cnt_score\"}),\n",
    "    on=[\"user_id\", \"item_id\"],\n",
    "    how=\"outer\")"
   ]
  },
  {
   "cell_type": "code",
   "execution_count": null,
   "id": "3b644ab4-e037-4b9d-8200-c652b6f98837",
   "metadata": {},
   "outputs": [],
   "source": [
    "candidates.shape"
   ]
  },
  {
   "cell_type": "code",
   "execution_count": null,
   "id": "5d5c32c2-03ba-4672-aefb-0422e62f3b73",
   "metadata": {},
   "outputs": [],
   "source": [
    "del als_recommendations\n",
    "del content_recommendations"
   ]
  },
  {
   "cell_type": "markdown",
   "id": "2f9cba44-288a-4160-9abb-de0d3435f7ff",
   "metadata": {},
   "source": [
    "## Задание 3 из 6"
   ]
  },
  {
   "cell_type": "markdown",
   "id": "5e88a3ca-ceff-42b6-9858-b0e79936303e",
   "metadata": {},
   "source": [
    "В candidates добавьте колонку target со значениями:\n",
    "1 для тех item_id, которые пользователь прочитал (положительный пример).\n",
    "0 — для всех остальных (негативный пример).\n",
    "В candidates_for_train отберите все положительные примеры, а также не менее четырёх негативных примеров для каждого пользователя в положительных примерах."
   ]
  },
  {
   "cell_type": "code",
   "execution_count": null,
   "id": "564f93a7-4807-4c03-a3e8-7941bc4921b0",
   "metadata": {},
   "outputs": [],
   "source": [
    "# добавляем таргет к кандидатам со значением:\n",
    "# — 1 для тех item_id, которые пользователь прочитал\n",
    "# — 0, для всех остальных \n",
    "\n",
    "events_labels[\"target\"] = 1\n",
    "candidates = candidates.merge(events_labels[[\"user_id\", \"item_id\", \"target\"]], \n",
    "                              on=[\"user_id\", \"item_id\"], how=\"left\")\n",
    "candidates[\"target\"] = candidates[\"target\"].fillna(0).astype(\"int\")\n",
    "\n",
    "# в кандидатах оставляем только тех пользователей, у которых есть хотя бы один положительный таргет\n",
    "candidates_to_sample = candidates.groupby(\"user_id\").filter(lambda x: x[\"target\"].sum() > 0)\n",
    "\n",
    "# для каждого пользователя оставляем только 4 негативных примера\n",
    "negatives_per_user = 4\n",
    "candidates_for_train = pd.concat([\n",
    "    candidates_to_sample.query(\"target == 1\"),\n",
    "    candidates_to_sample.query(\"target == 0\") \\\n",
    "        .groupby(\"user_id\") \\\n",
    "        .apply(lambda x: x.sample(negatives_per_user, random_state=0))\n",
    "    ])"
   ]
  },
  {
   "cell_type": "code",
   "execution_count": null,
   "id": "5b2d6253-61d5-4034-87ac-66b9d1e6669d",
   "metadata": {},
   "outputs": [],
   "source": [
    "del candidates"
   ]
  },
  {
   "cell_type": "markdown",
   "id": "a97513ac-98ac-4fda-9a6f-0bd342d358c8",
   "metadata": {},
   "source": [
    "Обучение модели"
   ]
  },
  {
   "cell_type": "code",
   "execution_count": null,
   "id": "ffa3b24e-4b6b-42bd-a48a-dd40b11da548",
   "metadata": {},
   "outputs": [],
   "source": [
    "from catboost import CatBoostClassifier, Pool\n",
    "\n",
    "# задаём имена колонок признаков и таргета\n",
    "features = ['als_score', 'cnt_score']\n",
    "target = 'target'\n",
    "\n",
    "# Create the Pool object\n",
    "train_data = Pool(\n",
    "    data=candidates_for_train[features], \n",
    "    label=candidates_for_train[target])\n",
    "\n",
    "# инициализируем модель CatBoostClassifier\n",
    "cb_model = CatBoostClassifier(\n",
    "    iterations=1000,\n",
    "    learning_rate=0.1,\n",
    "    depth=6,\n",
    "    loss_function='Logloss',\n",
    "    verbose=100,\n",
    "    random_seed=0\n",
    ")\n",
    "\n",
    "# тренируем модель\n",
    "cb_model.fit(train_data, plot=True)"
   ]
  },
  {
   "cell_type": "code",
   "execution_count": null,
   "id": "6b83d0c2-b251-4950-828d-f37088104127",
   "metadata": {},
   "outputs": [],
   "source": [
    "del train_data"
   ]
  },
  {
   "cell_type": "markdown",
   "id": "b72fd6df-141c-4b0a-a075-a871fc43cab3",
   "metadata": {},
   "source": [
    "## Задание 4 из 6"
   ]
  },
  {
   "cell_type": "code",
   "execution_count": null,
   "id": "fe400549-8971-4f4d-87e1-0c58178016dd",
   "metadata": {},
   "outputs": [],
   "source": [
    "# загружаем рекомендации от двух базовых генераторов\n",
    "als_recommendations_2 = pd.read_parquet(\"candidates/inference/als_recommendations.parquet\")\n",
    "content_recommendations_2 = pd.read_parquet(\"candidates/inference/content_recommendations.parquet\")"
   ]
  },
  {
   "cell_type": "code",
   "execution_count": null,
   "id": "acdde57b-3eb5-4a08-bb87-d3757f72fa6f",
   "metadata": {},
   "outputs": [],
   "source": [
    "candidates_to_rank = pd.merge(\n",
    "    als_recommendations_2[[\"user_id\", \"item_id\", \"score\"]].rename(columns={\"score\": \"als_score\"}),\n",
    "    content_recommendations_2[[\"user_id\", \"item_id\", \"score\"]].rename(columns={\"score\": \"cnt_score\"}),\n",
    "    on=[\"user_id\", \"item_id\"],\n",
    "    how=\"outer\")\n",
    "\n",
    "# оставляем только тех пользователей, что есть в тестовой выборке, для экономии ресурсов\n",
    "candidates_to_rank = candidates_to_rank[candidates_to_rank[\"user_id\"].isin(events_test_2[\"user_id\"].drop_duplicates())]\n",
    "print(len(candidates_to_rank))"
   ]
  },
  {
   "cell_type": "markdown",
   "id": "f203ed7f-fe25-4e64-a697-d765b115c22c",
   "metadata": {},
   "source": [
    "## Задание 5 из 6"
   ]
  },
  {
   "cell_type": "code",
   "execution_count": null,
   "id": "958dc919-e07e-4b3a-9238-bf9cc2379884",
   "metadata": {},
   "outputs": [],
   "source": [
    "inference_data = Pool(data=candidates_to_rank[features])\n",
    "predictions = cb_model.predict_proba(inference_data)\n",
    "\n",
    "candidates_to_rank[\"cb_score\"] = predictions[:, 1]\n",
    "\n",
    "# для каждого пользователя проставляем rank, начиная с 1 — это максимальный cb_score\n",
    "candidates_to_rank = candidates_to_rank.sort_values([\"user_id\", \"cb_score\"], ascending=[True, False])\n",
    "# Проставляем ранги для каждого user_id, начиная с 1 (наивысший cb_score)\n",
    "candidates_to_rank[\"rank\"] = candidates_to_rank.groupby(\"user_id\").cumcount() + 1\n",
    "\n",
    "# Оставляем только топ-N рекомендаций на каждого пользователя\n",
    "max_recommendations_per_user = 100\n",
    "final_recommendations = candidates_to_rank[candidates_to_rank[\"rank\"] <= max_recommendations_per_user]"
   ]
  },
  {
   "cell_type": "code",
   "execution_count": null,
   "id": "438a19d8-f8cd-4f17-bdff-f3c0fe1176b1",
   "metadata": {},
   "outputs": [],
   "source": [
    "final_recommendations.shape"
   ]
  },
  {
   "cell_type": "markdown",
   "id": "51a9440b-7d32-4f04-be61-2cc1064c57f0",
   "metadata": {},
   "source": [
    "## Задание 6 из 6"
   ]
  },
  {
   "cell_type": "code",
   "execution_count": null,
   "id": "32369285-2d0b-4a1b-90a2-b96657c98b58",
   "metadata": {},
   "outputs": [],
   "source": [
    "def process_events_recs_for_binary_metrics(events_train, events_test, recs, top_k=None):\n",
    "\n",
    "    \"\"\"\n",
    "    размечает пары <user_id, item_id> для общего множества пользователей признаками\n",
    "    - gt (ground truth)\n",
    "    - pr (prediction)\n",
    "    top_k: расчёт ведётся только для top k-рекомендаций\n",
    "    \"\"\"\n",
    "\n",
    "    events_test[\"gt\"] = True\n",
    "    common_users = set(events_test[\"user_id\"]) & set(recs[\"user_id\"])\n",
    "\n",
    "    print(f\"Common users: {len(common_users)}\")\n",
    "    \n",
    "    events_for_common_users = events_test[events_test[\"user_id\"].isin(common_users)].copy()\n",
    "    recs_for_common_users = recs[recs[\"user_id\"].isin(common_users)].copy()\n",
    "\n",
    "    recs_for_common_users = recs_for_common_users.sort_values([\"user_id\", \"score\"], ascending=[True, False])\n",
    "\n",
    "    # оставляет только те item_id, которые были в events_train, \n",
    "    # т. к. модель не имела никакой возможности давать рекомендации для новых айтемов\n",
    "    events_for_common_users = events_for_common_users[events_for_common_users[\"item_id\"].isin(events_train[\"item_id\"].unique())]\n",
    "\n",
    "    if top_k is not None:\n",
    "        recs_for_common_users = recs_for_common_users.groupby(\"user_id\").head(top_k)\n",
    "    \n",
    "    events_recs_common = events_for_common_users[[\"user_id\", \"item_id\", \"gt\"]].merge(\n",
    "        recs_for_common_users[[\"user_id\", \"item_id\", \"score\"]], \n",
    "        on=[\"user_id\", \"item_id\"], how=\"outer\")    \n",
    "\n",
    "    events_recs_common[\"gt\"] = events_recs_common[\"gt\"].fillna(False)\n",
    "    events_recs_common[\"pr\"] = ~events_recs_common[\"score\"].isnull()\n",
    "    \n",
    "    events_recs_common[\"tp\"] = events_recs_common[\"gt\"] & events_recs_common[\"pr\"]\n",
    "    events_recs_common[\"fp\"] = ~events_recs_common[\"gt\"] & events_recs_common[\"pr\"]\n",
    "    events_recs_common[\"fn\"] = events_recs_common[\"gt\"] & ~events_recs_common[\"pr\"]\n",
    " \n",
    "    return events_recs_common\n",
    "\n",
    "def compute_cls_metrics(events_recs_for_binary_metric):\n",
    "    \n",
    "    groupper = events_recs_for_binary_metric.groupby(\"user_id\")\n",
    "\n",
    "    # precision = tp / (tp + fp)\n",
    "    precision = groupper[\"tp\"].sum()/(groupper[\"tp\"].sum()+groupper[\"fp\"].sum())\n",
    "    precision = precision.fillna(0).mean()\n",
    "    \n",
    "    # recall = tp / (tp + fn)\n",
    "    recall = groupper[\"tp\"].sum()/(groupper[\"tp\"].sum()+groupper[\"fn\"].sum())\n",
    "    recall = recall.fillna(0).mean()\n",
    "\n",
    "    return precision, recall"
   ]
  },
  {
   "cell_type": "markdown",
   "id": "418cd6f8-c385-4a6e-a4a5-8e19022ac1a6",
   "metadata": {},
   "source": [
    "Посчитайте метрики recall и precision.\n",
    "Используйте полученные рекомендации final_recommendations, отложенную тестовую выборку events_test_2, созданные в уроке «Валидация» предыдущей темы.\n",
    "А также функции process_events_recs_for_binary_metrics и compute_cls_metrics."
   ]
  },
  {
   "cell_type": "code",
   "execution_count": null,
   "id": "59e5c839-a4de-4034-97ad-4c87b5c3780e",
   "metadata": {},
   "outputs": [],
   "source": [
    "events_inference = pd.concat([events_train, events_labels])\n",
    "\n",
    "cb_events_recs_for_binary_metrics_5 = process_events_recs_for_binary_metrics(\n",
    "    events_inference,\n",
    "    events_test_2,\n",
    "    final_recommendations.rename(columns={\"cb_score\": \"score\"}), \n",
    "    top_k=5)\n",
    "\n",
    "cb_precision_5, cb_recall_5 = compute_cls_metrics(cb_events_recs_for_binary_metrics_5)\n",
    "\n",
    "print(f\"precision: {cb_precision_5:.3f}, recall: {cb_recall_5:.3f}\")"
   ]
  },
  {
   "cell_type": "markdown",
   "id": "59953c1c-be91-4011-bd27-e8c4e5e6863e",
   "metadata": {},
   "source": [
    "# Как использовать признаки для улучшения рекомендаций"
   ]
  },
  {
   "cell_type": "markdown",
   "id": "e6323d3d-74a7-41a2-9579-d8fa3be9e306",
   "metadata": {},
   "source": [
    "## Задание 1 из 6. Признаки объектов"
   ]
  },
  {
   "cell_type": "code",
   "execution_count": null,
   "id": "0caacf83-5b18-42d7-b404-496c3b0eaa71",
   "metadata": {},
   "outputs": [],
   "source": [
    "import logging\n",
    "\n",
    "import matplotlib.pyplot as plt\n",
    "import numpy as np\n",
    "import pandas as pd\n",
    "import seaborn as sns\n",
    "import datetime"
   ]
  },
  {
   "cell_type": "code",
   "execution_count": null,
   "id": "034f6c1f-19a5-461b-892e-ae4cc3be0ebf",
   "metadata": {},
   "outputs": [],
   "source": [
    "items = pd.read_parquet(\"items.parquet\")"
   ]
  },
  {
   "cell_type": "code",
   "execution_count": null,
   "id": "0be8c269-a2ac-4cee-b016-850f3b23612e",
   "metadata": {},
   "outputs": [],
   "source": [
    "items[\"age\"] = 2018 - items[\"publication_year\"]\n",
    "invalid_age_idx = items[\"age\"] < 0\n",
    "items.loc[invalid_age_idx, \"age\"] = np.nan\n",
    "items[\"age\"] = items[\"age\"].astype(\"float\")\n",
    "\n",
    "candidates_for_train = candidates_for_train.merge(items[[\"item_id\", \"age\", \"average_rating\"]], on=\"item_id\", how=\"left\")\n",
    "candidates_to_rank = candidates_to_rank.merge(items[[\"item_id\", \"age\", \"average_rating\"]], on=\"item_id\", how=\"left\")"
   ]
  },
  {
   "cell_type": "code",
   "execution_count": null,
   "id": "338a9586-d06f-44d4-9f5b-62461ebd9f33",
   "metadata": {},
   "outputs": [],
   "source": [
    "candidates_to_rank[\"age\"].median()"
   ]
  },
  {
   "cell_type": "markdown",
   "id": "90d8dca1-f64f-464c-ba6e-8eac945bf911",
   "metadata": {},
   "source": [
    "## Задание 2 из 6. Признаки пользователей"
   ]
  },
  {
   "cell_type": "code",
   "execution_count": null,
   "id": "32e67eb3-8f47-446a-8aa4-06c08d703fb0",
   "metadata": {},
   "outputs": [],
   "source": [
    "def get_user_features(events):\n",
    "    \"\"\"Считает пользовательские признаки\"\"\"\n",
    "    \n",
    "    user_features = events.groupby(\"user_id\").agg(\n",
    "        reading_years=(\"started_at\", lambda x: (x.max() - x.min()).days / 365.25),\n",
    "        books_read=(\"item_id\", \"nunique\"),  # количество уникальных книг\n",
    "        rating_avg=(\"rating\", \"mean\"),\n",
    "        rating_std=(\"rating\", \"std\")\n",
    "    )\n",
    "    \n",
    "    user_features[\"books_per_year\"] = user_features[\"books_read\"] / user_features[\"reading_years\"]\n",
    "    \n",
    "    return user_features\n",
    "\n",
    "\n",
    "# Вычисление признаков для тренировочной выборки\n",
    "user_features_for_train = get_user_features(events_train)\n",
    "candidates_for_train = candidates_for_train.merge(user_features_for_train, on=\"user_id\", how=\"left\")\n",
    "\n",
    "# Подготовка событий для инференса\n",
    "events_inference = pd.concat([events_train, events_labels])\n",
    "events_inference = events_inference[events_inference[\"user_id\"].isin(events_test[\"user_id\"].drop_duplicates())]\n",
    "\n",
    "# Вычисление признаков для ранжирования (инференса)\n",
    "user_features_for_ranking = get_user_features(events_inference)\n",
    "candidates_to_rank = candidates_to_rank.merge(user_features_for_ranking, on=\"user_id\", how=\"left\")"
   ]
  },
  {
   "cell_type": "code",
   "execution_count": null,
   "id": "bd637065-e8c6-493b-9275-4da62428e4ba",
   "metadata": {},
   "outputs": [],
   "source": [
    "candidates_to_rank"
   ]
  },
  {
   "cell_type": "code",
   "execution_count": null,
   "id": "1d14cce7-2516-4582-a921-3539d546373c",
   "metadata": {},
   "outputs": [],
   "source": [
    "candidates_to_rank[\"books_read\"].median()"
   ]
  },
  {
   "cell_type": "markdown",
   "id": "9a74641d-998a-4261-81b6-a951a0cb8a7c",
   "metadata": {},
   "source": [
    "## Задание 3 из 6. Парные признаки"
   ]
  },
  {
   "cell_type": "code",
   "execution_count": null,
   "id": "00a7be20-e7e1-41ae-b704-c8d32950af23",
   "metadata": {},
   "outputs": [],
   "source": [
    "genres = pd.read_parquet(\"intermediate_data/genres.parquet\")"
   ]
  },
  {
   "cell_type": "code",
   "execution_count": null,
   "id": "76a73b3c-30b8-4b49-857b-d494abe449d3",
   "metadata": {},
   "outputs": [],
   "source": [
    "# Определяем индексы топ-10 жанров и всех остальных\n",
    "genres_top_k = 10\n",
    "genres_top_idx = genres.sort_values(\"votes\", ascending=False).head(genres_top_k).index\n",
    "genres_others_idx = list(set(genres.index) - set(genres_top_idx))\n",
    "\n",
    "# Формируем названия колонок для жанров\n",
    "genres_top_columns = [f\"genre_{id}\" for id in genres_top_idx]\n",
    "genres_others_column = \"genre_others\"\n",
    "genre_columns = genres_top_columns + [genres_others_column]\n",
    "\n",
    "# Составляем таблицу принадлежности книг к жанрам (жанровые веса для каждой книги)\n",
    "item_genres = (\n",
    "    pd.concat([\n",
    "        # топ жанров\n",
    "        pd.DataFrame(all_items_genres_csr[:, genres_top_idx].toarray(), columns=genres_top_columns),\n",
    "        # все остальные жанры объединяем в один столбец\n",
    "        pd.DataFrame(all_items_genres_csr[:, genres_others_idx].sum(axis=1), columns=[genres_others_column])\n",
    "    ], axis=1)\n",
    "    .reset_index()\n",
    "    .rename(columns={\"index\": \"item_id_enc\"})\n",
    ")\n",
    "\n",
    "# Объединяем информацию принадлежности книг к жанрам с основной таблицей items\n",
    "items = items.merge(item_genres, on=\"item_id_enc\", how=\"left\")\n",
    "\n",
    "# Функция, считающая средние жанровые предпочтения пользователя\n",
    "def get_user_genres(events, items, item_genre_columns):\n",
    "    user_genres = (\n",
    "        events\n",
    "        .merge(items[[\"item_id\"] + item_genre_columns], on=\"item_id\", how=\"left\")\n",
    "        .groupby(\"user_id\")[item_genre_columns].mean()\n",
    "    )\n",
    "    return user_genres\n",
    "\n",
    "# Для train выборки\n",
    "user_genres_for_train = get_user_genres(events_train, items, genre_columns)\n",
    "candidates_for_train = candidates_for_train.merge(user_genres_for_train, on=\"user_id\", how=\"left\")\n",
    "\n",
    "# Для inference выборки\n",
    "user_genres_for_ranking = get_user_genres(events_inference, items, genre_columns)\n",
    "candidates_to_rank = candidates_to_rank.merge(user_genres_for_ranking, on=\"user_id\", how=\"left\")\n"
   ]
  },
  {
   "cell_type": "code",
   "execution_count": null,
   "id": "9c642545-c9d1-44e1-a04f-73440516ff86",
   "metadata": {},
   "outputs": [],
   "source": []
  },
  {
   "cell_type": "code",
   "execution_count": 6,
   "id": "feb6df1e-c137-426e-b575-9949f0519067",
   "metadata": {},
   "outputs": [],
   "source": [
    "import pandas as pd\n",
    "top_recs = pd.read_parquet(\"top_recs_fix.parquet\")\n",
    "als_recommendations = pd.read_parquet(\"als_recommendations.parquet\")"
   ]
  },
  {
   "cell_type": "code",
   "execution_count": 10,
   "id": "6875d326-5ea0-43f5-8cb1-df63439e49aa",
   "metadata": {},
   "outputs": [],
   "source": [
    "top_recs = top_recs.rename(columns={\"users\": \"user_id\"})"
   ]
  },
  {
   "cell_type": "code",
   "execution_count": 12,
   "id": "8912d9b5-56e4-4d85-acf4-539c10c22b3c",
   "metadata": {},
   "outputs": [],
   "source": [
    "top_recs.to_parquet(\"top_recs_fix.parquet\")"
   ]
  },
  {
   "cell_type": "code",
   "execution_count": 13,
   "id": "0e5e0131-68c3-4b25-9b1b-4a70ccc16c90",
   "metadata": {},
   "outputs": [
    {
     "data": {
      "text/html": [
       "<div>\n",
       "<style scoped>\n",
       "    .dataframe tbody tr th:only-of-type {\n",
       "        vertical-align: middle;\n",
       "    }\n",
       "\n",
       "    .dataframe tbody tr th {\n",
       "        vertical-align: top;\n",
       "    }\n",
       "\n",
       "    .dataframe thead th {\n",
       "        text-align: right;\n",
       "    }\n",
       "</style>\n",
       "<table border=\"1\" class=\"dataframe\">\n",
       "  <thead>\n",
       "    <tr style=\"text-align: right;\">\n",
       "      <th></th>\n",
       "      <th>item_id</th>\n",
       "      <th>user_id</th>\n",
       "      <th>avg_rating</th>\n",
       "      <th>popularity_weighted</th>\n",
       "      <th>author</th>\n",
       "      <th>title</th>\n",
       "      <th>genre_and_votes</th>\n",
       "      <th>publication_year</th>\n",
       "      <th>score</th>\n",
       "      <th>rank</th>\n",
       "    </tr>\n",
       "  </thead>\n",
       "  <tbody>\n",
       "    <tr>\n",
       "      <th>0</th>\n",
       "      <td>22557272</td>\n",
       "      <td>40690</td>\n",
       "      <td>3.788965</td>\n",
       "      <td>154173.0</td>\n",
       "      <td>Paula Hawkins</td>\n",
       "      <td>The Girl on the Train</td>\n",
       "      <td>{'Fiction': 9793, 'Mystery': 9190, 'Thriller':...</td>\n",
       "      <td>2015</td>\n",
       "      <td>1.000000</td>\n",
       "      <td>1</td>\n",
       "    </tr>\n",
       "    <tr>\n",
       "      <th>1</th>\n",
       "      <td>29056083</td>\n",
       "      <td>25785</td>\n",
       "      <td>3.801784</td>\n",
       "      <td>98029.0</td>\n",
       "      <td>John Tiffany, Jack Thorne, J.K. Rowling</td>\n",
       "      <td>Harry Potter and the Cursed Child - Parts One ...</td>\n",
       "      <td>{'Fantasy': 14466, 'Fiction': 4232, 'Young Adu...</td>\n",
       "      <td>2016</td>\n",
       "      <td>0.500000</td>\n",
       "      <td>2</td>\n",
       "    </tr>\n",
       "    <tr>\n",
       "      <th>2</th>\n",
       "      <td>18007564</td>\n",
       "      <td>20207</td>\n",
       "      <td>4.321275</td>\n",
       "      <td>87320.0</td>\n",
       "      <td>Andy Weir</td>\n",
       "      <td>The Martian</td>\n",
       "      <td>{'Science Fiction': 11966, 'Fiction': 8430}</td>\n",
       "      <td>2014</td>\n",
       "      <td>0.333333</td>\n",
       "      <td>3</td>\n",
       "    </tr>\n",
       "    <tr>\n",
       "      <th>3</th>\n",
       "      <td>18143977</td>\n",
       "      <td>19462</td>\n",
       "      <td>4.290669</td>\n",
       "      <td>83505.0</td>\n",
       "      <td>Anthony Doerr</td>\n",
       "      <td>All the Light We Cannot See</td>\n",
       "      <td>{'Historical-Historical Fiction': 13679, 'Fict...</td>\n",
       "      <td>2014</td>\n",
       "      <td>0.250000</td>\n",
       "      <td>4</td>\n",
       "    </tr>\n",
       "    <tr>\n",
       "      <th>4</th>\n",
       "      <td>16096824</td>\n",
       "      <td>16770</td>\n",
       "      <td>4.301014</td>\n",
       "      <td>72128.0</td>\n",
       "      <td>Sarah J. Maas</td>\n",
       "      <td>A Court of Thorns and Roses (A Court of Thorns...</td>\n",
       "      <td>{'Fantasy': 14326, 'Young Adult': 4662, 'Roman...</td>\n",
       "      <td>2015</td>\n",
       "      <td>0.200000</td>\n",
       "      <td>5</td>\n",
       "    </tr>\n",
       "    <tr>\n",
       "      <th>...</th>\n",
       "      <td>...</td>\n",
       "      <td>...</td>\n",
       "      <td>...</td>\n",
       "      <td>...</td>\n",
       "      <td>...</td>\n",
       "      <td>...</td>\n",
       "      <td>...</td>\n",
       "      <td>...</td>\n",
       "      <td>...</td>\n",
       "      <td>...</td>\n",
       "    </tr>\n",
       "    <tr>\n",
       "      <th>95</th>\n",
       "      <td>15704307</td>\n",
       "      <td>5322</td>\n",
       "      <td>4.410936</td>\n",
       "      <td>23475.0</td>\n",
       "      <td>Brian K. Vaughan, Fiona Staples</td>\n",
       "      <td>Saga, Vol. 1 (Saga, #1)</td>\n",
       "      <td>{'Sequential Art-Graphic Novels': 7803, 'Seque...</td>\n",
       "      <td>2012</td>\n",
       "      <td>0.010417</td>\n",
       "      <td>96</td>\n",
       "    </tr>\n",
       "    <tr>\n",
       "      <th>96</th>\n",
       "      <td>22318578</td>\n",
       "      <td>6451</td>\n",
       "      <td>3.626104</td>\n",
       "      <td>23392.0</td>\n",
       "      <td>Marie Kondō, Cathy Hirano</td>\n",
       "      <td>The Life-Changing Magic of Tidying Up: The Jap...</td>\n",
       "      <td>{'Nonfiction': 6896, 'Self Help': 2846, 'Audio...</td>\n",
       "      <td>2014</td>\n",
       "      <td>0.010309</td>\n",
       "      <td>97</td>\n",
       "    </tr>\n",
       "    <tr>\n",
       "      <th>97</th>\n",
       "      <td>17378508</td>\n",
       "      <td>5284</td>\n",
       "      <td>4.335541</td>\n",
       "      <td>22909.0</td>\n",
       "      <td>Maggie Stiefvater</td>\n",
       "      <td>Blue Lily, Lily Blue (The Raven Cycle, #3)</td>\n",
       "      <td>{'Fantasy': 5121, 'Young Adult': 3651, 'Fantas...</td>\n",
       "      <td>2014</td>\n",
       "      <td>0.010204</td>\n",
       "      <td>98</td>\n",
       "    </tr>\n",
       "    <tr>\n",
       "      <th>98</th>\n",
       "      <td>23848559</td>\n",
       "      <td>5592</td>\n",
       "      <td>4.065629</td>\n",
       "      <td>22735.0</td>\n",
       "      <td>Jenny  Lawson</td>\n",
       "      <td>Furiously Happy: A Funny Book About Horrible T...</td>\n",
       "      <td>{'Nonfiction': 3138, 'Humor': 1914, 'Autobiogr...</td>\n",
       "      <td>2015</td>\n",
       "      <td>0.010101</td>\n",
       "      <td>99</td>\n",
       "    </tr>\n",
       "    <tr>\n",
       "      <th>99</th>\n",
       "      <td>18081809</td>\n",
       "      <td>6283</td>\n",
       "      <td>3.596689</td>\n",
       "      <td>22598.0</td>\n",
       "      <td>Rainbow Rowell</td>\n",
       "      <td>Landline</td>\n",
       "      <td>{'Fiction': 2393, 'Romance': 1881, 'Contempora...</td>\n",
       "      <td>2014</td>\n",
       "      <td>0.010000</td>\n",
       "      <td>100</td>\n",
       "    </tr>\n",
       "  </tbody>\n",
       "</table>\n",
       "<p>100 rows × 10 columns</p>\n",
       "</div>"
      ],
      "text/plain": [
       "     item_id  user_id  avg_rating  popularity_weighted  \\\n",
       "0   22557272    40690    3.788965             154173.0   \n",
       "1   29056083    25785    3.801784              98029.0   \n",
       "2   18007564    20207    4.321275              87320.0   \n",
       "3   18143977    19462    4.290669              83505.0   \n",
       "4   16096824    16770    4.301014              72128.0   \n",
       "..       ...      ...         ...                  ...   \n",
       "95  15704307     5322    4.410936              23475.0   \n",
       "96  22318578     6451    3.626104              23392.0   \n",
       "97  17378508     5284    4.335541              22909.0   \n",
       "98  23848559     5592    4.065629              22735.0   \n",
       "99  18081809     6283    3.596689              22598.0   \n",
       "\n",
       "                                     author  \\\n",
       "0                             Paula Hawkins   \n",
       "1   John Tiffany, Jack Thorne, J.K. Rowling   \n",
       "2                                 Andy Weir   \n",
       "3                             Anthony Doerr   \n",
       "4                             Sarah J. Maas   \n",
       "..                                      ...   \n",
       "95          Brian K. Vaughan, Fiona Staples   \n",
       "96                Marie Kondō, Cathy Hirano   \n",
       "97                        Maggie Stiefvater   \n",
       "98                            Jenny  Lawson   \n",
       "99                           Rainbow Rowell   \n",
       "\n",
       "                                                title  \\\n",
       "0                               The Girl on the Train   \n",
       "1   Harry Potter and the Cursed Child - Parts One ...   \n",
       "2                                         The Martian   \n",
       "3                         All the Light We Cannot See   \n",
       "4   A Court of Thorns and Roses (A Court of Thorns...   \n",
       "..                                                ...   \n",
       "95                            Saga, Vol. 1 (Saga, #1)   \n",
       "96  The Life-Changing Magic of Tidying Up: The Jap...   \n",
       "97         Blue Lily, Lily Blue (The Raven Cycle, #3)   \n",
       "98  Furiously Happy: A Funny Book About Horrible T...   \n",
       "99                                           Landline   \n",
       "\n",
       "                                      genre_and_votes  publication_year  \\\n",
       "0   {'Fiction': 9793, 'Mystery': 9190, 'Thriller':...              2015   \n",
       "1   {'Fantasy': 14466, 'Fiction': 4232, 'Young Adu...              2016   \n",
       "2         {'Science Fiction': 11966, 'Fiction': 8430}              2014   \n",
       "3   {'Historical-Historical Fiction': 13679, 'Fict...              2014   \n",
       "4   {'Fantasy': 14326, 'Young Adult': 4662, 'Roman...              2015   \n",
       "..                                                ...               ...   \n",
       "95  {'Sequential Art-Graphic Novels': 7803, 'Seque...              2012   \n",
       "96  {'Nonfiction': 6896, 'Self Help': 2846, 'Audio...              2014   \n",
       "97  {'Fantasy': 5121, 'Young Adult': 3651, 'Fantas...              2014   \n",
       "98  {'Nonfiction': 3138, 'Humor': 1914, 'Autobiogr...              2015   \n",
       "99  {'Fiction': 2393, 'Romance': 1881, 'Contempora...              2014   \n",
       "\n",
       "       score  rank  \n",
       "0   1.000000     1  \n",
       "1   0.500000     2  \n",
       "2   0.333333     3  \n",
       "3   0.250000     4  \n",
       "4   0.200000     5  \n",
       "..       ...   ...  \n",
       "95  0.010417    96  \n",
       "96  0.010309    97  \n",
       "97  0.010204    98  \n",
       "98  0.010101    99  \n",
       "99  0.010000   100  \n",
       "\n",
       "[100 rows x 10 columns]"
      ]
     },
     "execution_count": 13,
     "metadata": {},
     "output_type": "execute_result"
    }
   ],
   "source": [
    "top_recs"
   ]
  },
  {
   "cell_type": "code",
   "execution_count": 9,
   "id": "40555d5f-dbed-422d-abd0-4acafe18c24f",
   "metadata": {},
   "outputs": [
    {
     "data": {
      "text/html": [
       "<div>\n",
       "<style scoped>\n",
       "    .dataframe tbody tr th:only-of-type {\n",
       "        vertical-align: middle;\n",
       "    }\n",
       "\n",
       "    .dataframe tbody tr th {\n",
       "        vertical-align: top;\n",
       "    }\n",
       "\n",
       "    .dataframe thead th {\n",
       "        text-align: right;\n",
       "    }\n",
       "</style>\n",
       "<table border=\"1\" class=\"dataframe\">\n",
       "  <thead>\n",
       "    <tr style=\"text-align: right;\">\n",
       "      <th></th>\n",
       "      <th>user_id</th>\n",
       "      <th>item_id</th>\n",
       "      <th>score</th>\n",
       "    </tr>\n",
       "  </thead>\n",
       "  <tbody>\n",
       "    <tr>\n",
       "      <th>0</th>\n",
       "      <td>1000000</td>\n",
       "      <td>3</td>\n",
       "      <td>0.976627</td>\n",
       "    </tr>\n",
       "    <tr>\n",
       "      <th>1</th>\n",
       "      <td>1000000</td>\n",
       "      <td>15881</td>\n",
       "      <td>0.886149</td>\n",
       "    </tr>\n",
       "    <tr>\n",
       "      <th>2</th>\n",
       "      <td>1000000</td>\n",
       "      <td>5</td>\n",
       "      <td>0.857764</td>\n",
       "    </tr>\n",
       "    <tr>\n",
       "      <th>3</th>\n",
       "      <td>1000000</td>\n",
       "      <td>6</td>\n",
       "      <td>0.825622</td>\n",
       "    </tr>\n",
       "    <tr>\n",
       "      <th>4</th>\n",
       "      <td>1000000</td>\n",
       "      <td>2</td>\n",
       "      <td>0.781237</td>\n",
       "    </tr>\n",
       "    <tr>\n",
       "      <th>...</th>\n",
       "      <td>...</td>\n",
       "      <td>...</td>\n",
       "      <td>...</td>\n",
       "    </tr>\n",
       "    <tr>\n",
       "      <th>43068195</th>\n",
       "      <td>1430681</td>\n",
       "      <td>6900</td>\n",
       "      <td>0.098617</td>\n",
       "    </tr>\n",
       "    <tr>\n",
       "      <th>43068196</th>\n",
       "      <td>1430681</td>\n",
       "      <td>25574782</td>\n",
       "      <td>0.098023</td>\n",
       "    </tr>\n",
       "    <tr>\n",
       "      <th>43068197</th>\n",
       "      <td>1430681</td>\n",
       "      <td>29610595</td>\n",
       "      <td>0.097793</td>\n",
       "    </tr>\n",
       "    <tr>\n",
       "      <th>43068198</th>\n",
       "      <td>1430681</td>\n",
       "      <td>8949352</td>\n",
       "      <td>0.096381</td>\n",
       "    </tr>\n",
       "    <tr>\n",
       "      <th>43068199</th>\n",
       "      <td>1430681</td>\n",
       "      <td>22738563</td>\n",
       "      <td>0.096285</td>\n",
       "    </tr>\n",
       "  </tbody>\n",
       "</table>\n",
       "<p>43068200 rows × 3 columns</p>\n",
       "</div>"
      ],
      "text/plain": [
       "          user_id   item_id     score\n",
       "0         1000000         3  0.976627\n",
       "1         1000000     15881  0.886149\n",
       "2         1000000         5  0.857764\n",
       "3         1000000         6  0.825622\n",
       "4         1000000         2  0.781237\n",
       "...           ...       ...       ...\n",
       "43068195  1430681      6900  0.098617\n",
       "43068196  1430681  25574782  0.098023\n",
       "43068197  1430681  29610595  0.097793\n",
       "43068198  1430681   8949352  0.096381\n",
       "43068199  1430681  22738563  0.096285\n",
       "\n",
       "[43068200 rows x 3 columns]"
      ]
     },
     "execution_count": 9,
     "metadata": {},
     "output_type": "execute_result"
    }
   ],
   "source": [
    "als_recommendations"
   ]
  },
  {
   "cell_type": "code",
   "execution_count": null,
   "id": "28f3f2c5-691b-4e35-a458-c1c0b8a980b9",
   "metadata": {},
   "outputs": [],
   "source": []
  }
 ],
 "metadata": {
  "colab": {
   "provenance": []
  },
  "kernelspec": {
   "display_name": "Python 3 (ipykernel)",
   "language": "python",
   "name": "python3"
  },
  "language_info": {
   "codemirror_mode": {
    "name": "ipython",
    "version": 3
   },
   "file_extension": ".py",
   "mimetype": "text/x-python",
   "name": "python",
   "nbconvert_exporter": "python",
   "pygments_lexer": "ipython3",
   "version": "3.10.17"
  },
  "widgets": {
   "application/vnd.jupyter.widget-state+json": {
    "16e3397e3ce24d1280162d3247577439": {
     "model_module": "@jupyter-widgets/controls",
     "model_module_version": "1.5.0",
     "model_name": "ProgressStyleModel",
     "state": {
      "_model_module": "@jupyter-widgets/controls",
      "_model_module_version": "1.5.0",
      "_model_name": "ProgressStyleModel",
      "_view_count": null,
      "_view_module": "@jupyter-widgets/base",
      "_view_module_version": "1.2.0",
      "_view_name": "StyleView",
      "bar_color": null,
      "description_width": ""
     }
    },
    "1f8d7d0333944b9c95ec2bc6b8cc8d0f": {
     "model_module": "@jupyter-widgets/base",
     "model_module_version": "1.2.0",
     "model_name": "LayoutModel",
     "state": {
      "_model_module": "@jupyter-widgets/base",
      "_model_module_version": "1.2.0",
      "_model_name": "LayoutModel",
      "_view_count": null,
      "_view_module": "@jupyter-widgets/base",
      "_view_module_version": "1.2.0",
      "_view_name": "LayoutView",
      "align_content": null,
      "align_items": null,
      "align_self": null,
      "border": null,
      "bottom": null,
      "display": null,
      "flex": null,
      "flex_flow": null,
      "grid_area": null,
      "grid_auto_columns": null,
      "grid_auto_flow": null,
      "grid_auto_rows": null,
      "grid_column": null,
      "grid_gap": null,
      "grid_row": null,
      "grid_template_areas": null,
      "grid_template_columns": null,
      "grid_template_rows": null,
      "height": null,
      "justify_content": null,
      "justify_items": null,
      "left": null,
      "margin": null,
      "max_height": null,
      "max_width": null,
      "min_height": null,
      "min_width": null,
      "object_fit": null,
      "object_position": null,
      "order": null,
      "overflow": null,
      "overflow_x": null,
      "overflow_y": null,
      "padding": null,
      "right": null,
      "top": null,
      "visibility": null,
      "width": null
     }
    },
    "299bdbf1588a464bb8538c58dc4ad8ca": {
     "model_module": "@jupyter-widgets/controls",
     "model_module_version": "1.5.0",
     "model_name": "HTMLModel",
     "state": {
      "_dom_classes": [],
      "_model_module": "@jupyter-widgets/controls",
      "_model_module_version": "1.5.0",
      "_model_name": "HTMLModel",
      "_view_count": null,
      "_view_module": "@jupyter-widgets/controls",
      "_view_module_version": "1.5.0",
      "_view_name": "HTMLView",
      "description": "",
      "description_tooltip": null,
      "layout": "IPY_MODEL_1f8d7d0333944b9c95ec2bc6b8cc8d0f",
      "placeholder": "​",
      "style": "IPY_MODEL_e08fbcc2ba7c4585b7da270e2b1e28eb",
      "value": " 50/50 [08:54&lt;00:00, 10.64s/it]"
     }
    },
    "3aa40491bf3f4f6e865199bbe1322a78": {
     "model_module": "@jupyter-widgets/controls",
     "model_module_version": "1.5.0",
     "model_name": "HTMLModel",
     "state": {
      "_dom_classes": [],
      "_model_module": "@jupyter-widgets/controls",
      "_model_module_version": "1.5.0",
      "_model_name": "HTMLModel",
      "_view_count": null,
      "_view_module": "@jupyter-widgets/controls",
      "_view_module_version": "1.5.0",
      "_view_name": "HTMLView",
      "description": "",
      "description_tooltip": null,
      "layout": "IPY_MODEL_ed0a5e377bd349a2b996505fb5219cac",
      "placeholder": "​",
      "style": "IPY_MODEL_aa27aae7e82b41a6ab2ab8718bab168b",
      "value": "100%"
     }
    },
    "41b832f24a31494e9b476c894fa4eedc": {
     "model_module": "@jupyter-widgets/base",
     "model_module_version": "1.2.0",
     "model_name": "LayoutModel",
     "state": {
      "_model_module": "@jupyter-widgets/base",
      "_model_module_version": "1.2.0",
      "_model_name": "LayoutModel",
      "_view_count": null,
      "_view_module": "@jupyter-widgets/base",
      "_view_module_version": "1.2.0",
      "_view_name": "LayoutView",
      "align_content": null,
      "align_items": null,
      "align_self": null,
      "border": null,
      "bottom": null,
      "display": null,
      "flex": null,
      "flex_flow": null,
      "grid_area": null,
      "grid_auto_columns": null,
      "grid_auto_flow": null,
      "grid_auto_rows": null,
      "grid_column": null,
      "grid_gap": null,
      "grid_row": null,
      "grid_template_areas": null,
      "grid_template_columns": null,
      "grid_template_rows": null,
      "height": null,
      "justify_content": null,
      "justify_items": null,
      "left": null,
      "margin": null,
      "max_height": null,
      "max_width": null,
      "min_height": null,
      "min_width": null,
      "object_fit": null,
      "object_position": null,
      "order": null,
      "overflow": null,
      "overflow_x": null,
      "overflow_y": null,
      "padding": null,
      "right": null,
      "top": null,
      "visibility": null,
      "width": null
     }
    },
    "5686e3d1f1284a87ba7a3d29c86e4dc3": {
     "model_module": "@jupyter-widgets/base",
     "model_module_version": "1.2.0",
     "model_name": "LayoutModel",
     "state": {
      "_model_module": "@jupyter-widgets/base",
      "_model_module_version": "1.2.0",
      "_model_name": "LayoutModel",
      "_view_count": null,
      "_view_module": "@jupyter-widgets/base",
      "_view_module_version": "1.2.0",
      "_view_name": "LayoutView",
      "align_content": null,
      "align_items": null,
      "align_self": null,
      "border": null,
      "bottom": null,
      "display": null,
      "flex": null,
      "flex_flow": null,
      "grid_area": null,
      "grid_auto_columns": null,
      "grid_auto_flow": null,
      "grid_auto_rows": null,
      "grid_column": null,
      "grid_gap": null,
      "grid_row": null,
      "grid_template_areas": null,
      "grid_template_columns": null,
      "grid_template_rows": null,
      "height": null,
      "justify_content": null,
      "justify_items": null,
      "left": null,
      "margin": null,
      "max_height": null,
      "max_width": null,
      "min_height": null,
      "min_width": null,
      "object_fit": null,
      "object_position": null,
      "order": null,
      "overflow": null,
      "overflow_x": null,
      "overflow_y": null,
      "padding": null,
      "right": null,
      "top": null,
      "visibility": null,
      "width": null
     }
    },
    "858dd286e6b94eb58a79386df7849e24": {
     "model_module": "@jupyter-widgets/controls",
     "model_module_version": "1.5.0",
     "model_name": "HBoxModel",
     "state": {
      "_dom_classes": [],
      "_model_module": "@jupyter-widgets/controls",
      "_model_module_version": "1.5.0",
      "_model_name": "HBoxModel",
      "_view_count": null,
      "_view_module": "@jupyter-widgets/controls",
      "_view_module_version": "1.5.0",
      "_view_name": "HBoxView",
      "box_style": "",
      "children": [
       "IPY_MODEL_3aa40491bf3f4f6e865199bbe1322a78",
       "IPY_MODEL_a105b7c9835f4e849b1728c2bb6ddc23",
       "IPY_MODEL_299bdbf1588a464bb8538c58dc4ad8ca"
      ],
      "layout": "IPY_MODEL_5686e3d1f1284a87ba7a3d29c86e4dc3"
     }
    },
    "a105b7c9835f4e849b1728c2bb6ddc23": {
     "model_module": "@jupyter-widgets/controls",
     "model_module_version": "1.5.0",
     "model_name": "FloatProgressModel",
     "state": {
      "_dom_classes": [],
      "_model_module": "@jupyter-widgets/controls",
      "_model_module_version": "1.5.0",
      "_model_name": "FloatProgressModel",
      "_view_count": null,
      "_view_module": "@jupyter-widgets/controls",
      "_view_module_version": "1.5.0",
      "_view_name": "ProgressView",
      "bar_style": "success",
      "description": "",
      "description_tooltip": null,
      "layout": "IPY_MODEL_41b832f24a31494e9b476c894fa4eedc",
      "max": 50,
      "min": 0,
      "orientation": "horizontal",
      "style": "IPY_MODEL_16e3397e3ce24d1280162d3247577439",
      "value": 50
     }
    },
    "aa27aae7e82b41a6ab2ab8718bab168b": {
     "model_module": "@jupyter-widgets/controls",
     "model_module_version": "1.5.0",
     "model_name": "DescriptionStyleModel",
     "state": {
      "_model_module": "@jupyter-widgets/controls",
      "_model_module_version": "1.5.0",
      "_model_name": "DescriptionStyleModel",
      "_view_count": null,
      "_view_module": "@jupyter-widgets/base",
      "_view_module_version": "1.2.0",
      "_view_name": "StyleView",
      "description_width": ""
     }
    },
    "e08fbcc2ba7c4585b7da270e2b1e28eb": {
     "model_module": "@jupyter-widgets/controls",
     "model_module_version": "1.5.0",
     "model_name": "DescriptionStyleModel",
     "state": {
      "_model_module": "@jupyter-widgets/controls",
      "_model_module_version": "1.5.0",
      "_model_name": "DescriptionStyleModel",
      "_view_count": null,
      "_view_module": "@jupyter-widgets/base",
      "_view_module_version": "1.2.0",
      "_view_name": "StyleView",
      "description_width": ""
     }
    },
    "ed0a5e377bd349a2b996505fb5219cac": {
     "model_module": "@jupyter-widgets/base",
     "model_module_version": "1.2.0",
     "model_name": "LayoutModel",
     "state": {
      "_model_module": "@jupyter-widgets/base",
      "_model_module_version": "1.2.0",
      "_model_name": "LayoutModel",
      "_view_count": null,
      "_view_module": "@jupyter-widgets/base",
      "_view_module_version": "1.2.0",
      "_view_name": "LayoutView",
      "align_content": null,
      "align_items": null,
      "align_self": null,
      "border": null,
      "bottom": null,
      "display": null,
      "flex": null,
      "flex_flow": null,
      "grid_area": null,
      "grid_auto_columns": null,
      "grid_auto_flow": null,
      "grid_auto_rows": null,
      "grid_column": null,
      "grid_gap": null,
      "grid_row": null,
      "grid_template_areas": null,
      "grid_template_columns": null,
      "grid_template_rows": null,
      "height": null,
      "justify_content": null,
      "justify_items": null,
      "left": null,
      "margin": null,
      "max_height": null,
      "max_width": null,
      "min_height": null,
      "min_width": null,
      "object_fit": null,
      "object_position": null,
      "order": null,
      "overflow": null,
      "overflow_x": null,
      "overflow_y": null,
      "padding": null,
      "right": null,
      "top": null,
      "visibility": null,
      "width": null
     }
    }
   }
  }
 },
 "nbformat": 4,
 "nbformat_minor": 5
}
